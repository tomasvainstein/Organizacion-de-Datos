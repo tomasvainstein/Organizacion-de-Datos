{
  "cells": [
    {
      "cell_type": "markdown",
      "metadata": {
        "id": "IcjsY5GFaxvG"
      },
      "source": [
        "# Trabajo Práctico 1: Reservas de Hotel - CHP4\n",
        "## Grupo 05 - Medialunas 🥐\n",
        "\n",
        "### Integrantes:\n",
        "| Integrante                              | Número de Padrón |\n",
        "|----------------------------------------|------------------|\n",
        "| Iara Elizabeth Jolodovsky      | 109385           |\n",
        "| Tomas Vainstein Aranguren      | 109043           |\n",
        "| Martin Abramovich              | 108762           |"
      ]
    },
    {
      "cell_type": "markdown",
      "metadata": {
        "id": "bSr4YmRnZVrv"
      },
      "source": [
        "## Librerias"
      ]
    },
    {
      "cell_type": "code",
      "execution_count": 36,
      "metadata": {
        "colab": {
          "base_uri": "https://localhost:8080/",
          "height": 1000
        },
        "id": "lj8PxsmhZYfK",
        "outputId": "92f3bf51-ab2c-449f-a7a3-68d33e0341b7"
      },
      "outputs": [
        {
          "output_type": "stream",
          "name": "stdout",
          "text": [
            "Requirement already satisfied: dtreeviz in /usr/local/lib/python3.10/dist-packages (2.2.2)\n",
            "Requirement already satisfied: graphviz>=0.9 in /usr/local/lib/python3.10/dist-packages (from dtreeviz) (0.20.1)\n",
            "Requirement already satisfied: pandas in /usr/local/lib/python3.10/dist-packages (from dtreeviz) (1.5.3)\n",
            "Requirement already satisfied: numpy in /usr/local/lib/python3.10/dist-packages (from dtreeviz) (1.23.5)\n",
            "Requirement already satisfied: scikit-learn in /usr/local/lib/python3.10/dist-packages (from dtreeviz) (1.2.2)\n",
            "Requirement already satisfied: matplotlib in /usr/local/lib/python3.10/dist-packages (from dtreeviz) (3.7.1)\n",
            "Requirement already satisfied: colour in /usr/local/lib/python3.10/dist-packages (from dtreeviz) (0.1.5)\n",
            "Requirement already satisfied: pytest in /usr/local/lib/python3.10/dist-packages (from dtreeviz) (7.4.3)\n",
            "Requirement already satisfied: contourpy>=1.0.1 in /usr/local/lib/python3.10/dist-packages (from matplotlib->dtreeviz) (1.1.1)\n",
            "Requirement already satisfied: cycler>=0.10 in /usr/local/lib/python3.10/dist-packages (from matplotlib->dtreeviz) (0.12.1)\n",
            "Requirement already satisfied: fonttools>=4.22.0 in /usr/local/lib/python3.10/dist-packages (from matplotlib->dtreeviz) (4.43.1)\n",
            "Requirement already satisfied: kiwisolver>=1.0.1 in /usr/local/lib/python3.10/dist-packages (from matplotlib->dtreeviz) (1.4.5)\n",
            "Requirement already satisfied: packaging>=20.0 in /usr/local/lib/python3.10/dist-packages (from matplotlib->dtreeviz) (23.2)\n",
            "Requirement already satisfied: pillow>=6.2.0 in /usr/local/lib/python3.10/dist-packages (from matplotlib->dtreeviz) (9.4.0)\n",
            "Requirement already satisfied: pyparsing>=2.3.1 in /usr/local/lib/python3.10/dist-packages (from matplotlib->dtreeviz) (3.1.1)\n",
            "Requirement already satisfied: python-dateutil>=2.7 in /usr/local/lib/python3.10/dist-packages (from matplotlib->dtreeviz) (2.8.2)\n",
            "Requirement already satisfied: pytz>=2020.1 in /usr/local/lib/python3.10/dist-packages (from pandas->dtreeviz) (2023.3.post1)\n",
            "Requirement already satisfied: iniconfig in /usr/local/lib/python3.10/dist-packages (from pytest->dtreeviz) (2.0.0)\n",
            "Requirement already satisfied: pluggy<2.0,>=0.12 in /usr/local/lib/python3.10/dist-packages (from pytest->dtreeviz) (1.3.0)\n",
            "Requirement already satisfied: exceptiongroup>=1.0.0rc8 in /usr/local/lib/python3.10/dist-packages (from pytest->dtreeviz) (1.1.3)\n",
            "Requirement already satisfied: tomli>=1.0.0 in /usr/local/lib/python3.10/dist-packages (from pytest->dtreeviz) (2.0.1)\n",
            "Requirement already satisfied: scipy>=1.3.2 in /usr/local/lib/python3.10/dist-packages (from scikit-learn->dtreeviz) (1.11.3)\n",
            "Requirement already satisfied: joblib>=1.1.1 in /usr/local/lib/python3.10/dist-packages (from scikit-learn->dtreeviz) (1.3.2)\n",
            "Requirement already satisfied: threadpoolctl>=2.0.0 in /usr/local/lib/python3.10/dist-packages (from scikit-learn->dtreeviz) (3.2.0)\n",
            "Requirement already satisfied: six>=1.5 in /usr/local/lib/python3.10/dist-packages (from python-dateutil>=2.7->matplotlib->dtreeviz) (1.16.0)\n",
            "Requirement already satisfied: keras==2.12.0 in /usr/local/lib/python3.10/dist-packages (2.12.0)\n",
            "Found existing installation: tensorflow 2.12.0\n",
            "Uninstalling tensorflow-2.12.0:\n",
            "  Successfully uninstalled tensorflow-2.12.0\n",
            "Collecting tensorflow==2.12.0\n",
            "  Using cached tensorflow-2.12.0-cp310-cp310-manylinux_2_17_x86_64.manylinux2014_x86_64.whl (585.9 MB)\n",
            "Requirement already satisfied: absl-py>=1.0.0 in /usr/local/lib/python3.10/dist-packages (from tensorflow==2.12.0) (1.4.0)\n",
            "Requirement already satisfied: astunparse>=1.6.0 in /usr/local/lib/python3.10/dist-packages (from tensorflow==2.12.0) (1.6.3)\n",
            "Requirement already satisfied: flatbuffers>=2.0 in /usr/local/lib/python3.10/dist-packages (from tensorflow==2.12.0) (23.5.26)\n",
            "Requirement already satisfied: gast<=0.4.0,>=0.2.1 in /usr/local/lib/python3.10/dist-packages (from tensorflow==2.12.0) (0.4.0)\n",
            "Requirement already satisfied: google-pasta>=0.1.1 in /usr/local/lib/python3.10/dist-packages (from tensorflow==2.12.0) (0.2.0)\n",
            "Requirement already satisfied: grpcio<2.0,>=1.24.3 in /usr/local/lib/python3.10/dist-packages (from tensorflow==2.12.0) (1.59.0)\n",
            "Requirement already satisfied: h5py>=2.9.0 in /usr/local/lib/python3.10/dist-packages (from tensorflow==2.12.0) (3.9.0)\n",
            "Requirement already satisfied: jax>=0.3.15 in /usr/local/lib/python3.10/dist-packages (from tensorflow==2.12.0) (0.4.16)\n",
            "Requirement already satisfied: keras<2.13,>=2.12.0 in /usr/local/lib/python3.10/dist-packages (from tensorflow==2.12.0) (2.12.0)\n",
            "Requirement already satisfied: libclang>=13.0.0 in /usr/local/lib/python3.10/dist-packages (from tensorflow==2.12.0) (16.0.6)\n",
            "Requirement already satisfied: numpy<1.24,>=1.22 in /usr/local/lib/python3.10/dist-packages (from tensorflow==2.12.0) (1.23.5)\n",
            "Requirement already satisfied: opt-einsum>=2.3.2 in /usr/local/lib/python3.10/dist-packages (from tensorflow==2.12.0) (3.3.0)\n",
            "Requirement already satisfied: packaging in /usr/local/lib/python3.10/dist-packages (from tensorflow==2.12.0) (23.2)\n",
            "Requirement already satisfied: protobuf!=4.21.0,!=4.21.1,!=4.21.2,!=4.21.3,!=4.21.4,!=4.21.5,<5.0.0dev,>=3.20.3 in /usr/local/lib/python3.10/dist-packages (from tensorflow==2.12.0) (3.20.3)\n",
            "Requirement already satisfied: setuptools in /usr/local/lib/python3.10/dist-packages (from tensorflow==2.12.0) (67.7.2)\n",
            "Requirement already satisfied: six>=1.12.0 in /usr/local/lib/python3.10/dist-packages (from tensorflow==2.12.0) (1.16.0)\n",
            "Requirement already satisfied: tensorboard<2.13,>=2.12 in /usr/local/lib/python3.10/dist-packages (from tensorflow==2.12.0) (2.12.3)\n",
            "Requirement already satisfied: tensorflow-estimator<2.13,>=2.12.0 in /usr/local/lib/python3.10/dist-packages (from tensorflow==2.12.0) (2.12.0)\n",
            "Requirement already satisfied: termcolor>=1.1.0 in /usr/local/lib/python3.10/dist-packages (from tensorflow==2.12.0) (2.3.0)\n",
            "Requirement already satisfied: typing-extensions>=3.6.6 in /usr/local/lib/python3.10/dist-packages (from tensorflow==2.12.0) (4.5.0)\n",
            "Requirement already satisfied: wrapt<1.15,>=1.11.0 in /usr/local/lib/python3.10/dist-packages (from tensorflow==2.12.0) (1.14.1)\n",
            "Requirement already satisfied: tensorflow-io-gcs-filesystem>=0.23.1 in /usr/local/lib/python3.10/dist-packages (from tensorflow==2.12.0) (0.34.0)\n",
            "Requirement already satisfied: wheel<1.0,>=0.23.0 in /usr/local/lib/python3.10/dist-packages (from astunparse>=1.6.0->tensorflow==2.12.0) (0.41.2)\n",
            "Requirement already satisfied: ml-dtypes>=0.2.0 in /usr/local/lib/python3.10/dist-packages (from jax>=0.3.15->tensorflow==2.12.0) (0.2.0)\n",
            "Requirement already satisfied: scipy>=1.7 in /usr/local/lib/python3.10/dist-packages (from jax>=0.3.15->tensorflow==2.12.0) (1.11.3)\n",
            "Requirement already satisfied: google-auth<3,>=1.6.3 in /usr/local/lib/python3.10/dist-packages (from tensorboard<2.13,>=2.12->tensorflow==2.12.0) (2.17.3)\n",
            "Requirement already satisfied: google-auth-oauthlib<1.1,>=0.5 in /usr/local/lib/python3.10/dist-packages (from tensorboard<2.13,>=2.12->tensorflow==2.12.0) (1.0.0)\n",
            "Requirement already satisfied: markdown>=2.6.8 in /usr/local/lib/python3.10/dist-packages (from tensorboard<2.13,>=2.12->tensorflow==2.12.0) (3.5)\n",
            "Requirement already satisfied: requests<3,>=2.21.0 in /usr/local/lib/python3.10/dist-packages (from tensorboard<2.13,>=2.12->tensorflow==2.12.0) (2.31.0)\n",
            "Requirement already satisfied: tensorboard-data-server<0.8.0,>=0.7.0 in /usr/local/lib/python3.10/dist-packages (from tensorboard<2.13,>=2.12->tensorflow==2.12.0) (0.7.2)\n",
            "Requirement already satisfied: werkzeug>=1.0.1 in /usr/local/lib/python3.10/dist-packages (from tensorboard<2.13,>=2.12->tensorflow==2.12.0) (3.0.1)\n",
            "Requirement already satisfied: cachetools<6.0,>=2.0.0 in /usr/local/lib/python3.10/dist-packages (from google-auth<3,>=1.6.3->tensorboard<2.13,>=2.12->tensorflow==2.12.0) (5.3.2)\n",
            "Requirement already satisfied: pyasn1-modules>=0.2.1 in /usr/local/lib/python3.10/dist-packages (from google-auth<3,>=1.6.3->tensorboard<2.13,>=2.12->tensorflow==2.12.0) (0.3.0)\n",
            "Requirement already satisfied: rsa<5,>=3.1.4 in /usr/local/lib/python3.10/dist-packages (from google-auth<3,>=1.6.3->tensorboard<2.13,>=2.12->tensorflow==2.12.0) (4.9)\n",
            "Requirement already satisfied: requests-oauthlib>=0.7.0 in /usr/local/lib/python3.10/dist-packages (from google-auth-oauthlib<1.1,>=0.5->tensorboard<2.13,>=2.12->tensorflow==2.12.0) (1.3.1)\n",
            "Requirement already satisfied: charset-normalizer<4,>=2 in /usr/local/lib/python3.10/dist-packages (from requests<3,>=2.21.0->tensorboard<2.13,>=2.12->tensorflow==2.12.0) (3.3.1)\n",
            "Requirement already satisfied: idna<4,>=2.5 in /usr/local/lib/python3.10/dist-packages (from requests<3,>=2.21.0->tensorboard<2.13,>=2.12->tensorflow==2.12.0) (3.4)\n",
            "Requirement already satisfied: urllib3<3,>=1.21.1 in /usr/local/lib/python3.10/dist-packages (from requests<3,>=2.21.0->tensorboard<2.13,>=2.12->tensorflow==2.12.0) (2.0.7)\n",
            "Requirement already satisfied: certifi>=2017.4.17 in /usr/local/lib/python3.10/dist-packages (from requests<3,>=2.21.0->tensorboard<2.13,>=2.12->tensorflow==2.12.0) (2023.7.22)\n",
            "Requirement already satisfied: MarkupSafe>=2.1.1 in /usr/local/lib/python3.10/dist-packages (from werkzeug>=1.0.1->tensorboard<2.13,>=2.12->tensorflow==2.12.0) (2.1.3)\n",
            "Requirement already satisfied: pyasn1<0.6.0,>=0.4.6 in /usr/local/lib/python3.10/dist-packages (from pyasn1-modules>=0.2.1->google-auth<3,>=1.6.3->tensorboard<2.13,>=2.12->tensorflow==2.12.0) (0.5.0)\n",
            "Requirement already satisfied: oauthlib>=3.0.0 in /usr/local/lib/python3.10/dist-packages (from requests-oauthlib>=0.7.0->google-auth-oauthlib<1.1,>=0.5->tensorboard<2.13,>=2.12->tensorflow==2.12.0) (3.2.2)\n",
            "Installing collected packages: tensorflow\n",
            "Successfully installed tensorflow-2.12.0\n"
          ]
        },
        {
          "output_type": "display_data",
          "data": {
            "application/vnd.colab-display-data+json": {
              "pip_warning": {
                "packages": [
                  "tensorflow"
                ]
              }
            }
          },
          "metadata": {}
        }
      ],
      "source": [
        "!pip install 'dtreeviz'\n",
        "!pip install keras==2.12.0\n",
        "!pip uninstall tensorflow -y\n",
        "!pip install tensorflow==2.12.0"
      ]
    },
    {
      "cell_type": "code",
      "execution_count": 37,
      "metadata": {
        "id": "jY93Vy4LZixh"
      },
      "outputs": [],
      "source": [
        "import pandas as pd\n",
        "import numpy as np\n",
        "import sklearn as sk\n",
        "import pickle\n",
        "import seaborn as sns\n",
        "import pydotplus\n",
        "from six import StringIO\n",
        "from IPython.display import Image\n",
        "from matplotlib import pyplot as plt\n",
        "from joblib import dump, load\n",
        "from os.path import exists\n",
        "\n",
        "from sklearn.model_selection import StratifiedKFold, KFold,RandomizedSearchCV, train_test_split, cross_validate\n",
        "from sklearn.tree import DecisionTreeClassifier, export_graphviz, export_text\n",
        "from sklearn.metrics import confusion_matrix, classification_report , f1_score, make_scorer, precision_score, recall_score, accuracy_score,f1_score\n",
        "from sklearn.preprocessing import MinMaxScaler\n",
        "from sklearn import tree\n",
        "from sklearn.preprocessing import OneHotEncoder, StandardScaler\n",
        "\n",
        "\n",
        "from sklearn.model_selection import GridSearchCV\n",
        "from sklearn.model_selection import train_test_split, RandomizedSearchCV, GridSearchCV, cross_val_score\n",
        "\n",
        "from sklearn.metrics import confusion_matrix, classification_report\n",
        "from sklearn.metrics import accuracy_score\n",
        "from tensorflow.keras.wrappers.scikit_learn import KerasClassifier\n",
        "#Para eliminar los warnings\n",
        "import warnings\n",
        "warnings.simplefilter(action='ignore', category=FutureWarning)\n",
        "warnings.simplefilter(action='ignore', category=UserWarning)\n",
        "\n",
        "import tensorflow as tf\n",
        "from tensorflow import keras\n",
        "\n",
        "np.random.seed(1)\n",
        "tf.random.set_seed(1)\n",
        "\n",
        "#configuración warnings\n",
        "import warnings\n",
        "warnings.simplefilter(action='ignore', category=FutureWarning)\n",
        "warnings.simplefilter(action='ignore', category=UserWarning)\n",
        "warnings.filterwarnings(\"ignore\", category=DeprecationWarning)"
      ]
    },
    {
      "cell_type": "markdown",
      "source": [
        "## Funciones"
      ],
      "metadata": {
        "id": "ynZjN65TJ-tX"
      }
    },
    {
      "cell_type": "code",
      "source": [
        "def metricas(y_pred,y_test):\n",
        "\n",
        "  print(classification_report(y_test,y_pred))\n",
        "\n",
        "  cm = confusion_matrix(y_test,y_pred)\n",
        "  sns.heatmap(cm, cmap='Blues',annot=True,fmt='g')\n",
        "  plt.xlabel('Predicted')\n",
        "  plt.ylabel('True')"
      ],
      "metadata": {
        "id": "p3i9p5w6KAI6"
      },
      "execution_count": 38,
      "outputs": []
    },
    {
      "cell_type": "markdown",
      "metadata": {
        "id": "oGcKpo4zZoB3"
      },
      "source": [
        "**Cargamos el dataset de hotels train ya procesado en el CHP1 y el dataset hotels_test el cual debemos preprocesar igual que el train**"
      ]
    },
    {
      "cell_type": "code",
      "execution_count": 39,
      "metadata": {
        "id": "uNg3JtTwZzMb"
      },
      "outputs": [],
      "source": [
        "ds_hotels_train = pd.read_csv('./df_final_chp1.csv')\n",
        "ds_training = ds_hotels_train.copy(deep=True)\n",
        "ds_training['arrival_date'] = pd.to_datetime(ds_training['arrival_date'])"
      ]
    },
    {
      "cell_type": "code",
      "execution_count": 40,
      "metadata": {
        "colab": {
          "base_uri": "https://localhost:8080/"
        },
        "id": "Blw4G-ILazu4",
        "outputId": "6ff5729f-11d1-487d-c76f-0a385972b4de"
      },
      "outputs": [
        {
          "output_type": "execute_result",
          "data": {
            "text/plain": [
              "(26535, 31)"
            ]
          },
          "metadata": {},
          "execution_count": 40
        }
      ],
      "source": [
        "ds_hotels_test = pd.read_csv('./hotels_test.csv')\n",
        "ds_testing_conId = ds_hotels_test.copy(deep=True)\n",
        "ds_testing_conId.shape"
      ]
    },
    {
      "cell_type": "markdown",
      "metadata": {
        "id": "UMplNq4pfJfW"
      },
      "source": [
        "Concatenamos arrival_date_year, arrival_date_month y arrival_date_day_of_month y unificamos en una variable arrival_date"
      ]
    },
    {
      "cell_type": "code",
      "execution_count": 41,
      "metadata": {
        "id": "ErTuAnKLfPcN"
      },
      "outputs": [],
      "source": [
        "ds_testing_conId['arrival_date'] = ds_testing_conId['arrival_date_year'].astype(str) + '-' + ds_testing_conId['arrival_date_month'] + '-' + ds_testing_conId['arrival_date_day_of_month'].astype(str)\n",
        "ds_testing_conId.drop(columns=['arrival_date_year', 'arrival_date_month', 'arrival_date_day_of_month'], inplace=True)\n",
        "ds_testing_conId['arrival_date'] = pd.to_datetime(ds_testing_conId['arrival_date'])"
      ]
    },
    {
      "cell_type": "markdown",
      "metadata": {
        "id": "T_O24J7TdCvD"
      },
      "source": [
        "Y pasamos child de float a int"
      ]
    },
    {
      "cell_type": "code",
      "execution_count": 42,
      "metadata": {
        "id": "0r7y1ANudE5Q"
      },
      "outputs": [],
      "source": [
        "ds_testing_conId['children'] = ds_testing_conId['children'].astype(int)"
      ]
    },
    {
      "cell_type": "markdown",
      "metadata": {
        "id": "5Xn6W6kqdttf"
      },
      "source": [
        "Juntamos children y babies"
      ]
    },
    {
      "cell_type": "code",
      "execution_count": 43,
      "metadata": {
        "id": "D8XrZP4TdvpU"
      },
      "outputs": [],
      "source": [
        "ds_testing_conId['minors'] = ds_testing_conId['children'] + ds_testing_conId['babies']\n",
        "\n",
        "ds_testing_conId = ds_testing_conId.drop(columns=['children', 'babies'])"
      ]
    },
    {
      "cell_type": "code",
      "execution_count": 44,
      "metadata": {
        "colab": {
          "base_uri": "https://localhost:8080/",
          "height": 516
        },
        "id": "CT0As3VthFu5",
        "outputId": "323d394d-79d1-4d4c-b85d-b02e8f9461f3"
      },
      "outputs": [
        {
          "output_type": "execute_result",
          "data": {
            "text/plain": [
              "          hotel  lead_time  arrival_date_week_number  stays_in_weekend_nights  \\\n",
              "0    City Hotel        277                        46                        1   \n",
              "1    City Hotel        286                        20                        0   \n",
              "2    City Hotel          0                        35                        0   \n",
              "3  Resort Hotel        196                        44                        2   \n",
              "4  Resort Hotel        232                        48                        2   \n",
              "\n",
              "   stays_in_week_nights  adults meal country market_segment  \\\n",
              "0                     2       2   BB     PRT         Groups   \n",
              "1                     4       2   BB     PRT         Groups   \n",
              "2                     1       3   BB     FRA      Online TA   \n",
              "3                     5       2   BB     DEU      Online TA   \n",
              "4                     1       2   BB     PRT         Groups   \n",
              "\n",
              "  distribution_channel  ...  company  days_in_waiting_list    customer_type  \\\n",
              "0                TA/TO  ...      NaN                     0        Transient   \n",
              "1                TA/TO  ...      NaN                   176  Transient-Party   \n",
              "2                TA/TO  ...      NaN                     0        Transient   \n",
              "3                TA/TO  ...      NaN                     0        Transient   \n",
              "4                TA/TO  ...      NaN                     0        Transient   \n",
              "\n",
              "     adr required_car_parking_spaces  total_of_special_requests  \\\n",
              "0  100.0                           0                          0   \n",
              "1  101.0                           0                          0   \n",
              "2  225.0                           0                          2   \n",
              "3   96.0                           0                          0   \n",
              "4   30.0                           0                          0   \n",
              "\n",
              "  reservation_status_date                                    id  arrival_date  \\\n",
              "0              2016-04-04  e6d0d58a-ab96-44d3-b28f-85df1cc15f1e    2016-11-07   \n",
              "1              2016-01-22  aba9aac2-4495-4645-a60e-90328713c999    2016-05-11   \n",
              "2              2016-08-24  b345b5dc-c804-4d77-a39f-1f4e65d1f1ad    2016-08-23   \n",
              "3              2016-11-05  ce1b400e-afa1-4946-bdff-004b859eb61c    2016-10-29   \n",
              "4              2016-10-18  c4fbec0d-8e2e-4db2-9d4f-a6ccb9f51214    2016-11-26   \n",
              "\n",
              "   minors  \n",
              "0       0  \n",
              "1       0  \n",
              "2       0  \n",
              "3       2  \n",
              "4       0  \n",
              "\n",
              "[5 rows x 28 columns]"
            ],
            "text/html": [
              "\n",
              "  <div id=\"df-75237d47-f29b-4f8c-9058-162ebeffa274\" class=\"colab-df-container\">\n",
              "    <div>\n",
              "<style scoped>\n",
              "    .dataframe tbody tr th:only-of-type {\n",
              "        vertical-align: middle;\n",
              "    }\n",
              "\n",
              "    .dataframe tbody tr th {\n",
              "        vertical-align: top;\n",
              "    }\n",
              "\n",
              "    .dataframe thead th {\n",
              "        text-align: right;\n",
              "    }\n",
              "</style>\n",
              "<table border=\"1\" class=\"dataframe\">\n",
              "  <thead>\n",
              "    <tr style=\"text-align: right;\">\n",
              "      <th></th>\n",
              "      <th>hotel</th>\n",
              "      <th>lead_time</th>\n",
              "      <th>arrival_date_week_number</th>\n",
              "      <th>stays_in_weekend_nights</th>\n",
              "      <th>stays_in_week_nights</th>\n",
              "      <th>adults</th>\n",
              "      <th>meal</th>\n",
              "      <th>country</th>\n",
              "      <th>market_segment</th>\n",
              "      <th>distribution_channel</th>\n",
              "      <th>...</th>\n",
              "      <th>company</th>\n",
              "      <th>days_in_waiting_list</th>\n",
              "      <th>customer_type</th>\n",
              "      <th>adr</th>\n",
              "      <th>required_car_parking_spaces</th>\n",
              "      <th>total_of_special_requests</th>\n",
              "      <th>reservation_status_date</th>\n",
              "      <th>id</th>\n",
              "      <th>arrival_date</th>\n",
              "      <th>minors</th>\n",
              "    </tr>\n",
              "  </thead>\n",
              "  <tbody>\n",
              "    <tr>\n",
              "      <th>0</th>\n",
              "      <td>City Hotel</td>\n",
              "      <td>277</td>\n",
              "      <td>46</td>\n",
              "      <td>1</td>\n",
              "      <td>2</td>\n",
              "      <td>2</td>\n",
              "      <td>BB</td>\n",
              "      <td>PRT</td>\n",
              "      <td>Groups</td>\n",
              "      <td>TA/TO</td>\n",
              "      <td>...</td>\n",
              "      <td>NaN</td>\n",
              "      <td>0</td>\n",
              "      <td>Transient</td>\n",
              "      <td>100.0</td>\n",
              "      <td>0</td>\n",
              "      <td>0</td>\n",
              "      <td>2016-04-04</td>\n",
              "      <td>e6d0d58a-ab96-44d3-b28f-85df1cc15f1e</td>\n",
              "      <td>2016-11-07</td>\n",
              "      <td>0</td>\n",
              "    </tr>\n",
              "    <tr>\n",
              "      <th>1</th>\n",
              "      <td>City Hotel</td>\n",
              "      <td>286</td>\n",
              "      <td>20</td>\n",
              "      <td>0</td>\n",
              "      <td>4</td>\n",
              "      <td>2</td>\n",
              "      <td>BB</td>\n",
              "      <td>PRT</td>\n",
              "      <td>Groups</td>\n",
              "      <td>TA/TO</td>\n",
              "      <td>...</td>\n",
              "      <td>NaN</td>\n",
              "      <td>176</td>\n",
              "      <td>Transient-Party</td>\n",
              "      <td>101.0</td>\n",
              "      <td>0</td>\n",
              "      <td>0</td>\n",
              "      <td>2016-01-22</td>\n",
              "      <td>aba9aac2-4495-4645-a60e-90328713c999</td>\n",
              "      <td>2016-05-11</td>\n",
              "      <td>0</td>\n",
              "    </tr>\n",
              "    <tr>\n",
              "      <th>2</th>\n",
              "      <td>City Hotel</td>\n",
              "      <td>0</td>\n",
              "      <td>35</td>\n",
              "      <td>0</td>\n",
              "      <td>1</td>\n",
              "      <td>3</td>\n",
              "      <td>BB</td>\n",
              "      <td>FRA</td>\n",
              "      <td>Online TA</td>\n",
              "      <td>TA/TO</td>\n",
              "      <td>...</td>\n",
              "      <td>NaN</td>\n",
              "      <td>0</td>\n",
              "      <td>Transient</td>\n",
              "      <td>225.0</td>\n",
              "      <td>0</td>\n",
              "      <td>2</td>\n",
              "      <td>2016-08-24</td>\n",
              "      <td>b345b5dc-c804-4d77-a39f-1f4e65d1f1ad</td>\n",
              "      <td>2016-08-23</td>\n",
              "      <td>0</td>\n",
              "    </tr>\n",
              "    <tr>\n",
              "      <th>3</th>\n",
              "      <td>Resort Hotel</td>\n",
              "      <td>196</td>\n",
              "      <td>44</td>\n",
              "      <td>2</td>\n",
              "      <td>5</td>\n",
              "      <td>2</td>\n",
              "      <td>BB</td>\n",
              "      <td>DEU</td>\n",
              "      <td>Online TA</td>\n",
              "      <td>TA/TO</td>\n",
              "      <td>...</td>\n",
              "      <td>NaN</td>\n",
              "      <td>0</td>\n",
              "      <td>Transient</td>\n",
              "      <td>96.0</td>\n",
              "      <td>0</td>\n",
              "      <td>0</td>\n",
              "      <td>2016-11-05</td>\n",
              "      <td>ce1b400e-afa1-4946-bdff-004b859eb61c</td>\n",
              "      <td>2016-10-29</td>\n",
              "      <td>2</td>\n",
              "    </tr>\n",
              "    <tr>\n",
              "      <th>4</th>\n",
              "      <td>Resort Hotel</td>\n",
              "      <td>232</td>\n",
              "      <td>48</td>\n",
              "      <td>2</td>\n",
              "      <td>1</td>\n",
              "      <td>2</td>\n",
              "      <td>BB</td>\n",
              "      <td>PRT</td>\n",
              "      <td>Groups</td>\n",
              "      <td>TA/TO</td>\n",
              "      <td>...</td>\n",
              "      <td>NaN</td>\n",
              "      <td>0</td>\n",
              "      <td>Transient</td>\n",
              "      <td>30.0</td>\n",
              "      <td>0</td>\n",
              "      <td>0</td>\n",
              "      <td>2016-10-18</td>\n",
              "      <td>c4fbec0d-8e2e-4db2-9d4f-a6ccb9f51214</td>\n",
              "      <td>2016-11-26</td>\n",
              "      <td>0</td>\n",
              "    </tr>\n",
              "  </tbody>\n",
              "</table>\n",
              "<p>5 rows × 28 columns</p>\n",
              "</div>\n",
              "    <div class=\"colab-df-buttons\">\n",
              "\n",
              "  <div class=\"colab-df-container\">\n",
              "    <button class=\"colab-df-convert\" onclick=\"convertToInteractive('df-75237d47-f29b-4f8c-9058-162ebeffa274')\"\n",
              "            title=\"Convert this dataframe to an interactive table.\"\n",
              "            style=\"display:none;\">\n",
              "\n",
              "  <svg xmlns=\"http://www.w3.org/2000/svg\" height=\"24px\" viewBox=\"0 -960 960 960\">\n",
              "    <path d=\"M120-120v-720h720v720H120Zm60-500h600v-160H180v160Zm220 220h160v-160H400v160Zm0 220h160v-160H400v160ZM180-400h160v-160H180v160Zm440 0h160v-160H620v160ZM180-180h160v-160H180v160Zm440 0h160v-160H620v160Z\"/>\n",
              "  </svg>\n",
              "    </button>\n",
              "\n",
              "  <style>\n",
              "    .colab-df-container {\n",
              "      display:flex;\n",
              "      gap: 12px;\n",
              "    }\n",
              "\n",
              "    .colab-df-convert {\n",
              "      background-color: #E8F0FE;\n",
              "      border: none;\n",
              "      border-radius: 50%;\n",
              "      cursor: pointer;\n",
              "      display: none;\n",
              "      fill: #1967D2;\n",
              "      height: 32px;\n",
              "      padding: 0 0 0 0;\n",
              "      width: 32px;\n",
              "    }\n",
              "\n",
              "    .colab-df-convert:hover {\n",
              "      background-color: #E2EBFA;\n",
              "      box-shadow: 0px 1px 2px rgba(60, 64, 67, 0.3), 0px 1px 3px 1px rgba(60, 64, 67, 0.15);\n",
              "      fill: #174EA6;\n",
              "    }\n",
              "\n",
              "    .colab-df-buttons div {\n",
              "      margin-bottom: 4px;\n",
              "    }\n",
              "\n",
              "    [theme=dark] .colab-df-convert {\n",
              "      background-color: #3B4455;\n",
              "      fill: #D2E3FC;\n",
              "    }\n",
              "\n",
              "    [theme=dark] .colab-df-convert:hover {\n",
              "      background-color: #434B5C;\n",
              "      box-shadow: 0px 1px 3px 1px rgba(0, 0, 0, 0.15);\n",
              "      filter: drop-shadow(0px 1px 2px rgba(0, 0, 0, 0.3));\n",
              "      fill: #FFFFFF;\n",
              "    }\n",
              "  </style>\n",
              "\n",
              "    <script>\n",
              "      const buttonEl =\n",
              "        document.querySelector('#df-75237d47-f29b-4f8c-9058-162ebeffa274 button.colab-df-convert');\n",
              "      buttonEl.style.display =\n",
              "        google.colab.kernel.accessAllowed ? 'block' : 'none';\n",
              "\n",
              "      async function convertToInteractive(key) {\n",
              "        const element = document.querySelector('#df-75237d47-f29b-4f8c-9058-162ebeffa274');\n",
              "        const dataTable =\n",
              "          await google.colab.kernel.invokeFunction('convertToInteractive',\n",
              "                                                    [key], {});\n",
              "        if (!dataTable) return;\n",
              "\n",
              "        const docLinkHtml = 'Like what you see? Visit the ' +\n",
              "          '<a target=\"_blank\" href=https://colab.research.google.com/notebooks/data_table.ipynb>data table notebook</a>'\n",
              "          + ' to learn more about interactive tables.';\n",
              "        element.innerHTML = '';\n",
              "        dataTable['output_type'] = 'display_data';\n",
              "        await google.colab.output.renderOutput(dataTable, element);\n",
              "        const docLink = document.createElement('div');\n",
              "        docLink.innerHTML = docLinkHtml;\n",
              "        element.appendChild(docLink);\n",
              "      }\n",
              "    </script>\n",
              "  </div>\n",
              "\n",
              "\n",
              "<div id=\"df-73821417-257c-42b7-b7ea-cefb0005b457\">\n",
              "  <button class=\"colab-df-quickchart\" onclick=\"quickchart('df-73821417-257c-42b7-b7ea-cefb0005b457')\"\n",
              "            title=\"Suggest charts.\"\n",
              "            style=\"display:none;\">\n",
              "\n",
              "<svg xmlns=\"http://www.w3.org/2000/svg\" height=\"24px\"viewBox=\"0 0 24 24\"\n",
              "     width=\"24px\">\n",
              "    <g>\n",
              "        <path d=\"M19 3H5c-1.1 0-2 .9-2 2v14c0 1.1.9 2 2 2h14c1.1 0 2-.9 2-2V5c0-1.1-.9-2-2-2zM9 17H7v-7h2v7zm4 0h-2V7h2v10zm4 0h-2v-4h2v4z\"/>\n",
              "    </g>\n",
              "</svg>\n",
              "  </button>\n",
              "\n",
              "<style>\n",
              "  .colab-df-quickchart {\n",
              "      --bg-color: #E8F0FE;\n",
              "      --fill-color: #1967D2;\n",
              "      --hover-bg-color: #E2EBFA;\n",
              "      --hover-fill-color: #174EA6;\n",
              "      --disabled-fill-color: #AAA;\n",
              "      --disabled-bg-color: #DDD;\n",
              "  }\n",
              "\n",
              "  [theme=dark] .colab-df-quickchart {\n",
              "      --bg-color: #3B4455;\n",
              "      --fill-color: #D2E3FC;\n",
              "      --hover-bg-color: #434B5C;\n",
              "      --hover-fill-color: #FFFFFF;\n",
              "      --disabled-bg-color: #3B4455;\n",
              "      --disabled-fill-color: #666;\n",
              "  }\n",
              "\n",
              "  .colab-df-quickchart {\n",
              "    background-color: var(--bg-color);\n",
              "    border: none;\n",
              "    border-radius: 50%;\n",
              "    cursor: pointer;\n",
              "    display: none;\n",
              "    fill: var(--fill-color);\n",
              "    height: 32px;\n",
              "    padding: 0;\n",
              "    width: 32px;\n",
              "  }\n",
              "\n",
              "  .colab-df-quickchart:hover {\n",
              "    background-color: var(--hover-bg-color);\n",
              "    box-shadow: 0 1px 2px rgba(60, 64, 67, 0.3), 0 1px 3px 1px rgba(60, 64, 67, 0.15);\n",
              "    fill: var(--button-hover-fill-color);\n",
              "  }\n",
              "\n",
              "  .colab-df-quickchart-complete:disabled,\n",
              "  .colab-df-quickchart-complete:disabled:hover {\n",
              "    background-color: var(--disabled-bg-color);\n",
              "    fill: var(--disabled-fill-color);\n",
              "    box-shadow: none;\n",
              "  }\n",
              "\n",
              "  .colab-df-spinner {\n",
              "    border: 2px solid var(--fill-color);\n",
              "    border-color: transparent;\n",
              "    border-bottom-color: var(--fill-color);\n",
              "    animation:\n",
              "      spin 1s steps(1) infinite;\n",
              "  }\n",
              "\n",
              "  @keyframes spin {\n",
              "    0% {\n",
              "      border-color: transparent;\n",
              "      border-bottom-color: var(--fill-color);\n",
              "      border-left-color: var(--fill-color);\n",
              "    }\n",
              "    20% {\n",
              "      border-color: transparent;\n",
              "      border-left-color: var(--fill-color);\n",
              "      border-top-color: var(--fill-color);\n",
              "    }\n",
              "    30% {\n",
              "      border-color: transparent;\n",
              "      border-left-color: var(--fill-color);\n",
              "      border-top-color: var(--fill-color);\n",
              "      border-right-color: var(--fill-color);\n",
              "    }\n",
              "    40% {\n",
              "      border-color: transparent;\n",
              "      border-right-color: var(--fill-color);\n",
              "      border-top-color: var(--fill-color);\n",
              "    }\n",
              "    60% {\n",
              "      border-color: transparent;\n",
              "      border-right-color: var(--fill-color);\n",
              "    }\n",
              "    80% {\n",
              "      border-color: transparent;\n",
              "      border-right-color: var(--fill-color);\n",
              "      border-bottom-color: var(--fill-color);\n",
              "    }\n",
              "    90% {\n",
              "      border-color: transparent;\n",
              "      border-bottom-color: var(--fill-color);\n",
              "    }\n",
              "  }\n",
              "</style>\n",
              "\n",
              "  <script>\n",
              "    async function quickchart(key) {\n",
              "      const quickchartButtonEl =\n",
              "        document.querySelector('#' + key + ' button');\n",
              "      quickchartButtonEl.disabled = true;  // To prevent multiple clicks.\n",
              "      quickchartButtonEl.classList.add('colab-df-spinner');\n",
              "      try {\n",
              "        const charts = await google.colab.kernel.invokeFunction(\n",
              "            'suggestCharts', [key], {});\n",
              "      } catch (error) {\n",
              "        console.error('Error during call to suggestCharts:', error);\n",
              "      }\n",
              "      quickchartButtonEl.classList.remove('colab-df-spinner');\n",
              "      quickchartButtonEl.classList.add('colab-df-quickchart-complete');\n",
              "    }\n",
              "    (() => {\n",
              "      let quickchartButtonEl =\n",
              "        document.querySelector('#df-73821417-257c-42b7-b7ea-cefb0005b457 button');\n",
              "      quickchartButtonEl.style.display =\n",
              "        google.colab.kernel.accessAllowed ? 'block' : 'none';\n",
              "    })();\n",
              "  </script>\n",
              "</div>\n",
              "    </div>\n",
              "  </div>\n"
            ]
          },
          "metadata": {},
          "execution_count": 44
        }
      ],
      "source": [
        "ds_testing_conId.head()"
      ]
    },
    {
      "cell_type": "code",
      "execution_count": 45,
      "metadata": {
        "colab": {
          "base_uri": "https://localhost:8080/"
        },
        "id": "BYli_18lF4s7",
        "outputId": "f381721d-673c-43a3-eb54-bb5501dcc3dd"
      },
      "outputs": [
        {
          "output_type": "execute_result",
          "data": {
            "text/plain": [
              "(26535, 28)"
            ]
          },
          "metadata": {},
          "execution_count": 45
        }
      ],
      "source": [
        "ds_testing_conId.shape"
      ]
    },
    {
      "cell_type": "code",
      "execution_count": 46,
      "metadata": {
        "colab": {
          "base_uri": "https://localhost:8080/"
        },
        "id": "0kq0j_bbh49V",
        "outputId": "c6153e84-96f7-48ef-f569-1ffc04a5dcb1"
      },
      "outputs": [
        {
          "output_type": "execute_result",
          "data": {
            "text/plain": [
              "Unnamed: 0                                 int64\n",
              "hotel                                     object\n",
              "lead_time                                  int64\n",
              "arrival_date_week_number                   int64\n",
              "stays_in_weekend_nights                    int64\n",
              "stays_in_week_nights                       int64\n",
              "adults                                     int64\n",
              "meal                                      object\n",
              "country                                   object\n",
              "market_segment                            object\n",
              "distribution_channel                      object\n",
              "is_repeated_guest                          int64\n",
              "previous_cancellations                     int64\n",
              "previous_bookings_not_canceled             int64\n",
              "reserved_room_type                        object\n",
              "assigned_room_type                        object\n",
              "booking_changes                            int64\n",
              "deposit_type                              object\n",
              "agent                                    float64\n",
              "company                                  float64\n",
              "days_in_waiting_list                       int64\n",
              "customer_type                             object\n",
              "adr                                      float64\n",
              "required_car_parking_spaces                int64\n",
              "total_of_special_requests                  int64\n",
              "id                                        object\n",
              "is_canceled                                int64\n",
              "arrival_date                      datetime64[ns]\n",
              "minors                                     int64\n",
              "dtype: object"
            ]
          },
          "metadata": {},
          "execution_count": 46
        }
      ],
      "source": [
        "ds_training.dtypes"
      ]
    },
    {
      "cell_type": "code",
      "source": [
        "ds_testing_conId= ds_testing_conId.drop(columns=['reservation_status_date'])"
      ],
      "metadata": {
        "id": "c8obkicCJfjk"
      },
      "execution_count": 47,
      "outputs": []
    },
    {
      "cell_type": "markdown",
      "metadata": {
        "id": "c_Agn3dfhq1D"
      },
      "source": [
        "### One Hot Encoding para variables categóricas"
      ]
    },
    {
      "cell_type": "markdown",
      "metadata": {
        "id": "1bL3HZcPkET6"
      },
      "source": [
        "Los NaN de agent y company tenemos que manejarlos. En este caso decidimos convertirlos a -1"
      ]
    },
    {
      "cell_type": "code",
      "execution_count": 48,
      "metadata": {
        "id": "aqxMm_IGkOBM"
      },
      "outputs": [],
      "source": [
        "ds_training['agent'].fillna(-1, inplace=True)\n",
        "ds_training['company'].fillna(-1, inplace=True)\n",
        "ds_testing_conId['agent'].fillna(-1, inplace=True)\n",
        "ds_testing_conId['company'].fillna(-1, inplace=True)"
      ]
    },
    {
      "cell_type": "code",
      "execution_count": 49,
      "metadata": {
        "colab": {
          "base_uri": "https://localhost:8080/",
          "height": 273
        },
        "id": "2hKelkJRht_t",
        "outputId": "1f15b2ae-4862-4820-cb31-0ef59bf481b2"
      },
      "outputs": [
        {
          "output_type": "execute_result",
          "data": {
            "text/plain": [
              "   Unnamed: 0  lead_time  arrival_date_week_number  stays_in_weekend_nights  \\\n",
              "0           0         49                        37                        1   \n",
              "1           1          4                        44                        0   \n",
              "2           2         25                        42                        0   \n",
              "3           3         26                        51                        2   \n",
              "4           4        104                        12                        2   \n",
              "\n",
              "   stays_in_week_nights  adults  is_repeated_guest  previous_cancellations  \\\n",
              "0                     2       1                  0                       0   \n",
              "1                     1       2                  0                       0   \n",
              "2                     1       2                  0                       0   \n",
              "3                     5       2                  0                       0   \n",
              "4                     5       2                  0                       0   \n",
              "\n",
              "   previous_bookings_not_canceled  booking_changes  ...  assigned_room_type_G  \\\n",
              "0                               0                0  ...                     0   \n",
              "1                               0                0  ...                     0   \n",
              "2                               0                0  ...                     0   \n",
              "3                               0                0  ...                     0   \n",
              "4                               0                0  ...                     0   \n",
              "\n",
              "   assigned_room_type_H  assigned_room_type_I  assigned_room_type_K  \\\n",
              "0                     0                     0                     0   \n",
              "1                     0                     0                     0   \n",
              "2                     0                     0                     0   \n",
              "3                     0                     0                     0   \n",
              "4                     0                     0                     0   \n",
              "\n",
              "   assigned_room_type_L  deposit_type_Non Refund deposit_type_Refundable  \\\n",
              "0                     0                        0                       0   \n",
              "1                     0                        0                       0   \n",
              "2                     0                        0                       0   \n",
              "3                     0                        1                       0   \n",
              "4                     0                        0                       0   \n",
              "\n",
              "   customer_type_Group customer_type_Transient  customer_type_Transient-Party  \n",
              "0                    0                       1                              0  \n",
              "1                    0                       1                              0  \n",
              "2                    0                       1                              0  \n",
              "3                    0                       1                              0  \n",
              "4                    0                       0                              1  \n",
              "\n",
              "[5 rows x 204 columns]"
            ],
            "text/html": [
              "\n",
              "  <div id=\"df-c9c50779-5f07-470c-90ac-fb20d2dbb43f\" class=\"colab-df-container\">\n",
              "    <div>\n",
              "<style scoped>\n",
              "    .dataframe tbody tr th:only-of-type {\n",
              "        vertical-align: middle;\n",
              "    }\n",
              "\n",
              "    .dataframe tbody tr th {\n",
              "        vertical-align: top;\n",
              "    }\n",
              "\n",
              "    .dataframe thead th {\n",
              "        text-align: right;\n",
              "    }\n",
              "</style>\n",
              "<table border=\"1\" class=\"dataframe\">\n",
              "  <thead>\n",
              "    <tr style=\"text-align: right;\">\n",
              "      <th></th>\n",
              "      <th>Unnamed: 0</th>\n",
              "      <th>lead_time</th>\n",
              "      <th>arrival_date_week_number</th>\n",
              "      <th>stays_in_weekend_nights</th>\n",
              "      <th>stays_in_week_nights</th>\n",
              "      <th>adults</th>\n",
              "      <th>is_repeated_guest</th>\n",
              "      <th>previous_cancellations</th>\n",
              "      <th>previous_bookings_not_canceled</th>\n",
              "      <th>booking_changes</th>\n",
              "      <th>...</th>\n",
              "      <th>assigned_room_type_G</th>\n",
              "      <th>assigned_room_type_H</th>\n",
              "      <th>assigned_room_type_I</th>\n",
              "      <th>assigned_room_type_K</th>\n",
              "      <th>assigned_room_type_L</th>\n",
              "      <th>deposit_type_Non Refund</th>\n",
              "      <th>deposit_type_Refundable</th>\n",
              "      <th>customer_type_Group</th>\n",
              "      <th>customer_type_Transient</th>\n",
              "      <th>customer_type_Transient-Party</th>\n",
              "    </tr>\n",
              "  </thead>\n",
              "  <tbody>\n",
              "    <tr>\n",
              "      <th>0</th>\n",
              "      <td>0</td>\n",
              "      <td>49</td>\n",
              "      <td>37</td>\n",
              "      <td>1</td>\n",
              "      <td>2</td>\n",
              "      <td>1</td>\n",
              "      <td>0</td>\n",
              "      <td>0</td>\n",
              "      <td>0</td>\n",
              "      <td>0</td>\n",
              "      <td>...</td>\n",
              "      <td>0</td>\n",
              "      <td>0</td>\n",
              "      <td>0</td>\n",
              "      <td>0</td>\n",
              "      <td>0</td>\n",
              "      <td>0</td>\n",
              "      <td>0</td>\n",
              "      <td>0</td>\n",
              "      <td>1</td>\n",
              "      <td>0</td>\n",
              "    </tr>\n",
              "    <tr>\n",
              "      <th>1</th>\n",
              "      <td>1</td>\n",
              "      <td>4</td>\n",
              "      <td>44</td>\n",
              "      <td>0</td>\n",
              "      <td>1</td>\n",
              "      <td>2</td>\n",
              "      <td>0</td>\n",
              "      <td>0</td>\n",
              "      <td>0</td>\n",
              "      <td>0</td>\n",
              "      <td>...</td>\n",
              "      <td>0</td>\n",
              "      <td>0</td>\n",
              "      <td>0</td>\n",
              "      <td>0</td>\n",
              "      <td>0</td>\n",
              "      <td>0</td>\n",
              "      <td>0</td>\n",
              "      <td>0</td>\n",
              "      <td>1</td>\n",
              "      <td>0</td>\n",
              "    </tr>\n",
              "    <tr>\n",
              "      <th>2</th>\n",
              "      <td>2</td>\n",
              "      <td>25</td>\n",
              "      <td>42</td>\n",
              "      <td>0</td>\n",
              "      <td>1</td>\n",
              "      <td>2</td>\n",
              "      <td>0</td>\n",
              "      <td>0</td>\n",
              "      <td>0</td>\n",
              "      <td>0</td>\n",
              "      <td>...</td>\n",
              "      <td>0</td>\n",
              "      <td>0</td>\n",
              "      <td>0</td>\n",
              "      <td>0</td>\n",
              "      <td>0</td>\n",
              "      <td>0</td>\n",
              "      <td>0</td>\n",
              "      <td>0</td>\n",
              "      <td>1</td>\n",
              "      <td>0</td>\n",
              "    </tr>\n",
              "    <tr>\n",
              "      <th>3</th>\n",
              "      <td>3</td>\n",
              "      <td>26</td>\n",
              "      <td>51</td>\n",
              "      <td>2</td>\n",
              "      <td>5</td>\n",
              "      <td>2</td>\n",
              "      <td>0</td>\n",
              "      <td>0</td>\n",
              "      <td>0</td>\n",
              "      <td>0</td>\n",
              "      <td>...</td>\n",
              "      <td>0</td>\n",
              "      <td>0</td>\n",
              "      <td>0</td>\n",
              "      <td>0</td>\n",
              "      <td>0</td>\n",
              "      <td>1</td>\n",
              "      <td>0</td>\n",
              "      <td>0</td>\n",
              "      <td>1</td>\n",
              "      <td>0</td>\n",
              "    </tr>\n",
              "    <tr>\n",
              "      <th>4</th>\n",
              "      <td>4</td>\n",
              "      <td>104</td>\n",
              "      <td>12</td>\n",
              "      <td>2</td>\n",
              "      <td>5</td>\n",
              "      <td>2</td>\n",
              "      <td>0</td>\n",
              "      <td>0</td>\n",
              "      <td>0</td>\n",
              "      <td>0</td>\n",
              "      <td>...</td>\n",
              "      <td>0</td>\n",
              "      <td>0</td>\n",
              "      <td>0</td>\n",
              "      <td>0</td>\n",
              "      <td>0</td>\n",
              "      <td>0</td>\n",
              "      <td>0</td>\n",
              "      <td>0</td>\n",
              "      <td>0</td>\n",
              "      <td>1</td>\n",
              "    </tr>\n",
              "  </tbody>\n",
              "</table>\n",
              "<p>5 rows × 204 columns</p>\n",
              "</div>\n",
              "    <div class=\"colab-df-buttons\">\n",
              "\n",
              "  <div class=\"colab-df-container\">\n",
              "    <button class=\"colab-df-convert\" onclick=\"convertToInteractive('df-c9c50779-5f07-470c-90ac-fb20d2dbb43f')\"\n",
              "            title=\"Convert this dataframe to an interactive table.\"\n",
              "            style=\"display:none;\">\n",
              "\n",
              "  <svg xmlns=\"http://www.w3.org/2000/svg\" height=\"24px\" viewBox=\"0 -960 960 960\">\n",
              "    <path d=\"M120-120v-720h720v720H120Zm60-500h600v-160H180v160Zm220 220h160v-160H400v160Zm0 220h160v-160H400v160ZM180-400h160v-160H180v160Zm440 0h160v-160H620v160ZM180-180h160v-160H180v160Zm440 0h160v-160H620v160Z\"/>\n",
              "  </svg>\n",
              "    </button>\n",
              "\n",
              "  <style>\n",
              "    .colab-df-container {\n",
              "      display:flex;\n",
              "      gap: 12px;\n",
              "    }\n",
              "\n",
              "    .colab-df-convert {\n",
              "      background-color: #E8F0FE;\n",
              "      border: none;\n",
              "      border-radius: 50%;\n",
              "      cursor: pointer;\n",
              "      display: none;\n",
              "      fill: #1967D2;\n",
              "      height: 32px;\n",
              "      padding: 0 0 0 0;\n",
              "      width: 32px;\n",
              "    }\n",
              "\n",
              "    .colab-df-convert:hover {\n",
              "      background-color: #E2EBFA;\n",
              "      box-shadow: 0px 1px 2px rgba(60, 64, 67, 0.3), 0px 1px 3px 1px rgba(60, 64, 67, 0.15);\n",
              "      fill: #174EA6;\n",
              "    }\n",
              "\n",
              "    .colab-df-buttons div {\n",
              "      margin-bottom: 4px;\n",
              "    }\n",
              "\n",
              "    [theme=dark] .colab-df-convert {\n",
              "      background-color: #3B4455;\n",
              "      fill: #D2E3FC;\n",
              "    }\n",
              "\n",
              "    [theme=dark] .colab-df-convert:hover {\n",
              "      background-color: #434B5C;\n",
              "      box-shadow: 0px 1px 3px 1px rgba(0, 0, 0, 0.15);\n",
              "      filter: drop-shadow(0px 1px 2px rgba(0, 0, 0, 0.3));\n",
              "      fill: #FFFFFF;\n",
              "    }\n",
              "  </style>\n",
              "\n",
              "    <script>\n",
              "      const buttonEl =\n",
              "        document.querySelector('#df-c9c50779-5f07-470c-90ac-fb20d2dbb43f button.colab-df-convert');\n",
              "      buttonEl.style.display =\n",
              "        google.colab.kernel.accessAllowed ? 'block' : 'none';\n",
              "\n",
              "      async function convertToInteractive(key) {\n",
              "        const element = document.querySelector('#df-c9c50779-5f07-470c-90ac-fb20d2dbb43f');\n",
              "        const dataTable =\n",
              "          await google.colab.kernel.invokeFunction('convertToInteractive',\n",
              "                                                    [key], {});\n",
              "        if (!dataTable) return;\n",
              "\n",
              "        const docLinkHtml = 'Like what you see? Visit the ' +\n",
              "          '<a target=\"_blank\" href=https://colab.research.google.com/notebooks/data_table.ipynb>data table notebook</a>'\n",
              "          + ' to learn more about interactive tables.';\n",
              "        element.innerHTML = '';\n",
              "        dataTable['output_type'] = 'display_data';\n",
              "        await google.colab.output.renderOutput(dataTable, element);\n",
              "        const docLink = document.createElement('div');\n",
              "        docLink.innerHTML = docLinkHtml;\n",
              "        element.appendChild(docLink);\n",
              "      }\n",
              "    </script>\n",
              "  </div>\n",
              "\n",
              "\n",
              "<div id=\"df-fce477ac-2fcd-4d97-8294-1534ee449c5d\">\n",
              "  <button class=\"colab-df-quickchart\" onclick=\"quickchart('df-fce477ac-2fcd-4d97-8294-1534ee449c5d')\"\n",
              "            title=\"Suggest charts.\"\n",
              "            style=\"display:none;\">\n",
              "\n",
              "<svg xmlns=\"http://www.w3.org/2000/svg\" height=\"24px\"viewBox=\"0 0 24 24\"\n",
              "     width=\"24px\">\n",
              "    <g>\n",
              "        <path d=\"M19 3H5c-1.1 0-2 .9-2 2v14c0 1.1.9 2 2 2h14c1.1 0 2-.9 2-2V5c0-1.1-.9-2-2-2zM9 17H7v-7h2v7zm4 0h-2V7h2v10zm4 0h-2v-4h2v4z\"/>\n",
              "    </g>\n",
              "</svg>\n",
              "  </button>\n",
              "\n",
              "<style>\n",
              "  .colab-df-quickchart {\n",
              "      --bg-color: #E8F0FE;\n",
              "      --fill-color: #1967D2;\n",
              "      --hover-bg-color: #E2EBFA;\n",
              "      --hover-fill-color: #174EA6;\n",
              "      --disabled-fill-color: #AAA;\n",
              "      --disabled-bg-color: #DDD;\n",
              "  }\n",
              "\n",
              "  [theme=dark] .colab-df-quickchart {\n",
              "      --bg-color: #3B4455;\n",
              "      --fill-color: #D2E3FC;\n",
              "      --hover-bg-color: #434B5C;\n",
              "      --hover-fill-color: #FFFFFF;\n",
              "      --disabled-bg-color: #3B4455;\n",
              "      --disabled-fill-color: #666;\n",
              "  }\n",
              "\n",
              "  .colab-df-quickchart {\n",
              "    background-color: var(--bg-color);\n",
              "    border: none;\n",
              "    border-radius: 50%;\n",
              "    cursor: pointer;\n",
              "    display: none;\n",
              "    fill: var(--fill-color);\n",
              "    height: 32px;\n",
              "    padding: 0;\n",
              "    width: 32px;\n",
              "  }\n",
              "\n",
              "  .colab-df-quickchart:hover {\n",
              "    background-color: var(--hover-bg-color);\n",
              "    box-shadow: 0 1px 2px rgba(60, 64, 67, 0.3), 0 1px 3px 1px rgba(60, 64, 67, 0.15);\n",
              "    fill: var(--button-hover-fill-color);\n",
              "  }\n",
              "\n",
              "  .colab-df-quickchart-complete:disabled,\n",
              "  .colab-df-quickchart-complete:disabled:hover {\n",
              "    background-color: var(--disabled-bg-color);\n",
              "    fill: var(--disabled-fill-color);\n",
              "    box-shadow: none;\n",
              "  }\n",
              "\n",
              "  .colab-df-spinner {\n",
              "    border: 2px solid var(--fill-color);\n",
              "    border-color: transparent;\n",
              "    border-bottom-color: var(--fill-color);\n",
              "    animation:\n",
              "      spin 1s steps(1) infinite;\n",
              "  }\n",
              "\n",
              "  @keyframes spin {\n",
              "    0% {\n",
              "      border-color: transparent;\n",
              "      border-bottom-color: var(--fill-color);\n",
              "      border-left-color: var(--fill-color);\n",
              "    }\n",
              "    20% {\n",
              "      border-color: transparent;\n",
              "      border-left-color: var(--fill-color);\n",
              "      border-top-color: var(--fill-color);\n",
              "    }\n",
              "    30% {\n",
              "      border-color: transparent;\n",
              "      border-left-color: var(--fill-color);\n",
              "      border-top-color: var(--fill-color);\n",
              "      border-right-color: var(--fill-color);\n",
              "    }\n",
              "    40% {\n",
              "      border-color: transparent;\n",
              "      border-right-color: var(--fill-color);\n",
              "      border-top-color: var(--fill-color);\n",
              "    }\n",
              "    60% {\n",
              "      border-color: transparent;\n",
              "      border-right-color: var(--fill-color);\n",
              "    }\n",
              "    80% {\n",
              "      border-color: transparent;\n",
              "      border-right-color: var(--fill-color);\n",
              "      border-bottom-color: var(--fill-color);\n",
              "    }\n",
              "    90% {\n",
              "      border-color: transparent;\n",
              "      border-bottom-color: var(--fill-color);\n",
              "    }\n",
              "  }\n",
              "</style>\n",
              "\n",
              "  <script>\n",
              "    async function quickchart(key) {\n",
              "      const quickchartButtonEl =\n",
              "        document.querySelector('#' + key + ' button');\n",
              "      quickchartButtonEl.disabled = true;  // To prevent multiple clicks.\n",
              "      quickchartButtonEl.classList.add('colab-df-spinner');\n",
              "      try {\n",
              "        const charts = await google.colab.kernel.invokeFunction(\n",
              "            'suggestCharts', [key], {});\n",
              "      } catch (error) {\n",
              "        console.error('Error during call to suggestCharts:', error);\n",
              "      }\n",
              "      quickchartButtonEl.classList.remove('colab-df-spinner');\n",
              "      quickchartButtonEl.classList.add('colab-df-quickchart-complete');\n",
              "    }\n",
              "    (() => {\n",
              "      let quickchartButtonEl =\n",
              "        document.querySelector('#df-fce477ac-2fcd-4d97-8294-1534ee449c5d button');\n",
              "      quickchartButtonEl.style.display =\n",
              "        google.colab.kernel.accessAllowed ? 'block' : 'none';\n",
              "    })();\n",
              "  </script>\n",
              "</div>\n",
              "    </div>\n",
              "  </div>\n"
            ]
          },
          "metadata": {},
          "execution_count": 49
        }
      ],
      "source": [
        "ds_training = pd.get_dummies(ds_training, columns=[\"hotel\",\"meal\",\"country\", \"market_segment\", \"distribution_channel\", \"reserved_room_type\", \"assigned_room_type\", \"deposit_type\", \"customer_type\"], drop_first=True)\n",
        "ds_training.head()"
      ]
    },
    {
      "cell_type": "code",
      "execution_count": 50,
      "metadata": {
        "colab": {
          "base_uri": "https://localhost:8080/",
          "height": 273
        },
        "id": "QXU6xPPdjnJP",
        "outputId": "04cd3b49-9b28-4bb2-bef4-a20eae2f6121"
      },
      "outputs": [
        {
          "output_type": "execute_result",
          "data": {
            "text/plain": [
              "   lead_time  arrival_date_week_number  stays_in_weekend_nights  \\\n",
              "0        277                        46                        1   \n",
              "1        286                        20                        0   \n",
              "2          0                        35                        0   \n",
              "3        196                        44                        2   \n",
              "4        232                        48                        2   \n",
              "\n",
              "   stays_in_week_nights  adults  is_repeated_guest  previous_cancellations  \\\n",
              "0                     2       2                  0                       0   \n",
              "1                     4       2                  0                       0   \n",
              "2                     1       3                  0                       0   \n",
              "3                     5       2                  0                       0   \n",
              "4                     1       2                  0                       0   \n",
              "\n",
              "   previous_bookings_not_canceled  booking_changes  agent  ...  \\\n",
              "0                               0                0   -1.0  ...   \n",
              "1                               0                0   30.0  ...   \n",
              "2                               0                0   -1.0  ...   \n",
              "3                               0                0  240.0  ...   \n",
              "4                               0                0   11.0  ...   \n",
              "\n",
              "   assigned_room_type_G  assigned_room_type_H  assigned_room_type_I  \\\n",
              "0                     0                     0                     0   \n",
              "1                     0                     0                     0   \n",
              "2                     0                     0                     0   \n",
              "3                     1                     0                     0   \n",
              "4                     0                     0                     0   \n",
              "\n",
              "   assigned_room_type_K  assigned_room_type_P deposit_type_Non Refund  \\\n",
              "0                     0                     0                       1   \n",
              "1                     0                     0                       0   \n",
              "2                     0                     0                       0   \n",
              "3                     0                     0                       0   \n",
              "4                     0                     0                       1   \n",
              "\n",
              "  deposit_type_Refundable  customer_type_Group  customer_type_Transient  \\\n",
              "0                       0                    0                        1   \n",
              "1                       0                    0                        0   \n",
              "2                       0                    0                        1   \n",
              "3                       0                    0                        1   \n",
              "4                       0                    0                        1   \n",
              "\n",
              "   customer_type_Transient-Party  \n",
              "0                              0  \n",
              "1                              1  \n",
              "2                              0  \n",
              "3                              0  \n",
              "4                              0  \n",
              "\n",
              "[5 rows x 190 columns]"
            ],
            "text/html": [
              "\n",
              "  <div id=\"df-415e083f-931a-4354-b69f-d92a0b37da50\" class=\"colab-df-container\">\n",
              "    <div>\n",
              "<style scoped>\n",
              "    .dataframe tbody tr th:only-of-type {\n",
              "        vertical-align: middle;\n",
              "    }\n",
              "\n",
              "    .dataframe tbody tr th {\n",
              "        vertical-align: top;\n",
              "    }\n",
              "\n",
              "    .dataframe thead th {\n",
              "        text-align: right;\n",
              "    }\n",
              "</style>\n",
              "<table border=\"1\" class=\"dataframe\">\n",
              "  <thead>\n",
              "    <tr style=\"text-align: right;\">\n",
              "      <th></th>\n",
              "      <th>lead_time</th>\n",
              "      <th>arrival_date_week_number</th>\n",
              "      <th>stays_in_weekend_nights</th>\n",
              "      <th>stays_in_week_nights</th>\n",
              "      <th>adults</th>\n",
              "      <th>is_repeated_guest</th>\n",
              "      <th>previous_cancellations</th>\n",
              "      <th>previous_bookings_not_canceled</th>\n",
              "      <th>booking_changes</th>\n",
              "      <th>agent</th>\n",
              "      <th>...</th>\n",
              "      <th>assigned_room_type_G</th>\n",
              "      <th>assigned_room_type_H</th>\n",
              "      <th>assigned_room_type_I</th>\n",
              "      <th>assigned_room_type_K</th>\n",
              "      <th>assigned_room_type_P</th>\n",
              "      <th>deposit_type_Non Refund</th>\n",
              "      <th>deposit_type_Refundable</th>\n",
              "      <th>customer_type_Group</th>\n",
              "      <th>customer_type_Transient</th>\n",
              "      <th>customer_type_Transient-Party</th>\n",
              "    </tr>\n",
              "  </thead>\n",
              "  <tbody>\n",
              "    <tr>\n",
              "      <th>0</th>\n",
              "      <td>277</td>\n",
              "      <td>46</td>\n",
              "      <td>1</td>\n",
              "      <td>2</td>\n",
              "      <td>2</td>\n",
              "      <td>0</td>\n",
              "      <td>0</td>\n",
              "      <td>0</td>\n",
              "      <td>0</td>\n",
              "      <td>-1.0</td>\n",
              "      <td>...</td>\n",
              "      <td>0</td>\n",
              "      <td>0</td>\n",
              "      <td>0</td>\n",
              "      <td>0</td>\n",
              "      <td>0</td>\n",
              "      <td>1</td>\n",
              "      <td>0</td>\n",
              "      <td>0</td>\n",
              "      <td>1</td>\n",
              "      <td>0</td>\n",
              "    </tr>\n",
              "    <tr>\n",
              "      <th>1</th>\n",
              "      <td>286</td>\n",
              "      <td>20</td>\n",
              "      <td>0</td>\n",
              "      <td>4</td>\n",
              "      <td>2</td>\n",
              "      <td>0</td>\n",
              "      <td>0</td>\n",
              "      <td>0</td>\n",
              "      <td>0</td>\n",
              "      <td>30.0</td>\n",
              "      <td>...</td>\n",
              "      <td>0</td>\n",
              "      <td>0</td>\n",
              "      <td>0</td>\n",
              "      <td>0</td>\n",
              "      <td>0</td>\n",
              "      <td>0</td>\n",
              "      <td>0</td>\n",
              "      <td>0</td>\n",
              "      <td>0</td>\n",
              "      <td>1</td>\n",
              "    </tr>\n",
              "    <tr>\n",
              "      <th>2</th>\n",
              "      <td>0</td>\n",
              "      <td>35</td>\n",
              "      <td>0</td>\n",
              "      <td>1</td>\n",
              "      <td>3</td>\n",
              "      <td>0</td>\n",
              "      <td>0</td>\n",
              "      <td>0</td>\n",
              "      <td>0</td>\n",
              "      <td>-1.0</td>\n",
              "      <td>...</td>\n",
              "      <td>0</td>\n",
              "      <td>0</td>\n",
              "      <td>0</td>\n",
              "      <td>0</td>\n",
              "      <td>0</td>\n",
              "      <td>0</td>\n",
              "      <td>0</td>\n",
              "      <td>0</td>\n",
              "      <td>1</td>\n",
              "      <td>0</td>\n",
              "    </tr>\n",
              "    <tr>\n",
              "      <th>3</th>\n",
              "      <td>196</td>\n",
              "      <td>44</td>\n",
              "      <td>2</td>\n",
              "      <td>5</td>\n",
              "      <td>2</td>\n",
              "      <td>0</td>\n",
              "      <td>0</td>\n",
              "      <td>0</td>\n",
              "      <td>0</td>\n",
              "      <td>240.0</td>\n",
              "      <td>...</td>\n",
              "      <td>1</td>\n",
              "      <td>0</td>\n",
              "      <td>0</td>\n",
              "      <td>0</td>\n",
              "      <td>0</td>\n",
              "      <td>0</td>\n",
              "      <td>0</td>\n",
              "      <td>0</td>\n",
              "      <td>1</td>\n",
              "      <td>0</td>\n",
              "    </tr>\n",
              "    <tr>\n",
              "      <th>4</th>\n",
              "      <td>232</td>\n",
              "      <td>48</td>\n",
              "      <td>2</td>\n",
              "      <td>1</td>\n",
              "      <td>2</td>\n",
              "      <td>0</td>\n",
              "      <td>0</td>\n",
              "      <td>0</td>\n",
              "      <td>0</td>\n",
              "      <td>11.0</td>\n",
              "      <td>...</td>\n",
              "      <td>0</td>\n",
              "      <td>0</td>\n",
              "      <td>0</td>\n",
              "      <td>0</td>\n",
              "      <td>0</td>\n",
              "      <td>1</td>\n",
              "      <td>0</td>\n",
              "      <td>0</td>\n",
              "      <td>1</td>\n",
              "      <td>0</td>\n",
              "    </tr>\n",
              "  </tbody>\n",
              "</table>\n",
              "<p>5 rows × 190 columns</p>\n",
              "</div>\n",
              "    <div class=\"colab-df-buttons\">\n",
              "\n",
              "  <div class=\"colab-df-container\">\n",
              "    <button class=\"colab-df-convert\" onclick=\"convertToInteractive('df-415e083f-931a-4354-b69f-d92a0b37da50')\"\n",
              "            title=\"Convert this dataframe to an interactive table.\"\n",
              "            style=\"display:none;\">\n",
              "\n",
              "  <svg xmlns=\"http://www.w3.org/2000/svg\" height=\"24px\" viewBox=\"0 -960 960 960\">\n",
              "    <path d=\"M120-120v-720h720v720H120Zm60-500h600v-160H180v160Zm220 220h160v-160H400v160Zm0 220h160v-160H400v160ZM180-400h160v-160H180v160Zm440 0h160v-160H620v160ZM180-180h160v-160H180v160Zm440 0h160v-160H620v160Z\"/>\n",
              "  </svg>\n",
              "    </button>\n",
              "\n",
              "  <style>\n",
              "    .colab-df-container {\n",
              "      display:flex;\n",
              "      gap: 12px;\n",
              "    }\n",
              "\n",
              "    .colab-df-convert {\n",
              "      background-color: #E8F0FE;\n",
              "      border: none;\n",
              "      border-radius: 50%;\n",
              "      cursor: pointer;\n",
              "      display: none;\n",
              "      fill: #1967D2;\n",
              "      height: 32px;\n",
              "      padding: 0 0 0 0;\n",
              "      width: 32px;\n",
              "    }\n",
              "\n",
              "    .colab-df-convert:hover {\n",
              "      background-color: #E2EBFA;\n",
              "      box-shadow: 0px 1px 2px rgba(60, 64, 67, 0.3), 0px 1px 3px 1px rgba(60, 64, 67, 0.15);\n",
              "      fill: #174EA6;\n",
              "    }\n",
              "\n",
              "    .colab-df-buttons div {\n",
              "      margin-bottom: 4px;\n",
              "    }\n",
              "\n",
              "    [theme=dark] .colab-df-convert {\n",
              "      background-color: #3B4455;\n",
              "      fill: #D2E3FC;\n",
              "    }\n",
              "\n",
              "    [theme=dark] .colab-df-convert:hover {\n",
              "      background-color: #434B5C;\n",
              "      box-shadow: 0px 1px 3px 1px rgba(0, 0, 0, 0.15);\n",
              "      filter: drop-shadow(0px 1px 2px rgba(0, 0, 0, 0.3));\n",
              "      fill: #FFFFFF;\n",
              "    }\n",
              "  </style>\n",
              "\n",
              "    <script>\n",
              "      const buttonEl =\n",
              "        document.querySelector('#df-415e083f-931a-4354-b69f-d92a0b37da50 button.colab-df-convert');\n",
              "      buttonEl.style.display =\n",
              "        google.colab.kernel.accessAllowed ? 'block' : 'none';\n",
              "\n",
              "      async function convertToInteractive(key) {\n",
              "        const element = document.querySelector('#df-415e083f-931a-4354-b69f-d92a0b37da50');\n",
              "        const dataTable =\n",
              "          await google.colab.kernel.invokeFunction('convertToInteractive',\n",
              "                                                    [key], {});\n",
              "        if (!dataTable) return;\n",
              "\n",
              "        const docLinkHtml = 'Like what you see? Visit the ' +\n",
              "          '<a target=\"_blank\" href=https://colab.research.google.com/notebooks/data_table.ipynb>data table notebook</a>'\n",
              "          + ' to learn more about interactive tables.';\n",
              "        element.innerHTML = '';\n",
              "        dataTable['output_type'] = 'display_data';\n",
              "        await google.colab.output.renderOutput(dataTable, element);\n",
              "        const docLink = document.createElement('div');\n",
              "        docLink.innerHTML = docLinkHtml;\n",
              "        element.appendChild(docLink);\n",
              "      }\n",
              "    </script>\n",
              "  </div>\n",
              "\n",
              "\n",
              "<div id=\"df-a902e904-8255-4277-b543-56995879c26e\">\n",
              "  <button class=\"colab-df-quickchart\" onclick=\"quickchart('df-a902e904-8255-4277-b543-56995879c26e')\"\n",
              "            title=\"Suggest charts.\"\n",
              "            style=\"display:none;\">\n",
              "\n",
              "<svg xmlns=\"http://www.w3.org/2000/svg\" height=\"24px\"viewBox=\"0 0 24 24\"\n",
              "     width=\"24px\">\n",
              "    <g>\n",
              "        <path d=\"M19 3H5c-1.1 0-2 .9-2 2v14c0 1.1.9 2 2 2h14c1.1 0 2-.9 2-2V5c0-1.1-.9-2-2-2zM9 17H7v-7h2v7zm4 0h-2V7h2v10zm4 0h-2v-4h2v4z\"/>\n",
              "    </g>\n",
              "</svg>\n",
              "  </button>\n",
              "\n",
              "<style>\n",
              "  .colab-df-quickchart {\n",
              "      --bg-color: #E8F0FE;\n",
              "      --fill-color: #1967D2;\n",
              "      --hover-bg-color: #E2EBFA;\n",
              "      --hover-fill-color: #174EA6;\n",
              "      --disabled-fill-color: #AAA;\n",
              "      --disabled-bg-color: #DDD;\n",
              "  }\n",
              "\n",
              "  [theme=dark] .colab-df-quickchart {\n",
              "      --bg-color: #3B4455;\n",
              "      --fill-color: #D2E3FC;\n",
              "      --hover-bg-color: #434B5C;\n",
              "      --hover-fill-color: #FFFFFF;\n",
              "      --disabled-bg-color: #3B4455;\n",
              "      --disabled-fill-color: #666;\n",
              "  }\n",
              "\n",
              "  .colab-df-quickchart {\n",
              "    background-color: var(--bg-color);\n",
              "    border: none;\n",
              "    border-radius: 50%;\n",
              "    cursor: pointer;\n",
              "    display: none;\n",
              "    fill: var(--fill-color);\n",
              "    height: 32px;\n",
              "    padding: 0;\n",
              "    width: 32px;\n",
              "  }\n",
              "\n",
              "  .colab-df-quickchart:hover {\n",
              "    background-color: var(--hover-bg-color);\n",
              "    box-shadow: 0 1px 2px rgba(60, 64, 67, 0.3), 0 1px 3px 1px rgba(60, 64, 67, 0.15);\n",
              "    fill: var(--button-hover-fill-color);\n",
              "  }\n",
              "\n",
              "  .colab-df-quickchart-complete:disabled,\n",
              "  .colab-df-quickchart-complete:disabled:hover {\n",
              "    background-color: var(--disabled-bg-color);\n",
              "    fill: var(--disabled-fill-color);\n",
              "    box-shadow: none;\n",
              "  }\n",
              "\n",
              "  .colab-df-spinner {\n",
              "    border: 2px solid var(--fill-color);\n",
              "    border-color: transparent;\n",
              "    border-bottom-color: var(--fill-color);\n",
              "    animation:\n",
              "      spin 1s steps(1) infinite;\n",
              "  }\n",
              "\n",
              "  @keyframes spin {\n",
              "    0% {\n",
              "      border-color: transparent;\n",
              "      border-bottom-color: var(--fill-color);\n",
              "      border-left-color: var(--fill-color);\n",
              "    }\n",
              "    20% {\n",
              "      border-color: transparent;\n",
              "      border-left-color: var(--fill-color);\n",
              "      border-top-color: var(--fill-color);\n",
              "    }\n",
              "    30% {\n",
              "      border-color: transparent;\n",
              "      border-left-color: var(--fill-color);\n",
              "      border-top-color: var(--fill-color);\n",
              "      border-right-color: var(--fill-color);\n",
              "    }\n",
              "    40% {\n",
              "      border-color: transparent;\n",
              "      border-right-color: var(--fill-color);\n",
              "      border-top-color: var(--fill-color);\n",
              "    }\n",
              "    60% {\n",
              "      border-color: transparent;\n",
              "      border-right-color: var(--fill-color);\n",
              "    }\n",
              "    80% {\n",
              "      border-color: transparent;\n",
              "      border-right-color: var(--fill-color);\n",
              "      border-bottom-color: var(--fill-color);\n",
              "    }\n",
              "    90% {\n",
              "      border-color: transparent;\n",
              "      border-bottom-color: var(--fill-color);\n",
              "    }\n",
              "  }\n",
              "</style>\n",
              "\n",
              "  <script>\n",
              "    async function quickchart(key) {\n",
              "      const quickchartButtonEl =\n",
              "        document.querySelector('#' + key + ' button');\n",
              "      quickchartButtonEl.disabled = true;  // To prevent multiple clicks.\n",
              "      quickchartButtonEl.classList.add('colab-df-spinner');\n",
              "      try {\n",
              "        const charts = await google.colab.kernel.invokeFunction(\n",
              "            'suggestCharts', [key], {});\n",
              "      } catch (error) {\n",
              "        console.error('Error during call to suggestCharts:', error);\n",
              "      }\n",
              "      quickchartButtonEl.classList.remove('colab-df-spinner');\n",
              "      quickchartButtonEl.classList.add('colab-df-quickchart-complete');\n",
              "    }\n",
              "    (() => {\n",
              "      let quickchartButtonEl =\n",
              "        document.querySelector('#df-a902e904-8255-4277-b543-56995879c26e button');\n",
              "      quickchartButtonEl.style.display =\n",
              "        google.colab.kernel.accessAllowed ? 'block' : 'none';\n",
              "    })();\n",
              "  </script>\n",
              "</div>\n",
              "    </div>\n",
              "  </div>\n"
            ]
          },
          "metadata": {},
          "execution_count": 50
        }
      ],
      "source": [
        "ds_testing_conId = pd.get_dummies(ds_testing_conId, columns=[\"hotel\",\"meal\",\"country\", \"market_segment\", \"distribution_channel\", \"reserved_room_type\", \"assigned_room_type\", \"deposit_type\", \"customer_type\"], drop_first=True)\n",
        "ds_testing_conId.head()"
      ]
    },
    {
      "cell_type": "markdown",
      "metadata": {
        "id": "RX5LlpWB8sBP"
      },
      "source": [
        "Necesitamos que la fecha sea un int"
      ]
    },
    {
      "cell_type": "code",
      "execution_count": 51,
      "metadata": {
        "id": "zQFJhxij8tst"
      },
      "outputs": [],
      "source": [
        "ds_training['arrival_date_unix'] = (ds_training['arrival_date'] - pd.Timestamp('1970-01-01')) // pd.Timedelta(days=1)\n",
        "ds_training = ds_training.drop(columns=['arrival_date'], inplace=False)\n",
        "\n",
        "ds_testing_conId['arrival_date_unix'] = (ds_testing_conId['arrival_date'] - pd.Timestamp('1970-01-01')) // pd.Timedelta(days=1)\n",
        "ds_testing_conId = ds_testing_conId.drop(columns=['arrival_date'], inplace=False)"
      ]
    },
    {
      "cell_type": "code",
      "execution_count": 52,
      "metadata": {
        "id": "sPlZO2t47j8s"
      },
      "outputs": [],
      "source": [
        "ds_testing_sinId = ds_testing_conId.drop(columns=['id'], inplace=False)"
      ]
    },
    {
      "cell_type": "code",
      "execution_count": 53,
      "metadata": {
        "colab": {
          "base_uri": "https://localhost:8080/"
        },
        "id": "iIVne43VRDGS",
        "outputId": "9bc61410-09fd-4f64-9371-9e23ae8dc1b9"
      },
      "outputs": [
        {
          "output_type": "stream",
          "name": "stdout",
          "text": [
            "No hay columnas con valores NaN en ds_training.\n"
          ]
        }
      ],
      "source": [
        "nans_por_columna = ds_training.isna().sum()\n",
        "\n",
        "# Filtrar las columnas con valores NaN\n",
        "columnas_con_nans = nans_por_columna[nans_por_columna > 0]\n",
        "\n",
        "# Imprimir las columnas con NaN y la cantidad de NaN en cada una\n",
        "if not columnas_con_nans.empty:\n",
        "    print(\"Columnas con valores NaN y la cantidad de NaN en cada una:\")\n",
        "    print(columnas_con_nans)\n",
        "else:\n",
        "    print(\"No hay columnas con valores NaN en ds_training.\")"
      ]
    },
    {
      "cell_type": "markdown",
      "metadata": {
        "id": "QpK4a2bfgXEm"
      },
      "source": [
        "Dividimos el ds train para testear nuestros modelos"
      ]
    },
    {
      "cell_type": "code",
      "execution_count": 54,
      "metadata": {
        "id": "sL4P6jPLgbux"
      },
      "outputs": [],
      "source": [
        "# Dividir los datos en entrenamiento y prueba\n",
        "ds_entrenamiento, ds_testeo = train_test_split(\n",
        "    ds_training,  # DataFrame original\n",
        "    test_size=0.2,  # Proporción de datos de prueba\n",
        "    random_state=10  # Semilla aleatoria para reproducibilidad\n",
        ")\n",
        "\n",
        "# Definir X e Y para ambos conjuntos\n",
        "X_entrenamiento = ds_entrenamiento.drop(['is_canceled'], axis=1)\n",
        "X_testeo = ds_testeo.drop(['is_canceled'], axis=1)\n",
        "Y_entrenamiento = ds_entrenamiento['is_canceled']\n",
        "Y_testeo = ds_testeo['is_canceled']\n",
        "\n",
        "# Eliminar la columna 'id' en ambos conjuntos\n",
        "X_entrenamiento = X_entrenamiento.drop(columns=['id'])\n",
        "X_testeo = X_testeo.drop(columns=['id'])"
      ]
    },
    {
      "cell_type": "markdown",
      "source": [
        "## Modelo"
      ],
      "metadata": {
        "id": "5lVoGDdH7FmY"
      }
    },
    {
      "cell_type": "code",
      "source": [
        "sscaler=StandardScaler()\n",
        "sscaler.fit(pd.DataFrame(X_entrenamiento))"
      ],
      "metadata": {
        "colab": {
          "base_uri": "https://localhost:8080/",
          "height": 75
        },
        "id": "3lplbj5e7H36",
        "outputId": "e5fb9e9c-2cfb-44fa-8237-c097faddc1e9"
      },
      "execution_count": 55,
      "outputs": [
        {
          "output_type": "execute_result",
          "data": {
            "text/plain": [
              "StandardScaler()"
            ],
            "text/html": [
              "<style>#sk-container-id-2 {color: black;background-color: white;}#sk-container-id-2 pre{padding: 0;}#sk-container-id-2 div.sk-toggleable {background-color: white;}#sk-container-id-2 label.sk-toggleable__label {cursor: pointer;display: block;width: 100%;margin-bottom: 0;padding: 0.3em;box-sizing: border-box;text-align: center;}#sk-container-id-2 label.sk-toggleable__label-arrow:before {content: \"▸\";float: left;margin-right: 0.25em;color: #696969;}#sk-container-id-2 label.sk-toggleable__label-arrow:hover:before {color: black;}#sk-container-id-2 div.sk-estimator:hover label.sk-toggleable__label-arrow:before {color: black;}#sk-container-id-2 div.sk-toggleable__content {max-height: 0;max-width: 0;overflow: hidden;text-align: left;background-color: #f0f8ff;}#sk-container-id-2 div.sk-toggleable__content pre {margin: 0.2em;color: black;border-radius: 0.25em;background-color: #f0f8ff;}#sk-container-id-2 input.sk-toggleable__control:checked~div.sk-toggleable__content {max-height: 200px;max-width: 100%;overflow: auto;}#sk-container-id-2 input.sk-toggleable__control:checked~label.sk-toggleable__label-arrow:before {content: \"▾\";}#sk-container-id-2 div.sk-estimator input.sk-toggleable__control:checked~label.sk-toggleable__label {background-color: #d4ebff;}#sk-container-id-2 div.sk-label input.sk-toggleable__control:checked~label.sk-toggleable__label {background-color: #d4ebff;}#sk-container-id-2 input.sk-hidden--visually {border: 0;clip: rect(1px 1px 1px 1px);clip: rect(1px, 1px, 1px, 1px);height: 1px;margin: -1px;overflow: hidden;padding: 0;position: absolute;width: 1px;}#sk-container-id-2 div.sk-estimator {font-family: monospace;background-color: #f0f8ff;border: 1px dotted black;border-radius: 0.25em;box-sizing: border-box;margin-bottom: 0.5em;}#sk-container-id-2 div.sk-estimator:hover {background-color: #d4ebff;}#sk-container-id-2 div.sk-parallel-item::after {content: \"\";width: 100%;border-bottom: 1px solid gray;flex-grow: 1;}#sk-container-id-2 div.sk-label:hover label.sk-toggleable__label {background-color: #d4ebff;}#sk-container-id-2 div.sk-serial::before {content: \"\";position: absolute;border-left: 1px solid gray;box-sizing: border-box;top: 0;bottom: 0;left: 50%;z-index: 0;}#sk-container-id-2 div.sk-serial {display: flex;flex-direction: column;align-items: center;background-color: white;padding-right: 0.2em;padding-left: 0.2em;position: relative;}#sk-container-id-2 div.sk-item {position: relative;z-index: 1;}#sk-container-id-2 div.sk-parallel {display: flex;align-items: stretch;justify-content: center;background-color: white;position: relative;}#sk-container-id-2 div.sk-item::before, #sk-container-id-2 div.sk-parallel-item::before {content: \"\";position: absolute;border-left: 1px solid gray;box-sizing: border-box;top: 0;bottom: 0;left: 50%;z-index: -1;}#sk-container-id-2 div.sk-parallel-item {display: flex;flex-direction: column;z-index: 1;position: relative;background-color: white;}#sk-container-id-2 div.sk-parallel-item:first-child::after {align-self: flex-end;width: 50%;}#sk-container-id-2 div.sk-parallel-item:last-child::after {align-self: flex-start;width: 50%;}#sk-container-id-2 div.sk-parallel-item:only-child::after {width: 0;}#sk-container-id-2 div.sk-dashed-wrapped {border: 1px dashed gray;margin: 0 0.4em 0.5em 0.4em;box-sizing: border-box;padding-bottom: 0.4em;background-color: white;}#sk-container-id-2 div.sk-label label {font-family: monospace;font-weight: bold;display: inline-block;line-height: 1.2em;}#sk-container-id-2 div.sk-label-container {text-align: center;}#sk-container-id-2 div.sk-container {/* jupyter's `normalize.less` sets `[hidden] { display: none; }` but bootstrap.min.css set `[hidden] { display: none !important; }` so we also need the `!important` here to be able to override the default hidden behavior on the sphinx rendered scikit-learn.org. See: https://github.com/scikit-learn/scikit-learn/issues/21755 */display: inline-block !important;position: relative;}#sk-container-id-2 div.sk-text-repr-fallback {display: none;}</style><div id=\"sk-container-id-2\" class=\"sk-top-container\"><div class=\"sk-text-repr-fallback\"><pre>StandardScaler()</pre><b>In a Jupyter environment, please rerun this cell to show the HTML representation or trust the notebook. <br />On GitHub, the HTML representation is unable to render, please try loading this page with nbviewer.org.</b></div><div class=\"sk-container\" hidden><div class=\"sk-item\"><div class=\"sk-estimator sk-toggleable\"><input class=\"sk-toggleable__control sk-hidden--visually\" id=\"sk-estimator-id-2\" type=\"checkbox\" checked><label for=\"sk-estimator-id-2\" class=\"sk-toggleable__label sk-toggleable__label-arrow\">StandardScaler</label><div class=\"sk-toggleable__content\"><pre>StandardScaler()</pre></div></div></div></div></div>"
            ]
          },
          "metadata": {},
          "execution_count": 55
        }
      ]
    },
    {
      "cell_type": "code",
      "source": [
        "x_train_transform=sscaler.transform(pd.DataFrame(X_entrenamiento))\n",
        "x_test_transform=sscaler.transform(pd.DataFrame(X_entrenamiento))\n",
        "\n",
        "x_train_norm = pd.DataFrame(x_train_transform, columns=X_entrenamiento.columns)\n",
        "x_test_norm = pd.DataFrame(x_test_transform, columns=X_entrenamiento.columns)"
      ],
      "metadata": {
        "id": "eufYFfTX7jeS"
      },
      "execution_count": 56,
      "outputs": []
    },
    {
      "cell_type": "code",
      "source": [
        "x_train_norm.head(2)"
      ],
      "metadata": {
        "colab": {
          "base_uri": "https://localhost:8080/",
          "height": 179
        },
        "id": "ETqYj9aa7xZB",
        "outputId": "b45f8ffd-794c-42ae-8628-cf213ef62378"
      },
      "execution_count": 57,
      "outputs": [
        {
          "output_type": "execute_result",
          "data": {
            "text/plain": [
              "   Unnamed: 0  lead_time  arrival_date_week_number  stays_in_weekend_nights  \\\n",
              "0    0.883909  -0.844583                  0.797077                 0.082221   \n",
              "1    0.126753  -1.015156                 -1.568126                -0.934090   \n",
              "\n",
              "   stays_in_week_nights    adults  is_repeated_guest  previous_cancellations  \\\n",
              "0              0.264627  0.222418          -0.161098               -0.115414   \n",
              "1             -0.816344  0.222418          -0.161098               -0.115414   \n",
              "\n",
              "   previous_bookings_not_canceled  booking_changes  ...  assigned_room_type_H  \\\n",
              "0                       -0.080066        -0.316931  ...             -0.078579   \n",
              "1                       -0.080066        -0.316931  ...             -0.078579   \n",
              "\n",
              "   assigned_room_type_I  assigned_room_type_K  assigned_room_type_L  \\\n",
              "0             -0.036512             -0.032589             -0.004561   \n",
              "1             -0.036512             -0.032589             -0.004561   \n",
              "\n",
              "   deposit_type_Non Refund  deposit_type_Refundable  customer_type_Group  \\\n",
              "0                -0.451466                -0.035351            -0.065122   \n",
              "1                -0.451466                -0.035351            -0.065122   \n",
              "\n",
              "   customer_type_Transient  customer_type_Transient-Party  arrival_date_unix  \n",
              "0                 0.555636                      -0.498042           0.076384  \n",
              "1                 0.555636                      -0.498042          -0.909822  \n",
              "\n",
              "[2 rows x 202 columns]"
            ],
            "text/html": [
              "\n",
              "  <div id=\"df-e853302d-6e47-402c-aadf-2853f69f19e8\" class=\"colab-df-container\">\n",
              "    <div>\n",
              "<style scoped>\n",
              "    .dataframe tbody tr th:only-of-type {\n",
              "        vertical-align: middle;\n",
              "    }\n",
              "\n",
              "    .dataframe tbody tr th {\n",
              "        vertical-align: top;\n",
              "    }\n",
              "\n",
              "    .dataframe thead th {\n",
              "        text-align: right;\n",
              "    }\n",
              "</style>\n",
              "<table border=\"1\" class=\"dataframe\">\n",
              "  <thead>\n",
              "    <tr style=\"text-align: right;\">\n",
              "      <th></th>\n",
              "      <th>Unnamed: 0</th>\n",
              "      <th>lead_time</th>\n",
              "      <th>arrival_date_week_number</th>\n",
              "      <th>stays_in_weekend_nights</th>\n",
              "      <th>stays_in_week_nights</th>\n",
              "      <th>adults</th>\n",
              "      <th>is_repeated_guest</th>\n",
              "      <th>previous_cancellations</th>\n",
              "      <th>previous_bookings_not_canceled</th>\n",
              "      <th>booking_changes</th>\n",
              "      <th>...</th>\n",
              "      <th>assigned_room_type_H</th>\n",
              "      <th>assigned_room_type_I</th>\n",
              "      <th>assigned_room_type_K</th>\n",
              "      <th>assigned_room_type_L</th>\n",
              "      <th>deposit_type_Non Refund</th>\n",
              "      <th>deposit_type_Refundable</th>\n",
              "      <th>customer_type_Group</th>\n",
              "      <th>customer_type_Transient</th>\n",
              "      <th>customer_type_Transient-Party</th>\n",
              "      <th>arrival_date_unix</th>\n",
              "    </tr>\n",
              "  </thead>\n",
              "  <tbody>\n",
              "    <tr>\n",
              "      <th>0</th>\n",
              "      <td>0.883909</td>\n",
              "      <td>-0.844583</td>\n",
              "      <td>0.797077</td>\n",
              "      <td>0.082221</td>\n",
              "      <td>0.264627</td>\n",
              "      <td>0.222418</td>\n",
              "      <td>-0.161098</td>\n",
              "      <td>-0.115414</td>\n",
              "      <td>-0.080066</td>\n",
              "      <td>-0.316931</td>\n",
              "      <td>...</td>\n",
              "      <td>-0.078579</td>\n",
              "      <td>-0.036512</td>\n",
              "      <td>-0.032589</td>\n",
              "      <td>-0.004561</td>\n",
              "      <td>-0.451466</td>\n",
              "      <td>-0.035351</td>\n",
              "      <td>-0.065122</td>\n",
              "      <td>0.555636</td>\n",
              "      <td>-0.498042</td>\n",
              "      <td>0.076384</td>\n",
              "    </tr>\n",
              "    <tr>\n",
              "      <th>1</th>\n",
              "      <td>0.126753</td>\n",
              "      <td>-1.015156</td>\n",
              "      <td>-1.568126</td>\n",
              "      <td>-0.934090</td>\n",
              "      <td>-0.816344</td>\n",
              "      <td>0.222418</td>\n",
              "      <td>-0.161098</td>\n",
              "      <td>-0.115414</td>\n",
              "      <td>-0.080066</td>\n",
              "      <td>-0.316931</td>\n",
              "      <td>...</td>\n",
              "      <td>-0.078579</td>\n",
              "      <td>-0.036512</td>\n",
              "      <td>-0.032589</td>\n",
              "      <td>-0.004561</td>\n",
              "      <td>-0.451466</td>\n",
              "      <td>-0.035351</td>\n",
              "      <td>-0.065122</td>\n",
              "      <td>0.555636</td>\n",
              "      <td>-0.498042</td>\n",
              "      <td>-0.909822</td>\n",
              "    </tr>\n",
              "  </tbody>\n",
              "</table>\n",
              "<p>2 rows × 202 columns</p>\n",
              "</div>\n",
              "    <div class=\"colab-df-buttons\">\n",
              "\n",
              "  <div class=\"colab-df-container\">\n",
              "    <button class=\"colab-df-convert\" onclick=\"convertToInteractive('df-e853302d-6e47-402c-aadf-2853f69f19e8')\"\n",
              "            title=\"Convert this dataframe to an interactive table.\"\n",
              "            style=\"display:none;\">\n",
              "\n",
              "  <svg xmlns=\"http://www.w3.org/2000/svg\" height=\"24px\" viewBox=\"0 -960 960 960\">\n",
              "    <path d=\"M120-120v-720h720v720H120Zm60-500h600v-160H180v160Zm220 220h160v-160H400v160Zm0 220h160v-160H400v160ZM180-400h160v-160H180v160Zm440 0h160v-160H620v160ZM180-180h160v-160H180v160Zm440 0h160v-160H620v160Z\"/>\n",
              "  </svg>\n",
              "    </button>\n",
              "\n",
              "  <style>\n",
              "    .colab-df-container {\n",
              "      display:flex;\n",
              "      gap: 12px;\n",
              "    }\n",
              "\n",
              "    .colab-df-convert {\n",
              "      background-color: #E8F0FE;\n",
              "      border: none;\n",
              "      border-radius: 50%;\n",
              "      cursor: pointer;\n",
              "      display: none;\n",
              "      fill: #1967D2;\n",
              "      height: 32px;\n",
              "      padding: 0 0 0 0;\n",
              "      width: 32px;\n",
              "    }\n",
              "\n",
              "    .colab-df-convert:hover {\n",
              "      background-color: #E2EBFA;\n",
              "      box-shadow: 0px 1px 2px rgba(60, 64, 67, 0.3), 0px 1px 3px 1px rgba(60, 64, 67, 0.15);\n",
              "      fill: #174EA6;\n",
              "    }\n",
              "\n",
              "    .colab-df-buttons div {\n",
              "      margin-bottom: 4px;\n",
              "    }\n",
              "\n",
              "    [theme=dark] .colab-df-convert {\n",
              "      background-color: #3B4455;\n",
              "      fill: #D2E3FC;\n",
              "    }\n",
              "\n",
              "    [theme=dark] .colab-df-convert:hover {\n",
              "      background-color: #434B5C;\n",
              "      box-shadow: 0px 1px 3px 1px rgba(0, 0, 0, 0.15);\n",
              "      filter: drop-shadow(0px 1px 2px rgba(0, 0, 0, 0.3));\n",
              "      fill: #FFFFFF;\n",
              "    }\n",
              "  </style>\n",
              "\n",
              "    <script>\n",
              "      const buttonEl =\n",
              "        document.querySelector('#df-e853302d-6e47-402c-aadf-2853f69f19e8 button.colab-df-convert');\n",
              "      buttonEl.style.display =\n",
              "        google.colab.kernel.accessAllowed ? 'block' : 'none';\n",
              "\n",
              "      async function convertToInteractive(key) {\n",
              "        const element = document.querySelector('#df-e853302d-6e47-402c-aadf-2853f69f19e8');\n",
              "        const dataTable =\n",
              "          await google.colab.kernel.invokeFunction('convertToInteractive',\n",
              "                                                    [key], {});\n",
              "        if (!dataTable) return;\n",
              "\n",
              "        const docLinkHtml = 'Like what you see? Visit the ' +\n",
              "          '<a target=\"_blank\" href=https://colab.research.google.com/notebooks/data_table.ipynb>data table notebook</a>'\n",
              "          + ' to learn more about interactive tables.';\n",
              "        element.innerHTML = '';\n",
              "        dataTable['output_type'] = 'display_data';\n",
              "        await google.colab.output.renderOutput(dataTable, element);\n",
              "        const docLink = document.createElement('div');\n",
              "        docLink.innerHTML = docLinkHtml;\n",
              "        element.appendChild(docLink);\n",
              "      }\n",
              "    </script>\n",
              "  </div>\n",
              "\n",
              "\n",
              "<div id=\"df-7ca7d037-bd6a-4885-b503-8ca193af09ca\">\n",
              "  <button class=\"colab-df-quickchart\" onclick=\"quickchart('df-7ca7d037-bd6a-4885-b503-8ca193af09ca')\"\n",
              "            title=\"Suggest charts.\"\n",
              "            style=\"display:none;\">\n",
              "\n",
              "<svg xmlns=\"http://www.w3.org/2000/svg\" height=\"24px\"viewBox=\"0 0 24 24\"\n",
              "     width=\"24px\">\n",
              "    <g>\n",
              "        <path d=\"M19 3H5c-1.1 0-2 .9-2 2v14c0 1.1.9 2 2 2h14c1.1 0 2-.9 2-2V5c0-1.1-.9-2-2-2zM9 17H7v-7h2v7zm4 0h-2V7h2v10zm4 0h-2v-4h2v4z\"/>\n",
              "    </g>\n",
              "</svg>\n",
              "  </button>\n",
              "\n",
              "<style>\n",
              "  .colab-df-quickchart {\n",
              "      --bg-color: #E8F0FE;\n",
              "      --fill-color: #1967D2;\n",
              "      --hover-bg-color: #E2EBFA;\n",
              "      --hover-fill-color: #174EA6;\n",
              "      --disabled-fill-color: #AAA;\n",
              "      --disabled-bg-color: #DDD;\n",
              "  }\n",
              "\n",
              "  [theme=dark] .colab-df-quickchart {\n",
              "      --bg-color: #3B4455;\n",
              "      --fill-color: #D2E3FC;\n",
              "      --hover-bg-color: #434B5C;\n",
              "      --hover-fill-color: #FFFFFF;\n",
              "      --disabled-bg-color: #3B4455;\n",
              "      --disabled-fill-color: #666;\n",
              "  }\n",
              "\n",
              "  .colab-df-quickchart {\n",
              "    background-color: var(--bg-color);\n",
              "    border: none;\n",
              "    border-radius: 50%;\n",
              "    cursor: pointer;\n",
              "    display: none;\n",
              "    fill: var(--fill-color);\n",
              "    height: 32px;\n",
              "    padding: 0;\n",
              "    width: 32px;\n",
              "  }\n",
              "\n",
              "  .colab-df-quickchart:hover {\n",
              "    background-color: var(--hover-bg-color);\n",
              "    box-shadow: 0 1px 2px rgba(60, 64, 67, 0.3), 0 1px 3px 1px rgba(60, 64, 67, 0.15);\n",
              "    fill: var(--button-hover-fill-color);\n",
              "  }\n",
              "\n",
              "  .colab-df-quickchart-complete:disabled,\n",
              "  .colab-df-quickchart-complete:disabled:hover {\n",
              "    background-color: var(--disabled-bg-color);\n",
              "    fill: var(--disabled-fill-color);\n",
              "    box-shadow: none;\n",
              "  }\n",
              "\n",
              "  .colab-df-spinner {\n",
              "    border: 2px solid var(--fill-color);\n",
              "    border-color: transparent;\n",
              "    border-bottom-color: var(--fill-color);\n",
              "    animation:\n",
              "      spin 1s steps(1) infinite;\n",
              "  }\n",
              "\n",
              "  @keyframes spin {\n",
              "    0% {\n",
              "      border-color: transparent;\n",
              "      border-bottom-color: var(--fill-color);\n",
              "      border-left-color: var(--fill-color);\n",
              "    }\n",
              "    20% {\n",
              "      border-color: transparent;\n",
              "      border-left-color: var(--fill-color);\n",
              "      border-top-color: var(--fill-color);\n",
              "    }\n",
              "    30% {\n",
              "      border-color: transparent;\n",
              "      border-left-color: var(--fill-color);\n",
              "      border-top-color: var(--fill-color);\n",
              "      border-right-color: var(--fill-color);\n",
              "    }\n",
              "    40% {\n",
              "      border-color: transparent;\n",
              "      border-right-color: var(--fill-color);\n",
              "      border-top-color: var(--fill-color);\n",
              "    }\n",
              "    60% {\n",
              "      border-color: transparent;\n",
              "      border-right-color: var(--fill-color);\n",
              "    }\n",
              "    80% {\n",
              "      border-color: transparent;\n",
              "      border-right-color: var(--fill-color);\n",
              "      border-bottom-color: var(--fill-color);\n",
              "    }\n",
              "    90% {\n",
              "      border-color: transparent;\n",
              "      border-bottom-color: var(--fill-color);\n",
              "    }\n",
              "  }\n",
              "</style>\n",
              "\n",
              "  <script>\n",
              "    async function quickchart(key) {\n",
              "      const quickchartButtonEl =\n",
              "        document.querySelector('#' + key + ' button');\n",
              "      quickchartButtonEl.disabled = true;  // To prevent multiple clicks.\n",
              "      quickchartButtonEl.classList.add('colab-df-spinner');\n",
              "      try {\n",
              "        const charts = await google.colab.kernel.invokeFunction(\n",
              "            'suggestCharts', [key], {});\n",
              "      } catch (error) {\n",
              "        console.error('Error during call to suggestCharts:', error);\n",
              "      }\n",
              "      quickchartButtonEl.classList.remove('colab-df-spinner');\n",
              "      quickchartButtonEl.classList.add('colab-df-quickchart-complete');\n",
              "    }\n",
              "    (() => {\n",
              "      let quickchartButtonEl =\n",
              "        document.querySelector('#df-7ca7d037-bd6a-4885-b503-8ca193af09ca button');\n",
              "      quickchartButtonEl.style.display =\n",
              "        google.colab.kernel.accessAllowed ? 'block' : 'none';\n",
              "    })();\n",
              "  </script>\n",
              "</div>\n",
              "    </div>\n",
              "  </div>\n"
            ]
          },
          "metadata": {},
          "execution_count": 57
        }
      ]
    },
    {
      "cell_type": "code",
      "source": [
        "# Calcula la cantidad de clases\n",
        "cant_clases=len(np.unique(Y_entrenamiento))\n",
        "d_in=len(X_entrenamiento.columns)"
      ],
      "metadata": {
        "id": "xFzj099570Ga"
      },
      "execution_count": 58,
      "outputs": []
    },
    {
      "cell_type": "code",
      "source": [
        "#Limpiar bloques\n",
        "from IPython.display import clear_output\n",
        "\n",
        "class TrainingPlot(keras.callbacks.Callback):\n",
        "\n",
        "    # This function is called when the training begins\n",
        "    def on_train_begin(self, logs={}):\n",
        "        # Initialize the lists for holding the logs, losses and accuracies\n",
        "        self.losses = []\n",
        "        self.Accuracy = []\n",
        "        self.val_losses = []\n",
        "        self.val_Accuracy = []\n",
        "        self.logs = []\n",
        "\n",
        "    # This function is called at the end of each epoch\n",
        "    def on_epoch_end(self, epoch, logs={}):\n",
        "\n",
        "        # Append the logs, losses and accuracies to the lists\n",
        "        self.logs.append(logs)\n",
        "        self.losses.append(logs.get('loss'))\n",
        "        self.Accuracy.append(logs.get('Accuracy'))\n",
        "        self.val_losses.append(logs.get('val_loss'))\n",
        "        self.val_Accuracy.append(logs.get('val_Accuracy'))\n",
        "\n",
        "        # Before plotting ensure at least 2 epochs have passed\n",
        "        if len(self.losses) > 1:\n",
        "\n",
        "            N = np.arange(0, len(self.losses))\n",
        "\n",
        "            # You can chose the style of your preference\n",
        "            # print(plt.style.available) to see the available options\n",
        "            #plt.style.use(\"seaborn\")\n",
        "\n",
        "            # Plot train loss, train acc, val loss and val acc against epochs passed\n",
        "            plt.figure()\n",
        "            plt.plot(N, self.losses, label = \"train_loss\")\n",
        "            plt.plot(N, self.Accuracy, label = \"train_acc\")\n",
        "            plt.plot(N, self.val_losses, label = \"val_loss\")\n",
        "            plt.plot(N, self.val_Accuracy, label = \"val_Accuracy\")\n",
        "            plt.title(\"Training Loss and Accuracy [Epoch {}]\".format(epoch))\n",
        "            plt.xlabel(\"Epoch #\")\n",
        "            plt.ylabel(\"Loss/Accuracy\")\n",
        "            plt.legend()\n",
        "            # Make sure there exists a folder called output in the current directory\n",
        "            # or replace 'output' with whatever direcory you want to put in the plots\n",
        "            # plt.savefig('./output/Epoch-{}.png'.format(epoch))\n",
        "            clear_output(True)\n",
        "            plt.show()\n",
        "            plt.close()\n",
        "\n",
        "plotPerformance = TrainingPlot()"
      ],
      "metadata": {
        "id": "5e7Md29x77Bb"
      },
      "execution_count": 59,
      "outputs": []
    },
    {
      "cell_type": "code",
      "source": [
        "import keras.backend as K\n",
        "\n",
        "class RoundingActivationLayer(keras.layers.Layer):\n",
        "    def __init__(self):\n",
        "        super(RoundingActivationLayer, self).__init__()\n",
        "\n",
        "    def build(self, input_shape):\n",
        "        super(RoundingActivationLayer, self).build(input_shape)\n",
        "\n",
        "    def call(self, inputs):\n",
        "        return K.cast(K.greater(inputs, 0.5), K.floatx())"
      ],
      "metadata": {
        "id": "74thl2w37-9t"
      },
      "execution_count": 60,
      "outputs": []
    },
    {
      "cell_type": "code",
      "source": [
        "x_train_norm.shape"
      ],
      "metadata": {
        "colab": {
          "base_uri": "https://localhost:8080/"
        },
        "id": "85FeqJba8BgT",
        "outputId": "65dcfa19-966f-434c-821f-aeaed7f4df72"
      },
      "execution_count": 61,
      "outputs": [
        {
          "output_type": "execute_result",
          "data": {
            "text/plain": [
              "(48071, 202)"
            ]
          },
          "metadata": {},
          "execution_count": 61
        }
      ]
    },
    {
      "cell_type": "code",
      "source": [
        "# Calcula la cantidad de clases\n",
        "cant_clases=len(np.unique(Y_entrenamiento))\n",
        "d_in=len(X_entrenamiento.columns)\n",
        "\n",
        "# Se crea el modelo\n",
        "modelo_rn_1 = keras.Sequential([\n",
        "    keras.layers.Dense(1,input_shape=(d_in,), activation=\"relu\"),\n",
        "    keras.layers.Dense(1, activation='sigmoid')\n",
        "])\n",
        "\n",
        "modelo_rn_1.summary()"
      ],
      "metadata": {
        "colab": {
          "base_uri": "https://localhost:8080/"
        },
        "id": "Mjyp4a948EQ4",
        "outputId": "ac782452-23d1-4a94-9e44-5c1e32ab5abd"
      },
      "execution_count": 62,
      "outputs": [
        {
          "output_type": "stream",
          "name": "stdout",
          "text": [
            "Model: \"sequential_1\"\n",
            "_________________________________________________________________\n",
            " Layer (type)                Output Shape              Param #   \n",
            "=================================================================\n",
            " dense_2 (Dense)             (None, 1)                 203       \n",
            "                                                                 \n",
            " dense_3 (Dense)             (None, 1)                 2         \n",
            "                                                                 \n",
            "=================================================================\n",
            "Total params: 205\n",
            "Trainable params: 205\n",
            "Non-trainable params: 0\n",
            "_________________________________________________________________\n"
          ]
        }
      ]
    },
    {
      "cell_type": "code",
      "source": [
        "# Se compila el modelo\n",
        "modelo_rn_1.compile(\n",
        "  loss='binary_crossentropy',\n",
        "  optimizer=keras.optimizers.SGD(learning_rate=0.01),\n",
        "  # metricas para ir calculando en cada iteracion o batch\n",
        "  metrics=['AUC', 'Accuracy'],\n",
        ")\n",
        "\n",
        "cant_epochs_modelo_1 = 50\n",
        "from sklearn.model_selection import train_test_split\n",
        "\n",
        "# Dividir los datos en un conjunto de entrenamiento y un conjunto de etiquetas\n",
        "x_train, x_labels, y_train, y_labels = train_test_split(x_train_norm, Y_entrenamiento, test_size=0.25, random_state=42)\n",
        "\n",
        "# Verificar las dimensiones de los conjuntos de entrenamiento y etiquetas\n",
        "print(len(x_train), len(y_train))\n",
        "\n",
        "# Entrenar el modelo con los datos divididos\n",
        "cant_epochs_modelo_1 = 50\n",
        "modelo_rn_1_historia = modelo_rn_1.fit(\n",
        "    x_train,\n",
        "    y_train,\n",
        "    epochs=cant_epochs_modelo_1,\n",
        "    batch_size=64,\n",
        "    validation_data=(x_test_norm, Y_entrenamiento))"
      ],
      "metadata": {
        "colab": {
          "base_uri": "https://localhost:8080/"
        },
        "id": "5c0YNfsg8JIq",
        "outputId": "d47cbad7-b6e2-4e3e-bc49-c8ecc6afd7de"
      },
      "execution_count": 63,
      "outputs": [
        {
          "output_type": "stream",
          "name": "stdout",
          "text": [
            "36053 36053\n",
            "Epoch 1/50\n",
            "564/564 [==============================] - 3s 4ms/step - loss: 0.6725 - auc: 0.6818 - Accuracy: 0.6444 - val_loss: 0.6367 - val_auc: 0.7343 - val_Accuracy: 0.6884\n",
            "Epoch 2/50\n",
            "564/564 [==============================] - 4s 6ms/step - loss: 0.5937 - auc: 0.7583 - Accuracy: 0.7124 - val_loss: 0.5562 - val_auc: 0.7761 - val_Accuracy: 0.7270\n",
            "Epoch 3/50\n",
            "564/564 [==============================] - 4s 8ms/step - loss: 0.5357 - auc: 0.7879 - Accuracy: 0.7363 - val_loss: 0.5169 - val_auc: 0.7982 - val_Accuracy: 0.7445\n",
            "Epoch 4/50\n",
            "564/564 [==============================] - 5s 8ms/step - loss: 0.5056 - auc: 0.8088 - Accuracy: 0.7524 - val_loss: 0.4942 - val_auc: 0.8205 - val_Accuracy: 0.7597\n",
            "Epoch 5/50\n",
            "564/564 [==============================] - 5s 8ms/step - loss: 0.4846 - auc: 0.8324 - Accuracy: 0.7680 - val_loss: 0.4743 - val_auc: 0.8424 - val_Accuracy: 0.7758\n",
            "Epoch 6/50\n",
            "564/564 [==============================] - 5s 8ms/step - loss: 0.4672 - auc: 0.8482 - Accuracy: 0.7794 - val_loss: 0.4604 - val_auc: 0.8536 - val_Accuracy: 0.7833\n",
            "Epoch 7/50\n",
            "564/564 [==============================] - 4s 7ms/step - loss: 0.4564 - auc: 0.8567 - Accuracy: 0.7855 - val_loss: 0.4523 - val_auc: 0.8596 - val_Accuracy: 0.7892\n",
            "Epoch 8/50\n",
            "564/564 [==============================] - 6s 10ms/step - loss: 0.4483 - auc: 0.8630 - Accuracy: 0.7914 - val_loss: 0.4433 - val_auc: 0.8674 - val_Accuracy: 0.7938\n",
            "Epoch 9/50\n",
            "564/564 [==============================] - 4s 7ms/step - loss: 0.4408 - auc: 0.8689 - Accuracy: 0.7950 - val_loss: 0.4379 - val_auc: 0.8716 - val_Accuracy: 0.7956\n",
            "Epoch 10/50\n",
            "564/564 [==============================] - 2s 3ms/step - loss: 0.4361 - auc: 0.8731 - Accuracy: 0.7969 - val_loss: 0.4342 - val_auc: 0.8743 - val_Accuracy: 0.7978\n",
            "Epoch 11/50\n",
            "564/564 [==============================] - 2s 3ms/step - loss: 0.4324 - auc: 0.8760 - Accuracy: 0.7987 - val_loss: 0.4298 - val_auc: 0.8780 - val_Accuracy: 0.8001\n",
            "Epoch 12/50\n",
            "564/564 [==============================] - 2s 4ms/step - loss: 0.4288 - auc: 0.8784 - Accuracy: 0.8007 - val_loss: 0.4271 - val_auc: 0.8796 - val_Accuracy: 0.8016\n",
            "Epoch 13/50\n",
            "564/564 [==============================] - 3s 5ms/step - loss: 0.4263 - auc: 0.8797 - Accuracy: 0.8018 - val_loss: 0.4252 - val_auc: 0.8814 - val_Accuracy: 0.8024\n",
            "Epoch 14/50\n",
            "564/564 [==============================] - 3s 5ms/step - loss: 0.4244 - auc: 0.8814 - Accuracy: 0.8032 - val_loss: 0.4233 - val_auc: 0.8825 - val_Accuracy: 0.8016\n",
            "Epoch 15/50\n",
            "564/564 [==============================] - 2s 3ms/step - loss: 0.4227 - auc: 0.8824 - Accuracy: 0.8031 - val_loss: 0.4219 - val_auc: 0.8830 - val_Accuracy: 0.8022\n",
            "Epoch 16/50\n",
            "564/564 [==============================] - 2s 3ms/step - loss: 0.4214 - auc: 0.8831 - Accuracy: 0.8030 - val_loss: 0.4206 - val_auc: 0.8839 - val_Accuracy: 0.8035\n",
            "Epoch 17/50\n",
            "564/564 [==============================] - 2s 3ms/step - loss: 0.4204 - auc: 0.8835 - Accuracy: 0.8037 - val_loss: 0.4196 - val_auc: 0.8845 - val_Accuracy: 0.8041\n",
            "Epoch 18/50\n",
            "564/564 [==============================] - 2s 3ms/step - loss: 0.4196 - auc: 0.8840 - Accuracy: 0.8027 - val_loss: 0.4186 - val_auc: 0.8851 - val_Accuracy: 0.8047\n",
            "Epoch 19/50\n",
            "564/564 [==============================] - 2s 4ms/step - loss: 0.4186 - auc: 0.8845 - Accuracy: 0.8040 - val_loss: 0.4181 - val_auc: 0.8852 - val_Accuracy: 0.8044\n",
            "Epoch 20/50\n",
            "564/564 [==============================] - 4s 7ms/step - loss: 0.4180 - auc: 0.8850 - Accuracy: 0.8037 - val_loss: 0.4173 - val_auc: 0.8857 - val_Accuracy: 0.8035\n",
            "Epoch 21/50\n",
            "564/564 [==============================] - 3s 5ms/step - loss: 0.4173 - auc: 0.8851 - Accuracy: 0.8045 - val_loss: 0.4168 - val_auc: 0.8859 - val_Accuracy: 0.8029\n",
            "Epoch 22/50\n",
            "564/564 [==============================] - 2s 3ms/step - loss: 0.4170 - auc: 0.8852 - Accuracy: 0.8041 - val_loss: 0.4165 - val_auc: 0.8861 - val_Accuracy: 0.8061\n",
            "Epoch 23/50\n",
            "564/564 [==============================] - 2s 4ms/step - loss: 0.4165 - auc: 0.8856 - Accuracy: 0.8048 - val_loss: 0.4160 - val_auc: 0.8862 - val_Accuracy: 0.8047\n",
            "Epoch 24/50\n",
            "564/564 [==============================] - 2s 3ms/step - loss: 0.4162 - auc: 0.8856 - Accuracy: 0.8047 - val_loss: 0.4156 - val_auc: 0.8866 - val_Accuracy: 0.8041\n",
            "Epoch 25/50\n",
            "564/564 [==============================] - 2s 4ms/step - loss: 0.4159 - auc: 0.8859 - Accuracy: 0.8045 - val_loss: 0.4153 - val_auc: 0.8868 - val_Accuracy: 0.8051\n",
            "Epoch 26/50\n",
            "564/564 [==============================] - 4s 7ms/step - loss: 0.4155 - auc: 0.8861 - Accuracy: 0.8045 - val_loss: 0.4148 - val_auc: 0.8868 - val_Accuracy: 0.8042\n",
            "Epoch 27/50\n",
            "564/564 [==============================] - 3s 5ms/step - loss: 0.4152 - auc: 0.8863 - Accuracy: 0.8049 - val_loss: 0.4150 - val_auc: 0.8867 - val_Accuracy: 0.8055\n",
            "Epoch 28/50\n",
            "564/564 [==============================] - 2s 3ms/step - loss: 0.4149 - auc: 0.8863 - Accuracy: 0.8049 - val_loss: 0.4143 - val_auc: 0.8871 - val_Accuracy: 0.8037\n",
            "Epoch 29/50\n",
            "564/564 [==============================] - 2s 4ms/step - loss: 0.4148 - auc: 0.8864 - Accuracy: 0.8042 - val_loss: 0.4144 - val_auc: 0.8871 - val_Accuracy: 0.8046\n",
            "Epoch 30/50\n",
            "564/564 [==============================] - 2s 3ms/step - loss: 0.4145 - auc: 0.8864 - Accuracy: 0.8047 - val_loss: 0.4140 - val_auc: 0.8872 - val_Accuracy: 0.8047\n",
            "Epoch 31/50\n",
            "564/564 [==============================] - 2s 4ms/step - loss: 0.4141 - auc: 0.8868 - Accuracy: 0.8050 - val_loss: 0.4140 - val_auc: 0.8872 - val_Accuracy: 0.8056\n",
            "Epoch 32/50\n",
            "564/564 [==============================] - 2s 4ms/step - loss: 0.4140 - auc: 0.8868 - Accuracy: 0.8049 - val_loss: 0.4145 - val_auc: 0.8871 - val_Accuracy: 0.8054\n",
            "Epoch 33/50\n",
            "564/564 [==============================] - 4s 7ms/step - loss: 0.4141 - auc: 0.8867 - Accuracy: 0.8049 - val_loss: 0.4135 - val_auc: 0.8876 - val_Accuracy: 0.8042\n",
            "Epoch 34/50\n",
            "564/564 [==============================] - 2s 3ms/step - loss: 0.4137 - auc: 0.8870 - Accuracy: 0.8054 - val_loss: 0.4136 - val_auc: 0.8877 - val_Accuracy: 0.8050\n",
            "Epoch 35/50\n",
            "564/564 [==============================] - 2s 3ms/step - loss: 0.4134 - auc: 0.8873 - Accuracy: 0.8050 - val_loss: 0.4133 - val_auc: 0.8875 - val_Accuracy: 0.8040\n",
            "Epoch 36/50\n",
            "564/564 [==============================] - 2s 3ms/step - loss: 0.4134 - auc: 0.8872 - Accuracy: 0.8046 - val_loss: 0.4128 - val_auc: 0.8880 - val_Accuracy: 0.8056\n",
            "Epoch 37/50\n",
            "564/564 [==============================] - 2s 4ms/step - loss: 0.4133 - auc: 0.8873 - Accuracy: 0.8043 - val_loss: 0.4129 - val_auc: 0.8880 - val_Accuracy: 0.8056\n",
            "Epoch 38/50\n",
            "564/564 [==============================] - 2s 3ms/step - loss: 0.4132 - auc: 0.8873 - Accuracy: 0.8045 - val_loss: 0.4130 - val_auc: 0.8879 - val_Accuracy: 0.8047\n",
            "Epoch 39/50\n",
            "564/564 [==============================] - 4s 7ms/step - loss: 0.4133 - auc: 0.8873 - Accuracy: 0.8048 - val_loss: 0.4126 - val_auc: 0.8882 - val_Accuracy: 0.8058\n",
            "Epoch 40/50\n",
            "564/564 [==============================] - 3s 5ms/step - loss: 0.4130 - auc: 0.8875 - Accuracy: 0.8052 - val_loss: 0.4125 - val_auc: 0.8881 - val_Accuracy: 0.8058\n",
            "Epoch 41/50\n",
            "564/564 [==============================] - 2s 3ms/step - loss: 0.4128 - auc: 0.8876 - Accuracy: 0.8046 - val_loss: 0.4129 - val_auc: 0.8881 - val_Accuracy: 0.8055\n",
            "Epoch 42/50\n",
            "564/564 [==============================] - 2s 4ms/step - loss: 0.4129 - auc: 0.8876 - Accuracy: 0.8042 - val_loss: 0.4127 - val_auc: 0.8880 - val_Accuracy: 0.8047\n",
            "Epoch 43/50\n",
            "564/564 [==============================] - 2s 4ms/step - loss: 0.4128 - auc: 0.8875 - Accuracy: 0.8046 - val_loss: 0.4126 - val_auc: 0.8879 - val_Accuracy: 0.8052\n",
            "Epoch 44/50\n",
            "564/564 [==============================] - 2s 3ms/step - loss: 0.4128 - auc: 0.8875 - Accuracy: 0.8055 - val_loss: 0.4123 - val_auc: 0.8883 - val_Accuracy: 0.8046\n",
            "Epoch 45/50\n",
            "564/564 [==============================] - 4s 7ms/step - loss: 0.4126 - auc: 0.8876 - Accuracy: 0.8054 - val_loss: 0.4125 - val_auc: 0.8883 - val_Accuracy: 0.8052\n",
            "Epoch 46/50\n",
            "564/564 [==============================] - 3s 5ms/step - loss: 0.4127 - auc: 0.8877 - Accuracy: 0.8037 - val_loss: 0.4121 - val_auc: 0.8885 - val_Accuracy: 0.8062\n",
            "Epoch 47/50\n",
            "564/564 [==============================] - 4s 7ms/step - loss: 0.4124 - auc: 0.8877 - Accuracy: 0.8050 - val_loss: 0.4126 - val_auc: 0.8880 - val_Accuracy: 0.8052\n",
            "Epoch 48/50\n",
            "564/564 [==============================] - 2s 4ms/step - loss: 0.4125 - auc: 0.8878 - Accuracy: 0.8042 - val_loss: 0.4124 - val_auc: 0.8882 - val_Accuracy: 0.8045\n",
            "Epoch 49/50\n",
            "564/564 [==============================] - 2s 4ms/step - loss: 0.4126 - auc: 0.8877 - Accuracy: 0.8047 - val_loss: 0.4124 - val_auc: 0.8880 - val_Accuracy: 0.8040\n",
            "Epoch 50/50\n",
            "564/564 [==============================] - 2s 4ms/step - loss: 0.4125 - auc: 0.8876 - Accuracy: 0.8044 - val_loss: 0.4122 - val_auc: 0.8885 - val_Accuracy: 0.8064\n"
          ]
        }
      ]
    },
    {
      "cell_type": "code",
      "source": [
        "modelo_rn_1.add(RoundingActivationLayer())\n",
        "\n",
        "y_predic_modelo_rn_1 = modelo_rn_1.predict(x_test_norm)\n",
        "\n",
        "metricas(y_predic_modelo_rn_1, Y_entrenamiento)"
      ],
      "metadata": {
        "colab": {
          "base_uri": "https://localhost:8080/",
          "height": 623
        },
        "id": "75iLzDdTAhGr",
        "outputId": "a96d0a5a-33d7-4289-ec92-94b7b99ab7f7"
      },
      "execution_count": 64,
      "outputs": [
        {
          "output_type": "stream",
          "name": "stdout",
          "text": [
            "1503/1503 [==============================] - 2s 1ms/step\n",
            "              precision    recall  f1-score   support\n",
            "\n",
            "           0       0.79      0.83      0.81     23629\n",
            "           1       0.83      0.78      0.80     24442\n",
            "\n",
            "    accuracy                           0.81     48071\n",
            "   macro avg       0.81      0.81      0.81     48071\n",
            "weighted avg       0.81      0.81      0.81     48071\n",
            "\n"
          ]
        },
        {
          "output_type": "display_data",
          "data": {
            "text/plain": [
              "<Figure size 640x480 with 2 Axes>"
            ],
            "image/png": "[encoded data removed]"
          },
          "metadata": {}
        }
      ]
    },
    {
      "cell_type": "code",
      "source": [
        "f1 = f1_score(Y_entrenamiento, y_predic_modelo_rn_1)\n",
        "\n",
        "precision = precision_score(Y_entrenamiento, y_predic_modelo_rn_1)\n",
        "\n",
        "recall = recall_score(Y_entrenamiento, y_predic_modelo_rn_1)\n",
        "\n",
        "accuracy = accuracy_score(Y_entrenamiento, y_predic_modelo_rn_1)\n",
        "\n",
        "print(\"Métrica F1:\", f1)\n",
        "print(\"Precisión:\", precision)\n",
        "print(\"Recall:\", recall)\n",
        "print(\"Exactitud (Accuracy):\", accuracy)"
      ],
      "metadata": {
        "colab": {
          "base_uri": "https://localhost:8080/"
        },
        "id": "V51jBBJl5kIi",
        "outputId": "edc3c2eb-b628-4f86-9558-78bf32272bae"
      },
      "execution_count": 65,
      "outputs": [
        {
          "output_type": "stream",
          "name": "stdout",
          "text": [
            "Métrica F1: 0.8045117519796677\n",
            "Precisión: 0.8266499762593345\n",
            "Recall: 0.7835283528352835\n",
            "Exactitud (Accuracy): 0.8063905473154293\n"
          ]
        }
      ]
    },
    {
      "cell_type": "markdown",
      "source": [
        "## Kaggle"
      ],
      "metadata": {
        "id": "AMWsNCBdAuQS"
      }
    },
    {
      "cell_type": "code",
      "source": [
        "from sklearn.preprocessing import StandardScaler\n",
        "\n",
        "# Create a StandardScaler instance\n",
        "sscaler = StandardScaler()\n",
        "\n",
        "ds_test_procesado = ds_testing_sinId.copy()\n",
        "\n",
        "# Select only the numeric columns for scaling\n",
        "numeric_columns = ds_testing_sinId.select_dtypes(include=['number'])\n",
        "\n",
        "# Fit the StandardScaler to the numeric data\n",
        "sscaler.fit(numeric_columns)\n",
        "\n",
        "# Transform the numeric columns\n",
        "ds_test_transformed = sscaler.transform(numeric_columns)\n",
        "\n",
        "# Replace the original numeric columns with the scaled values\n",
        "ds_test_procesado[numeric_columns.columns] = ds_test_transformed"
      ],
      "metadata": {
        "id": "HcIpAnAqGvwA"
      },
      "execution_count": 66,
      "outputs": []
    },
    {
      "cell_type": "code",
      "source": [
        "ds_test_procesado = ds_test_procesado.reindex(columns= x_train.columns, fill_value=0)"
      ],
      "metadata": {
        "id": "nx2-rfQjYUWy"
      },
      "execution_count": 67,
      "outputs": []
    },
    {
      "cell_type": "code",
      "source": [
        "y_predic_test = modelo_rn_1.predict(ds_test_procesado)\n",
        "y_test_prediccion = np.where(y_predic_test > 0.481435, 1, 0)"
      ],
      "metadata": {
        "id": "KRlC9W2FG4pb",
        "colab": {
          "base_uri": "https://localhost:8080/"
        },
        "outputId": "7ab3519f-7ff5-4f4d-df3b-8a382b61ff88"
      },
      "execution_count": 68,
      "outputs": [
        {
          "output_type": "stream",
          "name": "stdout",
          "text": [
            "830/830 [==============================] - 1s 1ms/step\n"
          ]
        }
      ]
    },
    {
      "cell_type": "code",
      "source": [
        "arreglo_unidimensional = [elemento for sublista in y_test_prediccion for elemento in sublista]"
      ],
      "metadata": {
        "id": "vzN5La2aG6yX"
      },
      "execution_count": 69,
      "outputs": []
    },
    {
      "cell_type": "code",
      "source": [
        "df_submission = pd.DataFrame(\n",
        "    {\"id\": ds_hotels_test[\"id\"], \"is_canceled\": arreglo_unidimensional}\n",
        ")"
      ],
      "metadata": {
        "id": "7Q5rIg1WG8mb"
      },
      "execution_count": 70,
      "outputs": []
    },
    {
      "cell_type": "code",
      "source": [
        "nombre_archivo = \"./modelos/rn_1.pickle\"\n",
        "pickle.dump(modelo_rn_1, open(nombre_archivo, \"wb\"))"
      ],
      "metadata": {
        "id": "fA6_zk-HRhm9"
      },
      "execution_count": 71,
      "outputs": []
    },
    {
      "cell_type": "code",
      "source": [
        "nombre_submit = \"rn1.csv\"\n",
        "df_submission.to_csv(nombre_submit, index=False)"
      ],
      "metadata": {
        "id": "0de3uJgBG-Km"
      },
      "execution_count": 72,
      "outputs": []
    },
    {
      "cell_type": "markdown",
      "source": [
        "## Modelo 2"
      ],
      "metadata": {
        "id": "QhYWPRr8bGfr"
      }
    },
    {
      "cell_type": "code",
      "source": [
        "# Define una función que construye el modelo\n",
        "def build_model(learning_rate=0.01, units=1, activation=\"relu\"):\n",
        "    model = keras.Sequential([\n",
        "        keras.layers.Dense(units, input_shape=(d_in,), activation=activation),\n",
        "        keras.layers.Dense(1, activation='sigmoid')\n",
        "    ])\n",
        "    model.compile(\n",
        "        loss='binary_crossentropy',\n",
        "        optimizer=keras.optimizers.SGD(learning_rate=learning_rate),\n",
        "        metrics=['AUC', 'Accuracy'],\n",
        "    )\n",
        "    return model"
      ],
      "metadata": {
        "id": "iz-YGr37bJz0"
      },
      "execution_count": 73,
      "outputs": []
    },
    {
      "cell_type": "code",
      "source": [
        "model = KerasClassifier(build_fn=build_model, verbose=0)\n",
        "\n",
        "# Define la cuadrícula de hiperparámetros a explorar\n",
        "param_grid = {\n",
        "    'learning_rate': [0.001, 0.01, 0.1],\n",
        "    'units': [32, 64, 128],\n",
        "    'activation': ['relu', 'tanh', 'sigmoid']\n",
        "}"
      ],
      "metadata": {
        "id": "aQgAz93JfMs_"
      },
      "execution_count": 74,
      "outputs": []
    },
    {
      "cell_type": "code",
      "source": [
        "# Realiza la búsqueda de hiperparámetros\n",
        "random_search = RandomizedSearchCV(model, param_distributions=param_grid, n_iter=10, cv=3)\n",
        "random_search.fit(x_train_norm, Y_entrenamiento)"
      ],
      "metadata": {
        "colab": {
          "base_uri": "https://localhost:8080/",
          "height": 118
        },
        "id": "M7UEx9SVgRp5",
        "outputId": "213c1a39-c45a-4fa8-afc1-fd1975850def"
      },
      "execution_count": 75,
      "outputs": [
        {
          "output_type": "execute_result",
          "data": {
            "text/plain": [
              "RandomizedSearchCV(cv=3,\n",
              "                   estimator=<keras.wrappers.scikit_learn.KerasClassifier object at 0x7d9a17b626b0>,\n",
              "                   param_distributions={'activation': ['relu', 'tanh',\n",
              "                                                       'sigmoid'],\n",
              "                                        'learning_rate': [0.001, 0.01, 0.1],\n",
              "                                        'units': [32, 64, 128]})"
            ],
            "text/html": [
              "<style>#sk-container-id-3 {color: black;background-color: white;}#sk-container-id-3 pre{padding: 0;}#sk-container-id-3 div.sk-toggleable {background-color: white;}#sk-container-id-3 label.sk-toggleable__label {cursor: pointer;display: block;width: 100%;margin-bottom: 0;padding: 0.3em;box-sizing: border-box;text-align: center;}#sk-container-id-3 label.sk-toggleable__label-arrow:before {content: \"▸\";float: left;margin-right: 0.25em;color: #696969;}#sk-container-id-3 label.sk-toggleable__label-arrow:hover:before {color: black;}#sk-container-id-3 div.sk-estimator:hover label.sk-toggleable__label-arrow:before {color: black;}#sk-container-id-3 div.sk-toggleable__content {max-height: 0;max-width: 0;overflow: hidden;text-align: left;background-color: #f0f8ff;}#sk-container-id-3 div.sk-toggleable__content pre {margin: 0.2em;color: black;border-radius: 0.25em;background-color: #f0f8ff;}#sk-container-id-3 input.sk-toggleable__control:checked~div.sk-toggleable__content {max-height: 200px;max-width: 100%;overflow: auto;}#sk-container-id-3 input.sk-toggleable__control:checked~label.sk-toggleable__label-arrow:before {content: \"▾\";}#sk-container-id-3 div.sk-estimator input.sk-toggleable__control:checked~label.sk-toggleable__label {background-color: #d4ebff;}#sk-container-id-3 div.sk-label input.sk-toggleable__control:checked~label.sk-toggleable__label {background-color: #d4ebff;}#sk-container-id-3 input.sk-hidden--visually {border: 0;clip: rect(1px 1px 1px 1px);clip: rect(1px, 1px, 1px, 1px);height: 1px;margin: -1px;overflow: hidden;padding: 0;position: absolute;width: 1px;}#sk-container-id-3 div.sk-estimator {font-family: monospace;background-color: #f0f8ff;border: 1px dotted black;border-radius: 0.25em;box-sizing: border-box;margin-bottom: 0.5em;}#sk-container-id-3 div.sk-estimator:hover {background-color: #d4ebff;}#sk-container-id-3 div.sk-parallel-item::after {content: \"\";width: 100%;border-bottom: 1px solid gray;flex-grow: 1;}#sk-container-id-3 div.sk-label:hover label.sk-toggleable__label {background-color: #d4ebff;}#sk-container-id-3 div.sk-serial::before {content: \"\";position: absolute;border-left: 1px solid gray;box-sizing: border-box;top: 0;bottom: 0;left: 50%;z-index: 0;}#sk-container-id-3 div.sk-serial {display: flex;flex-direction: column;align-items: center;background-color: white;padding-right: 0.2em;padding-left: 0.2em;position: relative;}#sk-container-id-3 div.sk-item {position: relative;z-index: 1;}#sk-container-id-3 div.sk-parallel {display: flex;align-items: stretch;justify-content: center;background-color: white;position: relative;}#sk-container-id-3 div.sk-item::before, #sk-container-id-3 div.sk-parallel-item::before {content: \"\";position: absolute;border-left: 1px solid gray;box-sizing: border-box;top: 0;bottom: 0;left: 50%;z-index: -1;}#sk-container-id-3 div.sk-parallel-item {display: flex;flex-direction: column;z-index: 1;position: relative;background-color: white;}#sk-container-id-3 div.sk-parallel-item:first-child::after {align-self: flex-end;width: 50%;}#sk-container-id-3 div.sk-parallel-item:last-child::after {align-self: flex-start;width: 50%;}#sk-container-id-3 div.sk-parallel-item:only-child::after {width: 0;}#sk-container-id-3 div.sk-dashed-wrapped {border: 1px dashed gray;margin: 0 0.4em 0.5em 0.4em;box-sizing: border-box;padding-bottom: 0.4em;background-color: white;}#sk-container-id-3 div.sk-label label {font-family: monospace;font-weight: bold;display: inline-block;line-height: 1.2em;}#sk-container-id-3 div.sk-label-container {text-align: center;}#sk-container-id-3 div.sk-container {/* jupyter's `normalize.less` sets `[hidden] { display: none; }` but bootstrap.min.css set `[hidden] { display: none !important; }` so we also need the `!important` here to be able to override the default hidden behavior on the sphinx rendered scikit-learn.org. See: https://github.com/scikit-learn/scikit-learn/issues/21755 */display: inline-block !important;position: relative;}#sk-container-id-3 div.sk-text-repr-fallback {display: none;}</style><div id=\"sk-container-id-3\" class=\"sk-top-container\"><div class=\"sk-text-repr-fallback\"><pre>RandomizedSearchCV(cv=3,\n",
              "                   estimator=&lt;keras.wrappers.scikit_learn.KerasClassifier object at 0x7d9a17b626b0&gt;,\n",
              "                   param_distributions={&#x27;activation&#x27;: [&#x27;relu&#x27;, &#x27;tanh&#x27;,\n",
              "                                                       &#x27;sigmoid&#x27;],\n",
              "                                        &#x27;learning_rate&#x27;: [0.001, 0.01, 0.1],\n",
              "                                        &#x27;units&#x27;: [32, 64, 128]})</pre><b>In a Jupyter environment, please rerun this cell to show the HTML representation or trust the notebook. <br />On GitHub, the HTML representation is unable to render, please try loading this page with nbviewer.org.</b></div><div class=\"sk-container\" hidden><div class=\"sk-item sk-dashed-wrapped\"><div class=\"sk-label-container\"><div class=\"sk-label sk-toggleable\"><input class=\"sk-toggleable__control sk-hidden--visually\" id=\"sk-estimator-id-3\" type=\"checkbox\" ><label for=\"sk-estimator-id-3\" class=\"sk-toggleable__label sk-toggleable__label-arrow\">RandomizedSearchCV</label><div class=\"sk-toggleable__content\"><pre>RandomizedSearchCV(cv=3,\n",
              "                   estimator=&lt;keras.wrappers.scikit_learn.KerasClassifier object at 0x7d9a17b626b0&gt;,\n",
              "                   param_distributions={&#x27;activation&#x27;: [&#x27;relu&#x27;, &#x27;tanh&#x27;,\n",
              "                                                       &#x27;sigmoid&#x27;],\n",
              "                                        &#x27;learning_rate&#x27;: [0.001, 0.01, 0.1],\n",
              "                                        &#x27;units&#x27;: [32, 64, 128]})</pre></div></div></div><div class=\"sk-parallel\"><div class=\"sk-parallel-item\"><div class=\"sk-item\"><div class=\"sk-label-container\"><div class=\"sk-label sk-toggleable\"><input class=\"sk-toggleable__control sk-hidden--visually\" id=\"sk-estimator-id-4\" type=\"checkbox\" ><label for=\"sk-estimator-id-4\" class=\"sk-toggleable__label sk-toggleable__label-arrow\">estimator: KerasClassifier</label><div class=\"sk-toggleable__content\"><pre>&lt;keras.wrappers.scikit_learn.KerasClassifier object at 0x7d9a17b626b0&gt;</pre></div></div></div><div class=\"sk-serial\"><div class=\"sk-item\"><div class=\"sk-estimator sk-toggleable\"><input class=\"sk-toggleable__control sk-hidden--visually\" id=\"sk-estimator-id-5\" type=\"checkbox\" ><label for=\"sk-estimator-id-5\" class=\"sk-toggleable__label sk-toggleable__label-arrow\">KerasClassifier</label><div class=\"sk-toggleable__content\"><pre>&lt;keras.wrappers.scikit_learn.KerasClassifier object at 0x7d9a17b626b0&gt;</pre></div></div></div></div></div></div></div></div></div></div>"
            ]
          },
          "metadata": {},
          "execution_count": 75
        }
      ]
    },
    {
      "cell_type": "code",
      "source": [
        "# Muestra los mejores hiperparámetros encontrados\n",
        "print(\"Mejores hiperparámetros encontrados:\")\n",
        "print(random_search.best_params_)"
      ],
      "metadata": {
        "colab": {
          "base_uri": "https://localhost:8080/"
        },
        "id": "09qD8_pogV5_",
        "outputId": "57049cb7-80ae-46b2-cae5-f7c78fc2c649"
      },
      "execution_count": 76,
      "outputs": [
        {
          "output_type": "stream",
          "name": "stdout",
          "text": [
            "Mejores hiperparámetros encontrados:\n",
            "{'units': 128, 'learning_rate': 0.1, 'activation': 'tanh'}\n"
          ]
        }
      ]
    },
    {
      "cell_type": "code",
      "source": [
        "best_model = build_model(learning_rate=random_search.best_params_['learning_rate'],\n",
        "                         units=random_search.best_params_['units'],\n",
        "                         activation=random_search.best_params_['activation'])\n",
        "history = best_model.fit(x_train_norm, Y_entrenamiento, epochs=cant_epochs_modelo_1, batch_size=64, validation_data=(x_test_norm, Y_entrenamiento))"
      ],
      "metadata": {
        "colab": {
          "base_uri": "https://localhost:8080/"
        },
        "id": "IwQWiQNFgXhe",
        "outputId": "253ebaca-daea-431c-e1b2-01044ad0cfd5"
      },
      "execution_count": 77,
      "outputs": [
        {
          "output_type": "stream",
          "name": "stdout",
          "text": [
            "Epoch 1/50\n",
            "752/752 [==============================] - 4s 4ms/step - loss: 0.4227 - auc: 0.8818 - Accuracy: 0.7903 - val_loss: 0.4069 - val_auc: 0.8915 - val_Accuracy: 0.7941\n",
            "Epoch 2/50\n",
            "752/752 [==============================] - 3s 4ms/step - loss: 0.3909 - auc: 0.8996 - Accuracy: 0.8070 - val_loss: 0.3797 - val_auc: 0.9052 - val_Accuracy: 0.8114\n",
            "Epoch 3/50\n",
            "752/752 [==============================] - 3s 4ms/step - loss: 0.3718 - auc: 0.9092 - Accuracy: 0.8159 - val_loss: 0.3670 - val_auc: 0.9117 - val_Accuracy: 0.8167\n",
            "Epoch 4/50\n",
            "752/752 [==============================] - 5s 7ms/step - loss: 0.3585 - auc: 0.9159 - Accuracy: 0.8233 - val_loss: 0.3552 - val_auc: 0.9185 - val_Accuracy: 0.8241\n",
            "Epoch 5/50\n",
            "752/752 [==============================] - 3s 4ms/step - loss: 0.3492 - auc: 0.9207 - Accuracy: 0.8294 - val_loss: 0.3567 - val_auc: 0.9167 - val_Accuracy: 0.8191\n",
            "Epoch 6/50\n",
            "752/752 [==============================] - 3s 4ms/step - loss: 0.3427 - auc: 0.9237 - Accuracy: 0.8343 - val_loss: 0.3355 - val_auc: 0.9279 - val_Accuracy: 0.8381\n",
            "Epoch 7/50\n",
            "752/752 [==============================] - 3s 4ms/step - loss: 0.3357 - auc: 0.9272 - Accuracy: 0.8371 - val_loss: 0.3252 - val_auc: 0.9323 - val_Accuracy: 0.8440\n",
            "Epoch 8/50\n",
            "752/752 [==============================] - 4s 6ms/step - loss: 0.3298 - auc: 0.9300 - Accuracy: 0.8414 - val_loss: 0.3344 - val_auc: 0.9281 - val_Accuracy: 0.8395\n",
            "Epoch 9/50\n",
            "752/752 [==============================] - 4s 5ms/step - loss: 0.3254 - auc: 0.9317 - Accuracy: 0.8428 - val_loss: 0.3188 - val_auc: 0.9357 - val_Accuracy: 0.8481\n",
            "Epoch 10/50\n",
            "752/752 [==============================] - 3s 4ms/step - loss: 0.3202 - auc: 0.9342 - Accuracy: 0.8468 - val_loss: 0.3375 - val_auc: 0.9284 - val_Accuracy: 0.8389\n",
            "Epoch 11/50\n",
            "752/752 [==============================] - 3s 4ms/step - loss: 0.3162 - auc: 0.9359 - Accuracy: 0.8494 - val_loss: 0.3132 - val_auc: 0.9372 - val_Accuracy: 0.8503\n",
            "Epoch 12/50\n",
            "752/752 [==============================] - 3s 4ms/step - loss: 0.3126 - auc: 0.9375 - Accuracy: 0.8513 - val_loss: 0.3237 - val_auc: 0.9333 - val_Accuracy: 0.8466\n",
            "Epoch 13/50\n",
            "752/752 [==============================] - 5s 6ms/step - loss: 0.3087 - auc: 0.9391 - Accuracy: 0.8534 - val_loss: 0.3016 - val_auc: 0.9422 - val_Accuracy: 0.8571\n",
            "Epoch 14/50\n",
            "752/752 [==============================] - 3s 5ms/step - loss: 0.3050 - auc: 0.9406 - Accuracy: 0.8547 - val_loss: 0.2959 - val_auc: 0.9446 - val_Accuracy: 0.8608\n",
            "Epoch 15/50\n",
            "752/752 [==============================] - 3s 4ms/step - loss: 0.3024 - auc: 0.9417 - Accuracy: 0.8570 - val_loss: 0.3051 - val_auc: 0.9423 - val_Accuracy: 0.8584\n",
            "Epoch 16/50\n",
            "752/752 [==============================] - 3s 4ms/step - loss: 0.2984 - auc: 0.9433 - Accuracy: 0.8578 - val_loss: 0.2982 - val_auc: 0.9434 - val_Accuracy: 0.8587\n",
            "Epoch 17/50\n",
            "752/752 [==============================] - 5s 6ms/step - loss: 0.2959 - auc: 0.9442 - Accuracy: 0.8595 - val_loss: 0.2864 - val_auc: 0.9481 - val_Accuracy: 0.8657\n",
            "Epoch 18/50\n",
            "752/752 [==============================] - 5s 7ms/step - loss: 0.2932 - auc: 0.9453 - Accuracy: 0.8619 - val_loss: 0.3472 - val_auc: 0.9255 - val_Accuracy: 0.8330\n",
            "Epoch 19/50\n",
            "752/752 [==============================] - 3s 4ms/step - loss: 0.2902 - auc: 0.9463 - Accuracy: 0.8631 - val_loss: 0.2928 - val_auc: 0.9459 - val_Accuracy: 0.8636\n",
            "Epoch 20/50\n",
            "752/752 [==============================] - 3s 4ms/step - loss: 0.2884 - auc: 0.9471 - Accuracy: 0.8639 - val_loss: 0.2755 - val_auc: 0.9523 - val_Accuracy: 0.8721\n",
            "Epoch 21/50\n",
            "752/752 [==============================] - 3s 4ms/step - loss: 0.2844 - auc: 0.9486 - Accuracy: 0.8675 - val_loss: 0.2967 - val_auc: 0.9453 - val_Accuracy: 0.8567\n",
            "Epoch 22/50\n",
            "752/752 [==============================] - 5s 7ms/step - loss: 0.2826 - auc: 0.9493 - Accuracy: 0.8686 - val_loss: 0.2836 - val_auc: 0.9502 - val_Accuracy: 0.8668\n",
            "Epoch 23/50\n",
            "752/752 [==============================] - 4s 6ms/step - loss: 0.2806 - auc: 0.9501 - Accuracy: 0.8681 - val_loss: 0.2773 - val_auc: 0.9518 - val_Accuracy: 0.8709\n",
            "Epoch 24/50\n",
            "752/752 [==============================] - 3s 4ms/step - loss: 0.2781 - auc: 0.9510 - Accuracy: 0.8702 - val_loss: 0.2762 - val_auc: 0.9528 - val_Accuracy: 0.8742\n",
            "Epoch 25/50\n",
            "752/752 [==============================] - 3s 4ms/step - loss: 0.2753 - auc: 0.9519 - Accuracy: 0.8706 - val_loss: 0.3173 - val_auc: 0.9402 - val_Accuracy: 0.8579\n",
            "Epoch 26/50\n",
            "752/752 [==============================] - 3s 4ms/step - loss: 0.2735 - auc: 0.9526 - Accuracy: 0.8723 - val_loss: 0.2739 - val_auc: 0.9552 - val_Accuracy: 0.8719\n",
            "Epoch 27/50\n",
            "752/752 [==============================] - 5s 7ms/step - loss: 0.2710 - auc: 0.9535 - Accuracy: 0.8740 - val_loss: 0.2798 - val_auc: 0.9505 - val_Accuracy: 0.8679\n",
            "Epoch 28/50\n",
            "752/752 [==============================] - 3s 4ms/step - loss: 0.2687 - auc: 0.9543 - Accuracy: 0.8744 - val_loss: 0.2663 - val_auc: 0.9553 - val_Accuracy: 0.8759\n",
            "Epoch 29/50\n",
            "752/752 [==============================] - 3s 4ms/step - loss: 0.2664 - auc: 0.9550 - Accuracy: 0.8746 - val_loss: 0.2549 - val_auc: 0.9593 - val_Accuracy: 0.8828\n",
            "Epoch 30/50\n",
            "752/752 [==============================] - 3s 4ms/step - loss: 0.2646 - auc: 0.9558 - Accuracy: 0.8766 - val_loss: 0.3065 - val_auc: 0.9430 - val_Accuracy: 0.8634\n",
            "Epoch 31/50\n",
            "752/752 [==============================] - 4s 6ms/step - loss: 0.2642 - auc: 0.9559 - Accuracy: 0.8766 - val_loss: 0.2588 - val_auc: 0.9583 - val_Accuracy: 0.8806\n",
            "Epoch 32/50\n",
            "752/752 [==============================] - 4s 5ms/step - loss: 0.2605 - auc: 0.9572 - Accuracy: 0.8790 - val_loss: 0.2511 - val_auc: 0.9605 - val_Accuracy: 0.8851\n",
            "Epoch 33/50\n",
            "752/752 [==============================] - 3s 4ms/step - loss: 0.2584 - auc: 0.9578 - Accuracy: 0.8798 - val_loss: 0.2520 - val_auc: 0.9610 - val_Accuracy: 0.8837\n",
            "Epoch 34/50\n",
            "752/752 [==============================] - 3s 4ms/step - loss: 0.2565 - auc: 0.9584 - Accuracy: 0.8809 - val_loss: 0.2601 - val_auc: 0.9578 - val_Accuracy: 0.8807\n",
            "Epoch 35/50\n",
            "752/752 [==============================] - 3s 4ms/step - loss: 0.2553 - auc: 0.9589 - Accuracy: 0.8812 - val_loss: 0.2509 - val_auc: 0.9617 - val_Accuracy: 0.8829\n",
            "Epoch 36/50\n",
            "752/752 [==============================] - 4s 5ms/step - loss: 0.2529 - auc: 0.9597 - Accuracy: 0.8832 - val_loss: 0.2538 - val_auc: 0.9600 - val_Accuracy: 0.8831\n",
            "Epoch 37/50\n",
            "752/752 [==============================] - 5s 7ms/step - loss: 0.2503 - auc: 0.9606 - Accuracy: 0.8838 - val_loss: 0.2615 - val_auc: 0.9581 - val_Accuracy: 0.8794\n",
            "Epoch 38/50\n",
            "752/752 [==============================] - 3s 4ms/step - loss: 0.2499 - auc: 0.9607 - Accuracy: 0.8830 - val_loss: 0.2558 - val_auc: 0.9599 - val_Accuracy: 0.8829\n",
            "Epoch 39/50\n",
            "752/752 [==============================] - 3s 4ms/step - loss: 0.2486 - auc: 0.9611 - Accuracy: 0.8845 - val_loss: 0.2363 - val_auc: 0.9651 - val_Accuracy: 0.8914\n",
            "Epoch 40/50\n",
            "752/752 [==============================] - 3s 4ms/step - loss: 0.2464 - auc: 0.9618 - Accuracy: 0.8864 - val_loss: 0.2474 - val_auc: 0.9629 - val_Accuracy: 0.8873\n",
            "Epoch 41/50\n",
            "752/752 [==============================] - 4s 5ms/step - loss: 0.2445 - auc: 0.9624 - Accuracy: 0.8864 - val_loss: 0.2465 - val_auc: 0.9629 - val_Accuracy: 0.8855\n",
            "Epoch 42/50\n",
            "752/752 [==============================] - 3s 5ms/step - loss: 0.2427 - auc: 0.9630 - Accuracy: 0.8882 - val_loss: 0.2362 - val_auc: 0.9654 - val_Accuracy: 0.8913\n",
            "Epoch 43/50\n",
            "752/752 [==============================] - 3s 4ms/step - loss: 0.2408 - auc: 0.9636 - Accuracy: 0.8897 - val_loss: 0.2433 - val_auc: 0.9636 - val_Accuracy: 0.8910\n",
            "Epoch 44/50\n",
            "752/752 [==============================] - 3s 4ms/step - loss: 0.2405 - auc: 0.9637 - Accuracy: 0.8895 - val_loss: 0.3152 - val_auc: 0.9469 - val_Accuracy: 0.8662\n",
            "Epoch 45/50\n",
            "752/752 [==============================] - 3s 4ms/step - loss: 0.2391 - auc: 0.9642 - Accuracy: 0.8902 - val_loss: 0.2303 - val_auc: 0.9672 - val_Accuracy: 0.8953\n",
            "Epoch 46/50\n",
            "752/752 [==============================] - 5s 7ms/step - loss: 0.2375 - auc: 0.9646 - Accuracy: 0.8911 - val_loss: 0.2318 - val_auc: 0.9672 - val_Accuracy: 0.8937\n",
            "Epoch 47/50\n",
            "752/752 [==============================] - 3s 4ms/step - loss: 0.2356 - auc: 0.9652 - Accuracy: 0.8911 - val_loss: 0.2394 - val_auc: 0.9643 - val_Accuracy: 0.8932\n",
            "Epoch 48/50\n",
            "752/752 [==============================] - 3s 4ms/step - loss: 0.2348 - auc: 0.9654 - Accuracy: 0.8928 - val_loss: 0.2199 - val_auc: 0.9705 - val_Accuracy: 0.9009\n",
            "Epoch 49/50\n",
            "752/752 [==============================] - 3s 4ms/step - loss: 0.2321 - auc: 0.9662 - Accuracy: 0.8933 - val_loss: 0.2280 - val_auc: 0.9681 - val_Accuracy: 0.8984\n",
            "Epoch 50/50\n",
            "752/752 [==============================] - 4s 6ms/step - loss: 0.2318 - auc: 0.9664 - Accuracy: 0.8937 - val_loss: 0.2457 - val_auc: 0.9627 - val_Accuracy: 0.8865\n"
          ]
        }
      ]
    },
    {
      "cell_type": "code",
      "source": [
        "best_model.add(RoundingActivationLayer())\n",
        "\n",
        "y_predic_best_model = best_model.predict(x_test_norm)\n",
        "\n",
        "metricas(y_predic_best_model, Y_entrenamiento)"
      ],
      "metadata": {
        "colab": {
          "base_uri": "https://localhost:8080/",
          "height": 623
        },
        "id": "Hmm1ehqFhjWB",
        "outputId": "7c222a16-54c7-41aa-db39-4e96028dd524"
      },
      "execution_count": 78,
      "outputs": [
        {
          "output_type": "stream",
          "name": "stdout",
          "text": [
            "1503/1503 [==============================] - 2s 1ms/step\n",
            "              precision    recall  f1-score   support\n",
            "\n",
            "           0       0.90      0.86      0.88     23629\n",
            "           1       0.87      0.91      0.89     24442\n",
            "\n",
            "    accuracy                           0.89     48071\n",
            "   macro avg       0.89      0.89      0.89     48071\n",
            "weighted avg       0.89      0.89      0.89     48071\n",
            "\n"
          ]
        },
        {
          "output_type": "display_data",
          "data": {
            "text/plain": [
              "<Figure size 640x480 with 2 Axes>"
            ],
            "image/png": "[encoded data removed]"
          },
          "metadata": {}
        }
      ]
    },
    {
      "cell_type": "code",
      "source": [
        "f1 = f1_score(Y_entrenamiento, y_predic_best_model)\n",
        "\n",
        "precision = precision_score(Y_entrenamiento, y_predic_best_model)\n",
        "\n",
        "recall = recall_score(Y_entrenamiento, y_predic_best_model)\n",
        "\n",
        "accuracy = accuracy_score(Y_entrenamiento, y_predic_best_model)\n",
        "\n",
        "print(\"Métrica F1:\", f1)\n",
        "print(\"Precisión:\", precision)\n",
        "print(\"Recall:\", recall)\n",
        "print(\"Exactitud (Accuracy):\", accuracy)"
      ],
      "metadata": {
        "colab": {
          "base_uri": "https://localhost:8080/"
        },
        "id": "gvvOZ6sR7Scw",
        "outputId": "340fbd21-156d-4f22-e075-6c37ba68e9d7"
      },
      "execution_count": 79,
      "outputs": [
        {
          "output_type": "stream",
          "name": "stdout",
          "text": [
            "Métrica F1: 0.8908967336984768\n",
            "Precisión: 0.8710131332082551\n",
            "Recall: 0.9117093527534572\n",
            "Exactitud (Accuracy): 0.8864596118241768\n"
          ]
        }
      ]
    },
    {
      "cell_type": "markdown",
      "source": [
        "### Kaggle"
      ],
      "metadata": {
        "id": "076QiMV7h5RM"
      }
    },
    {
      "cell_type": "code",
      "source": [
        "from sklearn.preprocessing import StandardScaler\n",
        "\n",
        "# Create a StandardScaler instance\n",
        "sscaler = StandardScaler()\n",
        "\n",
        "ds_test_procesado = ds_testing_sinId.copy()\n",
        "\n",
        "# Select only the numeric columns for scaling\n",
        "numeric_columns = ds_testing_sinId.select_dtypes(include=['number'])\n",
        "\n",
        "# Fit the StandardScaler to the numeric data\n",
        "sscaler.fit(numeric_columns)\n",
        "\n",
        "# Transform the numeric columns\n",
        "ds_test_transformed = sscaler.transform(numeric_columns)\n",
        "\n",
        "# Replace the original numeric columns with the scaled values\n",
        "ds_test_procesado[numeric_columns.columns] = ds_test_transformed"
      ],
      "metadata": {
        "id": "-y24F9Jlh6Z6"
      },
      "execution_count": 80,
      "outputs": []
    },
    {
      "cell_type": "code",
      "source": [
        "ds_test_procesado = ds_test_procesado.reindex(columns= x_train.columns, fill_value=0)"
      ],
      "metadata": {
        "id": "KRXo8ieBh_o5"
      },
      "execution_count": 81,
      "outputs": []
    },
    {
      "cell_type": "code",
      "source": [
        "y_predic_test = best_model.predict(ds_test_procesado)\n",
        "y_test_prediccion = np.where(y_predic_test > 0.481435, 1, 0)"
      ],
      "metadata": {
        "colab": {
          "base_uri": "https://localhost:8080/"
        },
        "id": "SrsNRTAsiC8H",
        "outputId": "ff6531b1-42fc-4571-d0c6-fe400b1f914c"
      },
      "execution_count": 82,
      "outputs": [
        {
          "output_type": "stream",
          "name": "stdout",
          "text": [
            "830/830 [==============================] - 1s 1ms/step\n"
          ]
        }
      ]
    },
    {
      "cell_type": "code",
      "source": [
        "arreglo_unidimensional = [elemento for sublista in y_test_prediccion for elemento in sublista]"
      ],
      "metadata": {
        "id": "RYY13fNSiLDw"
      },
      "execution_count": 83,
      "outputs": []
    },
    {
      "cell_type": "code",
      "source": [
        "df_submission = pd.DataFrame(\n",
        "    {\"id\": ds_hotels_test[\"id\"], \"is_canceled\": arreglo_unidimensional}\n",
        ")"
      ],
      "metadata": {
        "id": "9bOgLzsHiO9-"
      },
      "execution_count": 84,
      "outputs": []
    },
    {
      "cell_type": "code",
      "source": [
        "nombre_archivo = \"./modelos/rn_2.pickle\"\n",
        "pickle.dump(best_model, open(nombre_archivo, \"wb\"))"
      ],
      "metadata": {
        "id": "U0xI-5GH9_kP"
      },
      "execution_count": 85,
      "outputs": []
    },
    {
      "cell_type": "code",
      "source": [
        "nombre_submit = \"rn2.csv\"\n",
        "df_submission.to_csv(nombre_submit, index=False)"
      ],
      "metadata": {
        "id": "eRfnp41KiR22"
      },
      "execution_count": 86,
      "outputs": []
    },
    {
      "cell_type": "markdown",
      "source": [
        "## Modelo 3"
      ],
      "metadata": {
        "id": "sEBiGFqvjWUN"
      }
    },
    {
      "cell_type": "code",
      "source": [
        "import keras.backend as K"
      ],
      "metadata": {
        "id": "xKRwrlI6jXn1"
      },
      "execution_count": 87,
      "outputs": []
    },
    {
      "cell_type": "code",
      "source": [
        "def build_model(learning_rate=0.01, units=1, activation=\"relu\", epochs=50, batch_size=64):\n",
        "    model = keras.Sequential([\n",
        "        keras.layers.Dense(units, input_shape=(d_in,), activation=activation),\n",
        "        keras.layers.Dense(1, activation='sigmoid')\n",
        "    ])\n",
        "    model.compile(\n",
        "        loss='binary_crossentropy',\n",
        "        optimizer=keras.optimizers.SGD(learning_rate=learning_rate),\n",
        "        metrics=['AUC', 'Accuracy'],\n",
        "    )\n",
        "    return model"
      ],
      "metadata": {
        "id": "_6XlB-gmjcWk"
      },
      "execution_count": 88,
      "outputs": []
    },
    {
      "cell_type": "code",
      "source": [
        "# Crea un modelo KerasClassifier que se puede utilizar con RandomizedSearchCV\n",
        "model = KerasClassifier(build_fn=build_model, verbose=0)\n",
        "\n",
        "# Define la cuadrícula de hiperparámetros a explorar\n",
        "param_grid = {\n",
        "    'learning_rate': [0.001, 0.01, 0.1],\n",
        "    'units': [32, 64, 128],\n",
        "    'activation': ['relu', 'tanh', 'sigmoid'],\n",
        "    'epochs': [50, 100, 200],  # Rango de épocas\n",
        "    'batch_size': [32, 64, 128]  # Tamaños de lote\n",
        "}"
      ],
      "metadata": {
        "id": "gvk7ervajg0S"
      },
      "execution_count": 89,
      "outputs": []
    },
    {
      "cell_type": "code",
      "source": [
        "# Realiza la búsqueda de hiperparámetros\n",
        "random_search = RandomizedSearchCV(model, param_distributions=param_grid, n_iter=10, cv=3)\n",
        "random_search.fit(x_train_norm, Y_entrenamiento)\n",
        "\n",
        "# Muestra los mejores hiperparámetros encontrados\n",
        "print(\"Mejores hiperparámetros encontrados:\")\n",
        "print(random_search.best_params_)"
      ],
      "metadata": {
        "colab": {
          "base_uri": "https://localhost:8080/"
        },
        "id": "fDoupfmakDrr",
        "outputId": "9ed38470-d046-4508-b95c-083b74db5265"
      },
      "execution_count": 90,
      "outputs": [
        {
          "output_type": "stream",
          "name": "stdout",
          "text": [
            "Mejores hiperparámetros encontrados:\n",
            "{'units': 128, 'learning_rate': 0.01, 'epochs': 100, 'batch_size': 32, 'activation': 'tanh'}\n"
          ]
        }
      ]
    },
    {
      "cell_type": "code",
      "source": [
        "# Entrena el modelo con los mejores hiperparámetros encontrados\n",
        "best_model = build_model(learning_rate=random_search.best_params_['learning_rate'],\n",
        "                         units=random_search.best_params_['units'],\n",
        "                         activation=random_search.best_params_['activation'],\n",
        "                         epochs=random_search.best_params_['epochs'],\n",
        "                         batch_size=random_search.best_params_['batch_size'])\n",
        "history = best_model.fit(x_train_norm, Y_entrenamiento, epochs=random_search.best_params_['epochs'], batch_size=random_search.best_params_['batch_size'], validation_data=(x_test_norm, Y_entrenamiento))"
      ],
      "metadata": {
        "id": "Fds7pg57kGZI",
        "colab": {
          "base_uri": "https://localhost:8080/"
        },
        "outputId": "742d9649-e476-4519-c8d5-fbdfb0dea929"
      },
      "execution_count": 91,
      "outputs": [
        {
          "output_type": "stream",
          "name": "stdout",
          "text": [
            "Epoch 1/100\n",
            "1503/1503 [==============================] - 6s 3ms/step - loss: 0.4550 - auc: 0.8637 - Accuracy: 0.7715 - val_loss: 0.4151 - val_auc: 0.8879 - val_Accuracy: 0.7967\n",
            "Epoch 2/100\n",
            "1503/1503 [==============================] - 5s 3ms/step - loss: 0.4106 - auc: 0.8899 - Accuracy: 0.7987 - val_loss: 0.4040 - val_auc: 0.8939 - val_Accuracy: 0.8013\n",
            "Epoch 3/100\n",
            "1503/1503 [==============================] - 6s 4ms/step - loss: 0.4021 - auc: 0.8945 - Accuracy: 0.8030 - val_loss: 0.3974 - val_auc: 0.8969 - val_Accuracy: 0.8035\n",
            "Epoch 4/100\n",
            "1503/1503 [==============================] - 5s 3ms/step - loss: 0.3960 - auc: 0.8977 - Accuracy: 0.8066 - val_loss: 0.3913 - val_auc: 0.9007 - val_Accuracy: 0.8107\n",
            "Epoch 5/100\n",
            "1503/1503 [==============================] - 5s 3ms/step - loss: 0.3904 - auc: 0.9008 - Accuracy: 0.8093 - val_loss: 0.3857 - val_auc: 0.9034 - val_Accuracy: 0.8121\n",
            "Epoch 6/100\n",
            "1503/1503 [==============================] - 6s 4ms/step - loss: 0.3850 - auc: 0.9036 - Accuracy: 0.8125 - val_loss: 0.3800 - val_auc: 0.9065 - val_Accuracy: 0.8168\n",
            "Epoch 7/100\n",
            "1503/1503 [==============================] - 4s 3ms/step - loss: 0.3795 - auc: 0.9064 - Accuracy: 0.8160 - val_loss: 0.3740 - val_auc: 0.9097 - val_Accuracy: 0.8205\n",
            "Epoch 8/100\n",
            "1503/1503 [==============================] - 5s 3ms/step - loss: 0.3739 - auc: 0.9093 - Accuracy: 0.8187 - val_loss: 0.3694 - val_auc: 0.9120 - val_Accuracy: 0.8204\n",
            "Epoch 9/100\n",
            "1503/1503 [==============================] - 6s 4ms/step - loss: 0.3687 - auc: 0.9119 - Accuracy: 0.8203 - val_loss: 0.3636 - val_auc: 0.9149 - val_Accuracy: 0.8237\n",
            "Epoch 10/100\n",
            "1503/1503 [==============================] - 5s 3ms/step - loss: 0.3637 - auc: 0.9145 - Accuracy: 0.8232 - val_loss: 0.3594 - val_auc: 0.9172 - val_Accuracy: 0.8270\n",
            "Epoch 11/100\n",
            "1503/1503 [==============================] - 5s 3ms/step - loss: 0.3592 - auc: 0.9168 - Accuracy: 0.8264 - val_loss: 0.3547 - val_auc: 0.9188 - val_Accuracy: 0.8292\n",
            "Epoch 12/100\n",
            "1503/1503 [==============================] - 6s 4ms/step - loss: 0.3550 - auc: 0.9186 - Accuracy: 0.8281 - val_loss: 0.3511 - val_auc: 0.9211 - val_Accuracy: 0.8312\n",
            "Epoch 13/100\n",
            "1503/1503 [==============================] - 5s 3ms/step - loss: 0.3513 - auc: 0.9205 - Accuracy: 0.8302 - val_loss: 0.3466 - val_auc: 0.9229 - val_Accuracy: 0.8345\n",
            "Epoch 14/100\n",
            "1503/1503 [==============================] - 5s 3ms/step - loss: 0.3479 - auc: 0.9221 - Accuracy: 0.8329 - val_loss: 0.3437 - val_auc: 0.9244 - val_Accuracy: 0.8358\n",
            "Epoch 15/100\n",
            "1503/1503 [==============================] - 6s 4ms/step - loss: 0.3450 - auc: 0.9235 - Accuracy: 0.8336 - val_loss: 0.3419 - val_auc: 0.9251 - val_Accuracy: 0.8361\n",
            "Epoch 16/100\n",
            "1503/1503 [==============================] - 6s 4ms/step - loss: 0.3417 - auc: 0.9249 - Accuracy: 0.8358 - val_loss: 0.3390 - val_auc: 0.9264 - val_Accuracy: 0.8376\n",
            "Epoch 17/100\n",
            "1503/1503 [==============================] - 9s 6ms/step - loss: 0.3390 - auc: 0.9262 - Accuracy: 0.8372 - val_loss: 0.3353 - val_auc: 0.9282 - val_Accuracy: 0.8399\n",
            "Epoch 18/100\n",
            "1503/1503 [==============================] - 5s 3ms/step - loss: 0.3370 - auc: 0.9270 - Accuracy: 0.8383 - val_loss: 0.3341 - val_auc: 0.9287 - val_Accuracy: 0.8409\n",
            "Epoch 19/100\n",
            "1503/1503 [==============================] - 5s 3ms/step - loss: 0.3341 - auc: 0.9285 - Accuracy: 0.8412 - val_loss: 0.3309 - val_auc: 0.9299 - val_Accuracy: 0.8421\n",
            "Epoch 20/100\n",
            "1503/1503 [==============================] - 6s 4ms/step - loss: 0.3325 - auc: 0.9291 - Accuracy: 0.8409 - val_loss: 0.3283 - val_auc: 0.9313 - val_Accuracy: 0.8444\n",
            "Epoch 21/100\n",
            "1503/1503 [==============================] - 5s 3ms/step - loss: 0.3299 - auc: 0.9302 - Accuracy: 0.8428 - val_loss: 0.3261 - val_auc: 0.9325 - val_Accuracy: 0.8461\n",
            "Epoch 22/100\n",
            "1503/1503 [==============================] - 8s 5ms/step - loss: 0.3276 - auc: 0.9314 - Accuracy: 0.8448 - val_loss: 0.3241 - val_auc: 0.9331 - val_Accuracy: 0.8460\n",
            "Epoch 23/100\n",
            "1503/1503 [==============================] - 5s 3ms/step - loss: 0.3258 - auc: 0.9321 - Accuracy: 0.8453 - val_loss: 0.3219 - val_auc: 0.9341 - val_Accuracy: 0.8477\n",
            "Epoch 24/100\n",
            "1503/1503 [==============================] - 5s 4ms/step - loss: 0.3240 - auc: 0.9328 - Accuracy: 0.8459 - val_loss: 0.3196 - val_auc: 0.9350 - val_Accuracy: 0.8502\n",
            "Epoch 25/100\n",
            "1503/1503 [==============================] - 6s 4ms/step - loss: 0.3220 - auc: 0.9338 - Accuracy: 0.8479 - val_loss: 0.3175 - val_auc: 0.9361 - val_Accuracy: 0.8518\n",
            "Epoch 26/100\n",
            "1503/1503 [==============================] - 5s 3ms/step - loss: 0.3201 - auc: 0.9347 - Accuracy: 0.8490 - val_loss: 0.3169 - val_auc: 0.9363 - val_Accuracy: 0.8508\n",
            "Epoch 27/100\n",
            "1503/1503 [==============================] - 5s 3ms/step - loss: 0.3182 - auc: 0.9355 - Accuracy: 0.8501 - val_loss: 0.3149 - val_auc: 0.9374 - val_Accuracy: 0.8523\n",
            "Epoch 28/100\n",
            "1503/1503 [==============================] - 9s 6ms/step - loss: 0.3163 - auc: 0.9363 - Accuracy: 0.8510 - val_loss: 0.3124 - val_auc: 0.9381 - val_Accuracy: 0.8522\n",
            "Epoch 29/100\n",
            "1503/1503 [==============================] - 5s 3ms/step - loss: 0.3149 - auc: 0.9368 - Accuracy: 0.8510 - val_loss: 0.3098 - val_auc: 0.9393 - val_Accuracy: 0.8558\n",
            "Epoch 30/100\n",
            "1503/1503 [==============================] - 8s 6ms/step - loss: 0.3130 - auc: 0.9377 - Accuracy: 0.8535 - val_loss: 0.3105 - val_auc: 0.9391 - val_Accuracy: 0.8540\n",
            "Epoch 31/100\n",
            "1503/1503 [==============================] - 5s 4ms/step - loss: 0.3119 - auc: 0.9381 - Accuracy: 0.8530 - val_loss: 0.3071 - val_auc: 0.9406 - val_Accuracy: 0.8576\n",
            "Epoch 32/100\n",
            "1503/1503 [==============================] - 5s 4ms/step - loss: 0.3099 - auc: 0.9390 - Accuracy: 0.8545 - val_loss: 0.3065 - val_auc: 0.9406 - val_Accuracy: 0.8565\n",
            "Epoch 33/100\n",
            "1503/1503 [==============================] - 6s 4ms/step - loss: 0.3084 - auc: 0.9396 - Accuracy: 0.8550 - val_loss: 0.3058 - val_auc: 0.9410 - val_Accuracy: 0.8560\n",
            "Epoch 34/100\n",
            "1503/1503 [==============================] - 5s 4ms/step - loss: 0.3070 - auc: 0.9401 - Accuracy: 0.8556 - val_loss: 0.3031 - val_auc: 0.9421 - val_Accuracy: 0.8595\n",
            "Epoch 35/100\n",
            "1503/1503 [==============================] - 5s 4ms/step - loss: 0.3057 - auc: 0.9407 - Accuracy: 0.8566 - val_loss: 0.3016 - val_auc: 0.9427 - val_Accuracy: 0.8573\n",
            "Epoch 36/100\n",
            "1503/1503 [==============================] - 6s 4ms/step - loss: 0.3042 - auc: 0.9413 - Accuracy: 0.8570 - val_loss: 0.3008 - val_auc: 0.9430 - val_Accuracy: 0.8595\n",
            "Epoch 37/100\n",
            "1503/1503 [==============================] - 5s 3ms/step - loss: 0.3027 - auc: 0.9419 - Accuracy: 0.8583 - val_loss: 0.3013 - val_auc: 0.9425 - val_Accuracy: 0.8584\n",
            "Epoch 38/100\n",
            "1503/1503 [==============================] - 8s 5ms/step - loss: 0.3017 - auc: 0.9423 - Accuracy: 0.8577 - val_loss: 0.2988 - val_auc: 0.9436 - val_Accuracy: 0.8605\n",
            "Epoch 39/100\n",
            "1503/1503 [==============================] - 5s 3ms/step - loss: 0.3001 - auc: 0.9430 - Accuracy: 0.8588 - val_loss: 0.2958 - val_auc: 0.9449 - val_Accuracy: 0.8626\n",
            "Epoch 40/100\n",
            "1503/1503 [==============================] - 5s 4ms/step - loss: 0.2988 - auc: 0.9434 - Accuracy: 0.8604 - val_loss: 0.2956 - val_auc: 0.9452 - val_Accuracy: 0.8633\n",
            "Epoch 41/100\n",
            "1503/1503 [==============================] - 6s 4ms/step - loss: 0.2973 - auc: 0.9440 - Accuracy: 0.8598 - val_loss: 0.2932 - val_auc: 0.9461 - val_Accuracy: 0.8633\n",
            "Epoch 42/100\n",
            "1503/1503 [==============================] - 5s 3ms/step - loss: 0.2962 - auc: 0.9444 - Accuracy: 0.8610 - val_loss: 0.2929 - val_auc: 0.9461 - val_Accuracy: 0.8632\n",
            "Epoch 43/100\n",
            "1503/1503 [==============================] - 8s 6ms/step - loss: 0.2949 - auc: 0.9450 - Accuracy: 0.8609 - val_loss: 0.2913 - val_auc: 0.9465 - val_Accuracy: 0.8639\n",
            "Epoch 44/100\n",
            "1503/1503 [==============================] - 8s 5ms/step - loss: 0.2941 - auc: 0.9453 - Accuracy: 0.8623 - val_loss: 0.2900 - val_auc: 0.9471 - val_Accuracy: 0.8643\n",
            "Epoch 45/100\n",
            "1503/1503 [==============================] - 6s 4ms/step - loss: 0.2930 - auc: 0.9456 - Accuracy: 0.8626 - val_loss: 0.2886 - val_auc: 0.9477 - val_Accuracy: 0.8661\n",
            "Epoch 46/100\n",
            "1503/1503 [==============================] - 9s 6ms/step - loss: 0.2920 - auc: 0.9461 - Accuracy: 0.8627 - val_loss: 0.2874 - val_auc: 0.9483 - val_Accuracy: 0.8664\n",
            "Epoch 47/100\n",
            "1503/1503 [==============================] - 5s 4ms/step - loss: 0.2907 - auc: 0.9466 - Accuracy: 0.8627 - val_loss: 0.2870 - val_auc: 0.9485 - val_Accuracy: 0.8669\n",
            "Epoch 48/100\n",
            "1503/1503 [==============================] - 8s 5ms/step - loss: 0.2898 - auc: 0.9469 - Accuracy: 0.8646 - val_loss: 0.2847 - val_auc: 0.9493 - val_Accuracy: 0.8676\n",
            "Epoch 49/100\n",
            "1503/1503 [==============================] - 5s 3ms/step - loss: 0.2882 - auc: 0.9476 - Accuracy: 0.8648 - val_loss: 0.2840 - val_auc: 0.9493 - val_Accuracy: 0.8681\n",
            "Epoch 50/100\n",
            "1503/1503 [==============================] - 5s 4ms/step - loss: 0.2876 - auc: 0.9478 - Accuracy: 0.8654 - val_loss: 0.2839 - val_auc: 0.9494 - val_Accuracy: 0.8681\n",
            "Epoch 51/100\n",
            "1503/1503 [==============================] - 7s 4ms/step - loss: 0.2865 - auc: 0.9482 - Accuracy: 0.8651 - val_loss: 0.2804 - val_auc: 0.9508 - val_Accuracy: 0.8708\n",
            "Epoch 52/100\n",
            "1503/1503 [==============================] - 5s 3ms/step - loss: 0.2854 - auc: 0.9486 - Accuracy: 0.8674 - val_loss: 0.2812 - val_auc: 0.9506 - val_Accuracy: 0.8702\n",
            "Epoch 53/100\n",
            "1503/1503 [==============================] - 5s 4ms/step - loss: 0.2844 - auc: 0.9490 - Accuracy: 0.8677 - val_loss: 0.2809 - val_auc: 0.9504 - val_Accuracy: 0.8692\n",
            "Epoch 54/100\n",
            "1503/1503 [==============================] - 6s 4ms/step - loss: 0.2835 - auc: 0.9493 - Accuracy: 0.8676 - val_loss: 0.2812 - val_auc: 0.9505 - val_Accuracy: 0.8697\n",
            "Epoch 55/100\n",
            "1503/1503 [==============================] - 5s 3ms/step - loss: 0.2825 - auc: 0.9497 - Accuracy: 0.8686 - val_loss: 0.2780 - val_auc: 0.9519 - val_Accuracy: 0.8710\n",
            "Epoch 56/100\n",
            "1503/1503 [==============================] - 6s 4ms/step - loss: 0.2815 - auc: 0.9500 - Accuracy: 0.8685 - val_loss: 0.2768 - val_auc: 0.9519 - val_Accuracy: 0.8713\n",
            "Epoch 57/100\n",
            "1503/1503 [==============================] - 7s 5ms/step - loss: 0.2803 - auc: 0.9505 - Accuracy: 0.8687 - val_loss: 0.2810 - val_auc: 0.9505 - val_Accuracy: 0.8688\n",
            "Epoch 58/100\n",
            "1503/1503 [==============================] - 5s 3ms/step - loss: 0.2791 - auc: 0.9509 - Accuracy: 0.8705 - val_loss: 0.2758 - val_auc: 0.9524 - val_Accuracy: 0.8726\n",
            "Epoch 59/100\n",
            "1503/1503 [==============================] - 8s 5ms/step - loss: 0.2784 - auc: 0.9512 - Accuracy: 0.8699 - val_loss: 0.2734 - val_auc: 0.9533 - val_Accuracy: 0.8745\n",
            "Epoch 60/100\n",
            "1503/1503 [==============================] - 6s 4ms/step - loss: 0.2773 - auc: 0.9517 - Accuracy: 0.8714 - val_loss: 0.2737 - val_auc: 0.9531 - val_Accuracy: 0.8730\n",
            "Epoch 61/100\n",
            "1503/1503 [==============================] - 6s 4ms/step - loss: 0.2765 - auc: 0.9519 - Accuracy: 0.8714 - val_loss: 0.2741 - val_auc: 0.9528 - val_Accuracy: 0.8721\n",
            "Epoch 62/100\n",
            "1503/1503 [==============================] - 7s 5ms/step - loss: 0.2757 - auc: 0.9521 - Accuracy: 0.8714 - val_loss: 0.2703 - val_auc: 0.9545 - val_Accuracy: 0.8759\n",
            "Epoch 63/100\n",
            "1503/1503 [==============================] - 5s 3ms/step - loss: 0.2748 - auc: 0.9525 - Accuracy: 0.8724 - val_loss: 0.2718 - val_auc: 0.9537 - val_Accuracy: 0.8742\n",
            "Epoch 64/100\n",
            "1503/1503 [==============================] - 6s 4ms/step - loss: 0.2742 - auc: 0.9528 - Accuracy: 0.8728 - val_loss: 0.2701 - val_auc: 0.9542 - val_Accuracy: 0.8755\n",
            "Epoch 65/100\n",
            "1503/1503 [==============================] - 7s 4ms/step - loss: 0.2728 - auc: 0.9532 - Accuracy: 0.8740 - val_loss: 0.2692 - val_auc: 0.9546 - val_Accuracy: 0.8760\n",
            "Epoch 66/100\n",
            "1503/1503 [==============================] - 5s 4ms/step - loss: 0.2721 - auc: 0.9535 - Accuracy: 0.8736 - val_loss: 0.2717 - val_auc: 0.9538 - val_Accuracy: 0.8731\n",
            "Epoch 67/100\n",
            "1503/1503 [==============================] - 8s 6ms/step - loss: 0.2713 - auc: 0.9537 - Accuracy: 0.8743 - val_loss: 0.2678 - val_auc: 0.9551 - val_Accuracy: 0.8762\n",
            "Epoch 68/100\n",
            "1503/1503 [==============================] - 5s 4ms/step - loss: 0.2704 - auc: 0.9541 - Accuracy: 0.8755 - val_loss: 0.2659 - val_auc: 0.9560 - val_Accuracy: 0.8774\n",
            "Epoch 69/100\n",
            "1503/1503 [==============================] - 5s 4ms/step - loss: 0.2696 - auc: 0.9544 - Accuracy: 0.8762 - val_loss: 0.2654 - val_auc: 0.9563 - val_Accuracy: 0.8773\n",
            "Epoch 70/100\n",
            "1503/1503 [==============================] - 7s 5ms/step - loss: 0.2684 - auc: 0.9548 - Accuracy: 0.8763 - val_loss: 0.2638 - val_auc: 0.9566 - val_Accuracy: 0.8786\n",
            "Epoch 71/100\n",
            "1503/1503 [==============================] - 7s 5ms/step - loss: 0.2673 - auc: 0.9552 - Accuracy: 0.8768 - val_loss: 0.2625 - val_auc: 0.9570 - val_Accuracy: 0.8798\n",
            "Epoch 72/100\n",
            "1503/1503 [==============================] - 9s 6ms/step - loss: 0.2666 - auc: 0.9554 - Accuracy: 0.8766 - val_loss: 0.2621 - val_auc: 0.9574 - val_Accuracy: 0.8797\n",
            "Epoch 73/100\n",
            "1503/1503 [==============================] - 6s 4ms/step - loss: 0.2659 - auc: 0.9556 - Accuracy: 0.8783 - val_loss: 0.2602 - val_auc: 0.9580 - val_Accuracy: 0.8815\n",
            "Epoch 74/100\n",
            "1503/1503 [==============================] - 8s 5ms/step - loss: 0.2649 - auc: 0.9560 - Accuracy: 0.8768 - val_loss: 0.2624 - val_auc: 0.9570 - val_Accuracy: 0.8803\n",
            "Epoch 75/100\n",
            "1503/1503 [==============================] - 5s 4ms/step - loss: 0.2648 - auc: 0.9560 - Accuracy: 0.8771 - val_loss: 0.2598 - val_auc: 0.9581 - val_Accuracy: 0.8812\n",
            "Epoch 76/100\n",
            "1503/1503 [==============================] - 5s 3ms/step - loss: 0.2636 - auc: 0.9565 - Accuracy: 0.8779 - val_loss: 0.2588 - val_auc: 0.9587 - val_Accuracy: 0.8813\n",
            "Epoch 77/100\n",
            "1503/1503 [==============================] - 7s 4ms/step - loss: 0.2628 - auc: 0.9567 - Accuracy: 0.8791 - val_loss: 0.2593 - val_auc: 0.9582 - val_Accuracy: 0.8812\n",
            "Epoch 78/100\n",
            "1503/1503 [==============================] - 5s 4ms/step - loss: 0.2620 - auc: 0.9570 - Accuracy: 0.8796 - val_loss: 0.2556 - val_auc: 0.9594 - val_Accuracy: 0.8839\n",
            "Epoch 79/100\n",
            "1503/1503 [==============================] - 6s 4ms/step - loss: 0.2611 - auc: 0.9573 - Accuracy: 0.8794 - val_loss: 0.2566 - val_auc: 0.9592 - val_Accuracy: 0.8823\n",
            "Epoch 80/100\n",
            "1503/1503 [==============================] - 7s 5ms/step - loss: 0.2605 - auc: 0.9575 - Accuracy: 0.8804 - val_loss: 0.2555 - val_auc: 0.9595 - val_Accuracy: 0.8839\n",
            "Epoch 81/100\n",
            "1503/1503 [==============================] - 5s 3ms/step - loss: 0.2592 - auc: 0.9580 - Accuracy: 0.8813 - val_loss: 0.2565 - val_auc: 0.9591 - val_Accuracy: 0.8826\n",
            "Epoch 82/100\n",
            "1503/1503 [==============================] - 6s 4ms/step - loss: 0.2590 - auc: 0.9580 - Accuracy: 0.8811 - val_loss: 0.2532 - val_auc: 0.9602 - val_Accuracy: 0.8850\n",
            "Epoch 83/100\n",
            "1503/1503 [==============================] - 6s 4ms/step - loss: 0.2583 - auc: 0.9583 - Accuracy: 0.8809 - val_loss: 0.2559 - val_auc: 0.9590 - val_Accuracy: 0.8828\n",
            "Epoch 84/100\n",
            "1503/1503 [==============================] - 5s 3ms/step - loss: 0.2576 - auc: 0.9585 - Accuracy: 0.8817 - val_loss: 0.2524 - val_auc: 0.9604 - val_Accuracy: 0.8859\n",
            "Epoch 85/100\n",
            "1503/1503 [==============================] - 8s 6ms/step - loss: 0.2566 - auc: 0.9588 - Accuracy: 0.8825 - val_loss: 0.2530 - val_auc: 0.9605 - val_Accuracy: 0.8854\n",
            "Epoch 86/100\n",
            "1503/1503 [==============================] - 6s 4ms/step - loss: 0.2558 - auc: 0.9591 - Accuracy: 0.8827 - val_loss: 0.2512 - val_auc: 0.9610 - val_Accuracy: 0.8869\n",
            "Epoch 87/100\n",
            "1503/1503 [==============================] - 8s 5ms/step - loss: 0.2553 - auc: 0.9593 - Accuracy: 0.8827 - val_loss: 0.2505 - val_auc: 0.9612 - val_Accuracy: 0.8869\n",
            "Epoch 88/100\n",
            "1503/1503 [==============================] - 5s 3ms/step - loss: 0.2544 - auc: 0.9596 - Accuracy: 0.8838 - val_loss: 0.2497 - val_auc: 0.9615 - val_Accuracy: 0.8857\n",
            "Epoch 89/100\n",
            "1503/1503 [==============================] - 5s 4ms/step - loss: 0.2539 - auc: 0.9597 - Accuracy: 0.8840 - val_loss: 0.2489 - val_auc: 0.9616 - val_Accuracy: 0.8873\n",
            "Epoch 90/100\n",
            "1503/1503 [==============================] - 7s 5ms/step - loss: 0.2528 - auc: 0.9601 - Accuracy: 0.8840 - val_loss: 0.2487 - val_auc: 0.9619 - val_Accuracy: 0.8875\n",
            "Epoch 91/100\n",
            "1503/1503 [==============================] - 5s 4ms/step - loss: 0.2521 - auc: 0.9603 - Accuracy: 0.8846 - val_loss: 0.2472 - val_auc: 0.9622 - val_Accuracy: 0.8870\n",
            "Epoch 92/100\n",
            "1503/1503 [==============================] - 6s 4ms/step - loss: 0.2515 - auc: 0.9606 - Accuracy: 0.8846 - val_loss: 0.2455 - val_auc: 0.9628 - val_Accuracy: 0.8894\n",
            "Epoch 93/100\n",
            "1503/1503 [==============================] - 7s 5ms/step - loss: 0.2508 - auc: 0.9608 - Accuracy: 0.8855 - val_loss: 0.2459 - val_auc: 0.9629 - val_Accuracy: 0.8888\n",
            "Epoch 94/100\n",
            "1503/1503 [==============================] - 5s 4ms/step - loss: 0.2503 - auc: 0.9610 - Accuracy: 0.8863 - val_loss: 0.2446 - val_auc: 0.9629 - val_Accuracy: 0.8887\n",
            "Epoch 95/100\n",
            "1503/1503 [==============================] - 6s 4ms/step - loss: 0.2493 - auc: 0.9613 - Accuracy: 0.8867 - val_loss: 0.2482 - val_auc: 0.9622 - val_Accuracy: 0.8863\n",
            "Epoch 96/100\n",
            "1503/1503 [==============================] - 6s 4ms/step - loss: 0.2489 - auc: 0.9614 - Accuracy: 0.8858 - val_loss: 0.2450 - val_auc: 0.9629 - val_Accuracy: 0.8892\n",
            "Epoch 97/100\n",
            "1503/1503 [==============================] - 5s 3ms/step - loss: 0.2482 - auc: 0.9616 - Accuracy: 0.8873 - val_loss: 0.2445 - val_auc: 0.9630 - val_Accuracy: 0.8895\n",
            "Epoch 98/100\n",
            "1503/1503 [==============================] - 7s 4ms/step - loss: 0.2472 - auc: 0.9619 - Accuracy: 0.8876 - val_loss: 0.2424 - val_auc: 0.9636 - val_Accuracy: 0.8901\n",
            "Epoch 99/100\n",
            "1503/1503 [==============================] - 8s 5ms/step - loss: 0.2466 - auc: 0.9621 - Accuracy: 0.8868 - val_loss: 0.2403 - val_auc: 0.9645 - val_Accuracy: 0.8923\n",
            "Epoch 100/100\n",
            "1503/1503 [==============================] - 6s 4ms/step - loss: 0.2460 - auc: 0.9624 - Accuracy: 0.8888 - val_loss: 0.2402 - val_auc: 0.9644 - val_Accuracy: 0.8915\n"
          ]
        }
      ]
    },
    {
      "cell_type": "code",
      "source": [
        "best_model.add(RoundingActivationLayer())\n",
        "\n",
        "y_predic_best_model = best_model.predict(x_test_norm)\n",
        "\n",
        "metricas(y_predic_best_model, Y_entrenamiento)"
      ],
      "metadata": {
        "id": "-dOKiHpf5Gp7",
        "colab": {
          "base_uri": "https://localhost:8080/",
          "height": 623
        },
        "outputId": "9d474573-f2fb-48b9-e3c7-fc14c8a188f1"
      },
      "execution_count": 92,
      "outputs": [
        {
          "output_type": "stream",
          "name": "stdout",
          "text": [
            "1503/1503 [==============================] - 2s 2ms/step\n",
            "              precision    recall  f1-score   support\n",
            "\n",
            "           0       0.89      0.89      0.89     23629\n",
            "           1       0.89      0.89      0.89     24442\n",
            "\n",
            "    accuracy                           0.89     48071\n",
            "   macro avg       0.89      0.89      0.89     48071\n",
            "weighted avg       0.89      0.89      0.89     48071\n",
            "\n"
          ]
        },
        {
          "output_type": "display_data",
          "data": {
            "text/plain": [
              "<Figure size 640x480 with 2 Axes>"
            ],
            "image/png": "[encoded data removed]"
          },
          "metadata": {}
        }
      ]
    },
    {
      "cell_type": "code",
      "source": [
        "f1 = f1_score(Y_entrenamiento, y_predic_best_model)\n",
        "\n",
        "precision = precision_score(Y_entrenamiento, y_predic_best_model)\n",
        "\n",
        "recall = recall_score(Y_entrenamiento, y_predic_best_model)\n",
        "\n",
        "accuracy = accuracy_score(Y_entrenamiento, y_predic_best_model)\n",
        "\n",
        "print(\"Métrica F1:\", f1)\n",
        "print(\"Precisión:\", precision)\n",
        "print(\"Recall:\", recall)\n",
        "print(\"Exactitud (Accuracy):\", accuracy)"
      ],
      "metadata": {
        "colab": {
          "base_uri": "https://localhost:8080/"
        },
        "id": "sbwH_m-R7XPo",
        "outputId": "17c0540e-35ad-43ed-f918-20f5c1d459a9"
      },
      "execution_count": 93,
      "outputs": [
        {
          "output_type": "stream",
          "name": "stdout",
          "text": [
            "Métrica F1: 0.8933035988297153\n",
            "Precisión: 0.8934315531000614\n",
            "Recall: 0.8931756812044841\n",
            "Exactitud (Accuracy): 0.8915146346029831\n"
          ]
        }
      ]
    },
    {
      "cell_type": "markdown",
      "source": [
        "### Kaggle"
      ],
      "metadata": {
        "id": "9wbVECQU5Qic"
      }
    },
    {
      "cell_type": "code",
      "source": [
        "from sklearn.preprocessing import StandardScaler\n",
        "\n",
        "# Create a StandardScaler instance\n",
        "sscaler = StandardScaler()\n",
        "\n",
        "ds_test_procesado = ds_testing_sinId.copy()\n",
        "\n",
        "# Select only the numeric columns for scaling\n",
        "numeric_columns = ds_testing_sinId.select_dtypes(include=['number'])\n",
        "\n",
        "# Fit the StandardScaler to the numeric data\n",
        "sscaler.fit(numeric_columns)\n",
        "\n",
        "# Transform the numeric columns\n",
        "ds_test_transformed = sscaler.transform(numeric_columns)\n",
        "\n",
        "# Replace the original numeric columns with the scaled values\n",
        "ds_test_procesado[numeric_columns.columns] = ds_test_transformed"
      ],
      "metadata": {
        "id": "f64pGvI15SPg"
      },
      "execution_count": 94,
      "outputs": []
    },
    {
      "cell_type": "code",
      "source": [
        "ds_test_procesado = ds_test_procesado.reindex(columns= x_train.columns, fill_value=0)"
      ],
      "metadata": {
        "id": "AaePJzf35XG7"
      },
      "execution_count": 95,
      "outputs": []
    },
    {
      "cell_type": "code",
      "source": [
        "y_predic_test = best_model.predict(ds_test_procesado)\n",
        "y_test_prediccion = np.where(y_predic_test > 0.481435, 1, 0)"
      ],
      "metadata": {
        "id": "0hiSUMh45ak1",
        "colab": {
          "base_uri": "https://localhost:8080/"
        },
        "outputId": "118197a5-2c80-410a-d494-4e6676b28a7f"
      },
      "execution_count": 96,
      "outputs": [
        {
          "output_type": "stream",
          "name": "stdout",
          "text": [
            "830/830 [==============================] - 1s 1ms/step\n"
          ]
        }
      ]
    },
    {
      "cell_type": "code",
      "source": [
        "arreglo_unidimensional = [elemento for sublista in y_test_prediccion for elemento in sublista]"
      ],
      "metadata": {
        "id": "kwQBvmHZ5z5e"
      },
      "execution_count": 97,
      "outputs": []
    },
    {
      "cell_type": "code",
      "source": [
        "df_submission = pd.DataFrame(\n",
        "    {\"id\": ds_hotels_test[\"id\"], \"is_canceled\": arreglo_unidimensional}\n",
        ")"
      ],
      "metadata": {
        "id": "uPgzBn-X524X"
      },
      "execution_count": 98,
      "outputs": []
    },
    {
      "cell_type": "code",
      "source": [
        "nombre_archivo = \"./modelos/rn_3.pickle\"\n",
        "pickle.dump(best_model, open(nombre_archivo, \"wb\"))"
      ],
      "metadata": {
        "id": "i1YTSB2v-Hkf"
      },
      "execution_count": 99,
      "outputs": []
    },
    {
      "cell_type": "code",
      "source": [
        "nombre_submit = \"rn3.csv\"\n",
        "df_submission.to_csv(nombre_submit, index=False)"
      ],
      "metadata": {
        "id": "1jcL3FIa56Bn"
      },
      "execution_count": 100,
      "outputs": []
    },
    {
      "cell_type": "markdown",
      "source": [
        "## Modelo 4"
      ],
      "metadata": {
        "id": "zXQ9uQtE5WIC"
      }
    },
    {
      "cell_type": "code",
      "source": [
        "def build_dense_model(learning_rate=0.01, units=64, activation=\"relu\", epochs=50, batch_size=64):\n",
        "    model = keras.Sequential([\n",
        "        keras.layers.Dense(units, input_shape=(d_in,), activation=activation),\n",
        "        keras.layers.Dense(1, activation='sigmoid')\n",
        "    ])\n",
        "    model.compile(\n",
        "        loss='binary_crossentropy',\n",
        "        optimizer=keras.optimizers.SGD(learning_rate=learning_rate),\n",
        "        metrics=['AUC', 'Accuracy'],\n",
        "    )\n",
        "    return model"
      ],
      "metadata": {
        "id": "sFy6rE3AodkT"
      },
      "execution_count": 101,
      "outputs": []
    },
    {
      "cell_type": "code",
      "source": [
        "model = KerasClassifier(build_fn=build_dense_model, verbose=0)\n",
        "\n",
        "# Define la cuadrícula de hiperparámetros a explorar para el modelo con capas densas\n",
        "\n",
        "param_grid_dense = {\n",
        "    'learning_rate': [0.001, 0.01, 0.1, 0.2],\n",
        "    'units': [64, 128, 256],\n",
        "    'activation': ['relu', 'tanh', 'sigmoid', 'swish', 'leaky_relu', 'elu'],\n",
        "    'epochs': [50, 100, 200, 300],\n",
        "    'batch_size': [32, 64, 128, 256]\n",
        "}\n"
      ],
      "metadata": {
        "id": "UZhLpwBDoiYZ"
      },
      "execution_count": 102,
      "outputs": []
    },
    {
      "cell_type": "code",
      "source": [
        "random_search_dense = RandomizedSearchCV(model, param_distributions=param_grid_dense, n_iter=10, cv=3)\n",
        "random_search_dense.fit(x_train_norm, Y_entrenamiento)\n",
        "\n",
        "# Muestra los mejores hiperparámetros encontrados\n",
        "print(\"Mejores hiperparámetros encontrados:\")\n",
        "print(random_search_dense.best_params_)"
      ],
      "metadata": {
        "colab": {
          "base_uri": "https://localhost:8080/"
        },
        "id": "Ecl4K5gkokqQ",
        "outputId": "e2ab663f-e81a-4de9-8938-a5c23b2e0b38"
      },
      "execution_count": 103,
      "outputs": [
        {
          "output_type": "stream",
          "name": "stdout",
          "text": [
            "Mejores hiperparámetros encontrados:\n",
            "{'units': 64, 'learning_rate': 0.2, 'epochs': 200, 'batch_size': 64, 'activation': 'swish'}\n"
          ]
        }
      ]
    },
    {
      "cell_type": "code",
      "source": [
        "best_dense_model = build_dense_model(learning_rate=random_search_dense.best_params_['learning_rate'],\n",
        "                                     units=random_search_dense.best_params_['units'],\n",
        "                                     activation=random_search_dense.best_params_['activation'],\n",
        "                                     epochs=random_search_dense.best_params_['epochs'],\n",
        "                                     batch_size=random_search_dense.best_params_['batch_size'])\n",
        "history = best_dense_model.fit(x_train_norm, Y_entrenamiento, epochs=random_search_dense.best_params_['epochs'], batch_size=random_search_dense.best_params_['batch_size'], validation_data=(x_test_norm, Y_entrenamiento))\n"
      ],
      "metadata": {
        "id": "Kyifz2mDnAWx",
        "colab": {
          "base_uri": "https://localhost:8080/"
        },
        "outputId": "9abea335-6082-4fc6-a40b-2a26d9106bf5"
      },
      "execution_count": 104,
      "outputs": [
        {
          "output_type": "stream",
          "name": "stdout",
          "text": [
            "Epoch 1/200\n",
            "752/752 [==============================] - 4s 5ms/step - loss: 0.4408 - auc: 0.8852 - Accuracy: 0.7949 - val_loss: 0.3934 - val_auc: 0.9043 - val_Accuracy: 0.8073\n",
            "Epoch 2/200\n",
            "752/752 [==============================] - 4s 5ms/step - loss: 0.3827 - auc: 0.9082 - Accuracy: 0.8175 - val_loss: 0.3699 - val_auc: 0.9132 - val_Accuracy: 0.8215\n",
            "Epoch 3/200\n",
            "752/752 [==============================] - 3s 4ms/step - loss: 0.3686 - auc: 0.9143 - Accuracy: 0.8242 - val_loss: 0.3569 - val_auc: 0.9196 - val_Accuracy: 0.8288\n",
            "Epoch 4/200\n",
            "752/752 [==============================] - 3s 4ms/step - loss: 0.3582 - auc: 0.9188 - Accuracy: 0.8275 - val_loss: 0.3497 - val_auc: 0.9237 - val_Accuracy: 0.8308\n",
            "Epoch 5/200\n",
            "752/752 [==============================] - 3s 3ms/step - loss: 0.3511 - auc: 0.9221 - Accuracy: 0.8313 - val_loss: 0.3518 - val_auc: 0.9218 - val_Accuracy: 0.8276\n",
            "Epoch 6/200\n",
            "752/752 [==============================] - 3s 4ms/step - loss: 0.3457 - auc: 0.9245 - Accuracy: 0.8350 - val_loss: 0.3371 - val_auc: 0.9278 - val_Accuracy: 0.8406\n",
            "Epoch 7/200\n",
            "752/752 [==============================] - 5s 7ms/step - loss: 0.3396 - auc: 0.9270 - Accuracy: 0.8378 - val_loss: 0.3327 - val_auc: 0.9303 - val_Accuracy: 0.8412\n",
            "Epoch 8/200\n",
            "752/752 [==============================] - 3s 4ms/step - loss: 0.3362 - auc: 0.9287 - Accuracy: 0.8403 - val_loss: 0.3315 - val_auc: 0.9304 - val_Accuracy: 0.8411\n",
            "Epoch 9/200\n",
            "752/752 [==============================] - 3s 4ms/step - loss: 0.3318 - auc: 0.9303 - Accuracy: 0.8435 - val_loss: 0.3281 - val_auc: 0.9324 - val_Accuracy: 0.8438\n",
            "Epoch 10/200\n",
            "752/752 [==============================] - 3s 4ms/step - loss: 0.3301 - auc: 0.9310 - Accuracy: 0.8441 - val_loss: 0.3309 - val_auc: 0.9320 - val_Accuracy: 0.8425\n",
            "Epoch 11/200\n",
            "752/752 [==============================] - 3s 5ms/step - loss: 0.3263 - auc: 0.9324 - Accuracy: 0.8442 - val_loss: 0.3205 - val_auc: 0.9349 - val_Accuracy: 0.8465\n",
            "Epoch 12/200\n",
            "752/752 [==============================] - 5s 7ms/step - loss: 0.3257 - auc: 0.9331 - Accuracy: 0.8457 - val_loss: 0.3253 - val_auc: 0.9332 - val_Accuracy: 0.8444\n",
            "Epoch 13/200\n",
            "752/752 [==============================] - 3s 4ms/step - loss: 0.3226 - auc: 0.9340 - Accuracy: 0.8469 - val_loss: 0.3147 - val_auc: 0.9376 - val_Accuracy: 0.8522\n",
            "Epoch 14/200\n",
            "752/752 [==============================] - 3s 4ms/step - loss: 0.3201 - auc: 0.9349 - Accuracy: 0.8483 - val_loss: 0.3127 - val_auc: 0.9384 - val_Accuracy: 0.8538\n",
            "Epoch 15/200\n",
            "752/752 [==============================] - 3s 4ms/step - loss: 0.3196 - auc: 0.9353 - Accuracy: 0.8481 - val_loss: 0.3447 - val_auc: 0.9313 - val_Accuracy: 0.8404\n",
            "Epoch 16/200\n",
            "752/752 [==============================] - 5s 6ms/step - loss: 0.3161 - auc: 0.9367 - Accuracy: 0.8503 - val_loss: 0.3089 - val_auc: 0.9394 - val_Accuracy: 0.8545\n",
            "Epoch 17/200\n",
            "752/752 [==============================] - 5s 7ms/step - loss: 0.3158 - auc: 0.9368 - Accuracy: 0.8504 - val_loss: 0.3098 - val_auc: 0.9396 - val_Accuracy: 0.8547\n",
            "Epoch 18/200\n",
            "752/752 [==============================] - 3s 4ms/step - loss: 0.3143 - auc: 0.9372 - Accuracy: 0.8498 - val_loss: 0.3300 - val_auc: 0.9310 - val_Accuracy: 0.8448\n",
            "Epoch 19/200\n",
            "752/752 [==============================] - 3s 4ms/step - loss: 0.3133 - auc: 0.9379 - Accuracy: 0.8531 - val_loss: 0.3235 - val_auc: 0.9339 - val_Accuracy: 0.8483\n",
            "Epoch 20/200\n",
            "752/752 [==============================] - 3s 4ms/step - loss: 0.3123 - auc: 0.9381 - Accuracy: 0.8516 - val_loss: 0.3041 - val_auc: 0.9422 - val_Accuracy: 0.8566\n",
            "Epoch 21/200\n",
            "752/752 [==============================] - 5s 6ms/step - loss: 0.3105 - auc: 0.9392 - Accuracy: 0.8532 - val_loss: 0.3035 - val_auc: 0.9424 - val_Accuracy: 0.8576\n",
            "Epoch 22/200\n",
            "752/752 [==============================] - 3s 4ms/step - loss: 0.3086 - auc: 0.9396 - Accuracy: 0.8557 - val_loss: 0.3035 - val_auc: 0.9418 - val_Accuracy: 0.8578\n",
            "Epoch 23/200\n",
            "752/752 [==============================] - 3s 4ms/step - loss: 0.3084 - auc: 0.9398 - Accuracy: 0.8555 - val_loss: 0.3012 - val_auc: 0.9427 - val_Accuracy: 0.8585\n",
            "Epoch 24/200\n",
            "752/752 [==============================] - 3s 3ms/step - loss: 0.3073 - auc: 0.9404 - Accuracy: 0.8550 - val_loss: 0.3023 - val_auc: 0.9437 - val_Accuracy: 0.8581\n",
            "Epoch 25/200\n",
            "752/752 [==============================] - 4s 6ms/step - loss: 0.3044 - auc: 0.9412 - Accuracy: 0.8562 - val_loss: 0.3363 - val_auc: 0.9307 - val_Accuracy: 0.8460\n",
            "Epoch 26/200\n",
            "752/752 [==============================] - 5s 7ms/step - loss: 0.3036 - auc: 0.9414 - Accuracy: 0.8564 - val_loss: 0.3007 - val_auc: 0.9448 - val_Accuracy: 0.8583\n",
            "Epoch 27/200\n",
            "752/752 [==============================] - 3s 3ms/step - loss: 0.3031 - auc: 0.9419 - Accuracy: 0.8583 - val_loss: 0.3125 - val_auc: 0.9391 - val_Accuracy: 0.8513\n",
            "Epoch 28/200\n",
            "752/752 [==============================] - 3s 4ms/step - loss: 0.3013 - auc: 0.9424 - Accuracy: 0.8584 - val_loss: 0.3056 - val_auc: 0.9408 - val_Accuracy: 0.8574\n",
            "Epoch 29/200\n",
            "752/752 [==============================] - 3s 4ms/step - loss: 0.3006 - auc: 0.9426 - Accuracy: 0.8587 - val_loss: 0.3017 - val_auc: 0.9431 - val_Accuracy: 0.8581\n",
            "Epoch 30/200\n",
            "752/752 [==============================] - 5s 6ms/step - loss: 0.2987 - auc: 0.9434 - Accuracy: 0.8601 - val_loss: 0.3008 - val_auc: 0.9432 - val_Accuracy: 0.8584\n",
            "Epoch 31/200\n",
            "752/752 [==============================] - 3s 4ms/step - loss: 0.2996 - auc: 0.9431 - Accuracy: 0.8597 - val_loss: 0.2935 - val_auc: 0.9462 - val_Accuracy: 0.8609\n",
            "Epoch 32/200\n",
            "752/752 [==============================] - 3s 4ms/step - loss: 0.2968 - auc: 0.9441 - Accuracy: 0.8614 - val_loss: 0.2902 - val_auc: 0.9468 - val_Accuracy: 0.8637\n",
            "Epoch 33/200\n",
            "752/752 [==============================] - 3s 4ms/step - loss: 0.2974 - auc: 0.9441 - Accuracy: 0.8619 - val_loss: 0.2925 - val_auc: 0.9466 - val_Accuracy: 0.8630\n",
            "Epoch 34/200\n",
            "752/752 [==============================] - 4s 6ms/step - loss: 0.2957 - auc: 0.9445 - Accuracy: 0.8605 - val_loss: 0.3165 - val_auc: 0.9403 - val_Accuracy: 0.8532\n",
            "Epoch 35/200\n",
            "752/752 [==============================] - 4s 5ms/step - loss: 0.2952 - auc: 0.9450 - Accuracy: 0.8618 - val_loss: 0.2873 - val_auc: 0.9480 - val_Accuracy: 0.8652\n",
            "Epoch 36/200\n",
            "752/752 [==============================] - 3s 4ms/step - loss: 0.2928 - auc: 0.9457 - Accuracy: 0.8635 - val_loss: 0.2874 - val_auc: 0.9486 - val_Accuracy: 0.8663\n",
            "Epoch 37/200\n",
            "752/752 [==============================] - 3s 3ms/step - loss: 0.2919 - auc: 0.9460 - Accuracy: 0.8631 - val_loss: 0.2956 - val_auc: 0.9470 - val_Accuracy: 0.8599\n",
            "Epoch 38/200\n",
            "752/752 [==============================] - 3s 4ms/step - loss: 0.2917 - auc: 0.9463 - Accuracy: 0.8643 - val_loss: 0.2936 - val_auc: 0.9474 - val_Accuracy: 0.8617\n",
            "Epoch 39/200\n",
            "752/752 [==============================] - 3s 4ms/step - loss: 0.2905 - auc: 0.9466 - Accuracy: 0.8655 - val_loss: 0.2843 - val_auc: 0.9488 - val_Accuracy: 0.8675\n",
            "Epoch 40/200\n",
            "752/752 [==============================] - 5s 7ms/step - loss: 0.2898 - auc: 0.9470 - Accuracy: 0.8655 - val_loss: 0.2847 - val_auc: 0.9499 - val_Accuracy: 0.8659\n",
            "Epoch 41/200\n",
            "752/752 [==============================] - 3s 4ms/step - loss: 0.2884 - auc: 0.9474 - Accuracy: 0.8656 - val_loss: 0.2811 - val_auc: 0.9502 - val_Accuracy: 0.8702\n",
            "Epoch 42/200\n",
            "752/752 [==============================] - 3s 4ms/step - loss: 0.2878 - auc: 0.9477 - Accuracy: 0.8656 - val_loss: 0.2824 - val_auc: 0.9496 - val_Accuracy: 0.8688\n",
            "Epoch 43/200\n",
            "752/752 [==============================] - 3s 4ms/step - loss: 0.2854 - auc: 0.9485 - Accuracy: 0.8667 - val_loss: 0.2835 - val_auc: 0.9501 - val_Accuracy: 0.8713\n",
            "Epoch 44/200\n",
            "752/752 [==============================] - 5s 7ms/step - loss: 0.2872 - auc: 0.9480 - Accuracy: 0.8667 - val_loss: 0.2843 - val_auc: 0.9501 - val_Accuracy: 0.8661\n",
            "Epoch 45/200\n",
            "752/752 [==============================] - 3s 4ms/step - loss: 0.2851 - auc: 0.9485 - Accuracy: 0.8672 - val_loss: 0.2895 - val_auc: 0.9504 - val_Accuracy: 0.8677\n",
            "Epoch 46/200\n",
            "752/752 [==============================] - 3s 4ms/step - loss: 0.2864 - auc: 0.9486 - Accuracy: 0.8676 - val_loss: 0.2752 - val_auc: 0.9523 - val_Accuracy: 0.8715\n",
            "Epoch 47/200\n",
            "752/752 [==============================] - 3s 3ms/step - loss: 0.2839 - auc: 0.9491 - Accuracy: 0.8674 - val_loss: 0.2869 - val_auc: 0.9486 - val_Accuracy: 0.8649\n",
            "Epoch 48/200\n",
            "752/752 [==============================] - 3s 4ms/step - loss: 0.2839 - auc: 0.9492 - Accuracy: 0.8694 - val_loss: 0.2755 - val_auc: 0.9534 - val_Accuracy: 0.8728\n",
            "Epoch 49/200\n",
            "752/752 [==============================] - 4s 5ms/step - loss: 0.2824 - auc: 0.9498 - Accuracy: 0.8688 - val_loss: 0.2759 - val_auc: 0.9523 - val_Accuracy: 0.8728\n",
            "Epoch 50/200\n",
            "752/752 [==============================] - 4s 5ms/step - loss: 0.2819 - auc: 0.9498 - Accuracy: 0.8691 - val_loss: 0.2798 - val_auc: 0.9509 - val_Accuracy: 0.8695\n",
            "Epoch 51/200\n",
            "752/752 [==============================] - 3s 4ms/step - loss: 0.2811 - auc: 0.9501 - Accuracy: 0.8686 - val_loss: 0.2774 - val_auc: 0.9534 - val_Accuracy: 0.8720\n",
            "Epoch 52/200\n",
            "752/752 [==============================] - 3s 4ms/step - loss: 0.2805 - auc: 0.9504 - Accuracy: 0.8695 - val_loss: 0.2708 - val_auc: 0.9538 - val_Accuracy: 0.8758\n",
            "Epoch 53/200\n",
            "752/752 [==============================] - 3s 4ms/step - loss: 0.2799 - auc: 0.9505 - Accuracy: 0.8703 - val_loss: 0.2709 - val_auc: 0.9541 - val_Accuracy: 0.8765\n",
            "Epoch 54/200\n",
            "752/752 [==============================] - 5s 6ms/step - loss: 0.2797 - auc: 0.9506 - Accuracy: 0.8710 - val_loss: 0.2750 - val_auc: 0.9534 - val_Accuracy: 0.8712\n",
            "Epoch 55/200\n",
            "752/752 [==============================] - 3s 5ms/step - loss: 0.2790 - auc: 0.9510 - Accuracy: 0.8712 - val_loss: 0.2785 - val_auc: 0.9534 - val_Accuracy: 0.8711\n",
            "Epoch 56/200\n",
            "752/752 [==============================] - 3s 4ms/step - loss: 0.2784 - auc: 0.9512 - Accuracy: 0.8713 - val_loss: 0.2732 - val_auc: 0.9537 - val_Accuracy: 0.8740\n",
            "Epoch 57/200\n",
            "752/752 [==============================] - 3s 4ms/step - loss: 0.2777 - auc: 0.9515 - Accuracy: 0.8718 - val_loss: 0.2733 - val_auc: 0.9529 - val_Accuracy: 0.8721\n",
            "Epoch 58/200\n",
            "752/752 [==============================] - 3s 4ms/step - loss: 0.2778 - auc: 0.9514 - Accuracy: 0.8718 - val_loss: 0.2739 - val_auc: 0.9529 - val_Accuracy: 0.8723\n",
            "Epoch 59/200\n",
            "752/752 [==============================] - 5s 7ms/step - loss: 0.2767 - auc: 0.9518 - Accuracy: 0.8718 - val_loss: 0.2786 - val_auc: 0.9532 - val_Accuracy: 0.8730\n",
            "Epoch 60/200\n",
            "752/752 [==============================] - 3s 4ms/step - loss: 0.2762 - auc: 0.9520 - Accuracy: 0.8721 - val_loss: 0.3006 - val_auc: 0.9475 - val_Accuracy: 0.8657\n",
            "Epoch 61/200\n",
            "752/752 [==============================] - 3s 4ms/step - loss: 0.2741 - auc: 0.9525 - Accuracy: 0.8723 - val_loss: 0.2687 - val_auc: 0.9545 - val_Accuracy: 0.8760\n",
            "Epoch 62/200\n",
            "752/752 [==============================] - 3s 4ms/step - loss: 0.2743 - auc: 0.9526 - Accuracy: 0.8722 - val_loss: 0.2665 - val_auc: 0.9555 - val_Accuracy: 0.8785\n",
            "Epoch 63/200\n",
            "752/752 [==============================] - 4s 6ms/step - loss: 0.2740 - auc: 0.9528 - Accuracy: 0.8734 - val_loss: 0.2720 - val_auc: 0.9538 - val_Accuracy: 0.8753\n",
            "Epoch 64/200\n",
            "752/752 [==============================] - 5s 7ms/step - loss: 0.2727 - auc: 0.9532 - Accuracy: 0.8741 - val_loss: 0.2688 - val_auc: 0.9549 - val_Accuracy: 0.8765\n",
            "Epoch 65/200\n",
            "752/752 [==============================] - 3s 3ms/step - loss: 0.2721 - auc: 0.9534 - Accuracy: 0.8738 - val_loss: 0.2716 - val_auc: 0.9538 - val_Accuracy: 0.8757\n",
            "Epoch 66/200\n",
            "752/752 [==============================] - 3s 4ms/step - loss: 0.2719 - auc: 0.9535 - Accuracy: 0.8751 - val_loss: 0.2760 - val_auc: 0.9551 - val_Accuracy: 0.8718\n",
            "Epoch 67/200\n",
            "752/752 [==============================] - 3s 4ms/step - loss: 0.2721 - auc: 0.9533 - Accuracy: 0.8746 - val_loss: 0.2983 - val_auc: 0.9465 - val_Accuracy: 0.8692\n",
            "Epoch 68/200\n",
            "752/752 [==============================] - 4s 5ms/step - loss: 0.2719 - auc: 0.9535 - Accuracy: 0.8751 - val_loss: 0.3397 - val_auc: 0.9379 - val_Accuracy: 0.8541\n",
            "Epoch 69/200\n",
            "752/752 [==============================] - 5s 6ms/step - loss: 0.2714 - auc: 0.9537 - Accuracy: 0.8750 - val_loss: 0.2612 - val_auc: 0.9573 - val_Accuracy: 0.8799\n",
            "Epoch 70/200\n",
            "752/752 [==============================] - 5s 7ms/step - loss: 0.2698 - auc: 0.9541 - Accuracy: 0.8746 - val_loss: 0.2979 - val_auc: 0.9468 - val_Accuracy: 0.8666\n",
            "Epoch 71/200\n",
            "752/752 [==============================] - 3s 4ms/step - loss: 0.2684 - auc: 0.9547 - Accuracy: 0.8753 - val_loss: 0.2590 - val_auc: 0.9580 - val_Accuracy: 0.8810\n",
            "Epoch 72/200\n",
            "752/752 [==============================] - 3s 4ms/step - loss: 0.2681 - auc: 0.9547 - Accuracy: 0.8765 - val_loss: 0.2665 - val_auc: 0.9571 - val_Accuracy: 0.8798\n",
            "Epoch 73/200\n",
            "752/752 [==============================] - 3s 4ms/step - loss: 0.2688 - auc: 0.9546 - Accuracy: 0.8751 - val_loss: 0.2669 - val_auc: 0.9555 - val_Accuracy: 0.8763\n",
            "Epoch 74/200\n",
            "752/752 [==============================] - 4s 5ms/step - loss: 0.2674 - auc: 0.9550 - Accuracy: 0.8763 - val_loss: 0.2801 - val_auc: 0.9532 - val_Accuracy: 0.8707\n",
            "Epoch 75/200\n",
            "752/752 [==============================] - 3s 4ms/step - loss: 0.2683 - auc: 0.9547 - Accuracy: 0.8766 - val_loss: 0.2563 - val_auc: 0.9589 - val_Accuracy: 0.8819\n",
            "Epoch 76/200\n",
            "752/752 [==============================] - 3s 4ms/step - loss: 0.2673 - auc: 0.9551 - Accuracy: 0.8772 - val_loss: 0.2574 - val_auc: 0.9585 - val_Accuracy: 0.8814\n",
            "Epoch 77/200\n",
            "752/752 [==============================] - 3s 4ms/step - loss: 0.2673 - auc: 0.9551 - Accuracy: 0.8769 - val_loss: 0.2608 - val_auc: 0.9575 - val_Accuracy: 0.8804\n",
            "Epoch 78/200\n",
            "752/752 [==============================] - 4s 6ms/step - loss: 0.2658 - auc: 0.9556 - Accuracy: 0.8781 - val_loss: 0.2552 - val_auc: 0.9594 - val_Accuracy: 0.8835\n",
            "Epoch 79/200\n",
            "752/752 [==============================] - 5s 7ms/step - loss: 0.2656 - auc: 0.9557 - Accuracy: 0.8773 - val_loss: 0.2585 - val_auc: 0.9592 - val_Accuracy: 0.8807\n",
            "Epoch 80/200\n",
            "752/752 [==============================] - 3s 4ms/step - loss: 0.2649 - auc: 0.9558 - Accuracy: 0.8777 - val_loss: 0.2572 - val_auc: 0.9588 - val_Accuracy: 0.8837\n",
            "Epoch 81/200\n",
            "752/752 [==============================] - 3s 4ms/step - loss: 0.2645 - auc: 0.9561 - Accuracy: 0.8789 - val_loss: 0.2591 - val_auc: 0.9578 - val_Accuracy: 0.8819\n",
            "Epoch 82/200\n",
            "752/752 [==============================] - 3s 3ms/step - loss: 0.2647 - auc: 0.9559 - Accuracy: 0.8765 - val_loss: 0.2590 - val_auc: 0.9585 - val_Accuracy: 0.8832\n",
            "Epoch 83/200\n",
            "752/752 [==============================] - 4s 5ms/step - loss: 0.2643 - auc: 0.9562 - Accuracy: 0.8789 - val_loss: 0.2619 - val_auc: 0.9575 - val_Accuracy: 0.8823\n",
            "Epoch 84/200\n",
            "752/752 [==============================] - 4s 5ms/step - loss: 0.2635 - auc: 0.9564 - Accuracy: 0.8790 - val_loss: 0.2566 - val_auc: 0.9587 - val_Accuracy: 0.8827\n",
            "Epoch 85/200\n",
            "752/752 [==============================] - 3s 4ms/step - loss: 0.2631 - auc: 0.9565 - Accuracy: 0.8791 - val_loss: 0.2600 - val_auc: 0.9590 - val_Accuracy: 0.8824\n",
            "Epoch 86/200\n",
            "752/752 [==============================] - 3s 4ms/step - loss: 0.2629 - auc: 0.9566 - Accuracy: 0.8794 - val_loss: 0.2942 - val_auc: 0.9496 - val_Accuracy: 0.8723\n",
            "Epoch 87/200\n",
            "752/752 [==============================] - 3s 4ms/step - loss: 0.2626 - auc: 0.9567 - Accuracy: 0.8787 - val_loss: 0.2617 - val_auc: 0.9574 - val_Accuracy: 0.8803\n",
            "Epoch 88/200\n",
            "752/752 [==============================] - 4s 5ms/step - loss: 0.2613 - auc: 0.9571 - Accuracy: 0.8795 - val_loss: 0.2709 - val_auc: 0.9549 - val_Accuracy: 0.8763\n",
            "Epoch 89/200\n",
            "752/752 [==============================] - 4s 5ms/step - loss: 0.2618 - auc: 0.9569 - Accuracy: 0.8797 - val_loss: 0.2702 - val_auc: 0.9558 - val_Accuracy: 0.8794\n",
            "Epoch 90/200\n",
            "752/752 [==============================] - 3s 4ms/step - loss: 0.2610 - auc: 0.9571 - Accuracy: 0.8793 - val_loss: 0.2533 - val_auc: 0.9613 - val_Accuracy: 0.8843\n",
            "Epoch 91/200\n",
            "752/752 [==============================] - 3s 4ms/step - loss: 0.2603 - auc: 0.9575 - Accuracy: 0.8803 - val_loss: 0.3140 - val_auc: 0.9484 - val_Accuracy: 0.8665\n",
            "Epoch 92/200\n",
            "752/752 [==============================] - 3s 4ms/step - loss: 0.2606 - auc: 0.9573 - Accuracy: 0.8797 - val_loss: 0.2480 - val_auc: 0.9614 - val_Accuracy: 0.8864\n",
            "Epoch 93/200\n",
            "752/752 [==============================] - 4s 6ms/step - loss: 0.2597 - auc: 0.9577 - Accuracy: 0.8807 - val_loss: 0.2545 - val_auc: 0.9611 - val_Accuracy: 0.8844\n",
            "Epoch 94/200\n",
            "752/752 [==============================] - 4s 5ms/step - loss: 0.2601 - auc: 0.9575 - Accuracy: 0.8801 - val_loss: 0.2615 - val_auc: 0.9584 - val_Accuracy: 0.8832\n",
            "Epoch 95/200\n",
            "752/752 [==============================] - 3s 4ms/step - loss: 0.2585 - auc: 0.9581 - Accuracy: 0.8806 - val_loss: 0.2515 - val_auc: 0.9613 - val_Accuracy: 0.8847\n",
            "Epoch 96/200\n",
            "752/752 [==============================] - 3s 4ms/step - loss: 0.2573 - auc: 0.9584 - Accuracy: 0.8813 - val_loss: 0.2601 - val_auc: 0.9579 - val_Accuracy: 0.8824\n",
            "Epoch 97/200\n",
            "752/752 [==============================] - 3s 4ms/step - loss: 0.2586 - auc: 0.9580 - Accuracy: 0.8809 - val_loss: 0.2805 - val_auc: 0.9551 - val_Accuracy: 0.8713\n",
            "Epoch 98/200\n",
            "752/752 [==============================] - 4s 6ms/step - loss: 0.2574 - auc: 0.9584 - Accuracy: 0.8822 - val_loss: 0.2618 - val_auc: 0.9580 - val_Accuracy: 0.8806\n",
            "Epoch 99/200\n",
            "752/752 [==============================] - 3s 5ms/step - loss: 0.2577 - auc: 0.9583 - Accuracy: 0.8812 - val_loss: 0.2598 - val_auc: 0.9593 - val_Accuracy: 0.8810\n",
            "Epoch 100/200\n",
            "752/752 [==============================] - 3s 4ms/step - loss: 0.2576 - auc: 0.9583 - Accuracy: 0.8818 - val_loss: 0.2489 - val_auc: 0.9616 - val_Accuracy: 0.8859\n",
            "Epoch 101/200\n",
            "752/752 [==============================] - 3s 4ms/step - loss: 0.2577 - auc: 0.9585 - Accuracy: 0.8824 - val_loss: 0.2464 - val_auc: 0.9630 - val_Accuracy: 0.8869\n",
            "Epoch 102/200\n",
            "752/752 [==============================] - 3s 4ms/step - loss: 0.2557 - auc: 0.9590 - Accuracy: 0.8822 - val_loss: 0.2797 - val_auc: 0.9535 - val_Accuracy: 0.8773\n",
            "Epoch 103/200\n",
            "752/752 [==============================] - 5s 6ms/step - loss: 0.2569 - auc: 0.9587 - Accuracy: 0.8816 - val_loss: 0.2769 - val_auc: 0.9539 - val_Accuracy: 0.8730\n",
            "Epoch 104/200\n",
            "752/752 [==============================] - 3s 5ms/step - loss: 0.2556 - auc: 0.9589 - Accuracy: 0.8819 - val_loss: 0.2988 - val_auc: 0.9505 - val_Accuracy: 0.8708\n",
            "Epoch 105/200\n",
            "752/752 [==============================] - 3s 3ms/step - loss: 0.2553 - auc: 0.9592 - Accuracy: 0.8834 - val_loss: 0.2535 - val_auc: 0.9616 - val_Accuracy: 0.8849\n",
            "Epoch 106/200\n",
            "752/752 [==============================] - 3s 4ms/step - loss: 0.2552 - auc: 0.9593 - Accuracy: 0.8831 - val_loss: 0.2487 - val_auc: 0.9613 - val_Accuracy: 0.8868\n",
            "Epoch 107/200\n",
            "752/752 [==============================] - 3s 4ms/step - loss: 0.2544 - auc: 0.9594 - Accuracy: 0.8829 - val_loss: 0.3946 - val_auc: 0.9335 - val_Accuracy: 0.8423\n",
            "Epoch 108/200\n",
            "752/752 [==============================] - 5s 6ms/step - loss: 0.2551 - auc: 0.9592 - Accuracy: 0.8835 - val_loss: 0.2601 - val_auc: 0.9607 - val_Accuracy: 0.8806\n",
            "Epoch 109/200\n",
            "752/752 [==============================] - 3s 4ms/step - loss: 0.2540 - auc: 0.9597 - Accuracy: 0.8853 - val_loss: 0.2475 - val_auc: 0.9623 - val_Accuracy: 0.8879\n",
            "Epoch 110/200\n",
            "752/752 [==============================] - 3s 4ms/step - loss: 0.2537 - auc: 0.9596 - Accuracy: 0.8837 - val_loss: 0.2565 - val_auc: 0.9620 - val_Accuracy: 0.8838\n",
            "Epoch 111/200\n",
            "752/752 [==============================] - 3s 4ms/step - loss: 0.2522 - auc: 0.9602 - Accuracy: 0.8852 - val_loss: 0.3351 - val_auc: 0.9446 - val_Accuracy: 0.8657\n",
            "Epoch 112/200\n",
            "752/752 [==============================] - 3s 4ms/step - loss: 0.2519 - auc: 0.9603 - Accuracy: 0.8853 - val_loss: 0.2404 - val_auc: 0.9646 - val_Accuracy: 0.8913\n",
            "Epoch 113/200\n",
            "752/752 [==============================] - 5s 6ms/step - loss: 0.2525 - auc: 0.9601 - Accuracy: 0.8843 - val_loss: 0.2493 - val_auc: 0.9628 - val_Accuracy: 0.8849\n",
            "Epoch 114/200\n",
            "752/752 [==============================] - 3s 4ms/step - loss: 0.2523 - auc: 0.9602 - Accuracy: 0.8854 - val_loss: 0.2453 - val_auc: 0.9628 - val_Accuracy: 0.8895\n",
            "Epoch 115/200\n",
            "752/752 [==============================] - 3s 4ms/step - loss: 0.2499 - auc: 0.9609 - Accuracy: 0.8860 - val_loss: 0.2565 - val_auc: 0.9596 - val_Accuracy: 0.8863\n",
            "Epoch 116/200\n",
            "752/752 [==============================] - 3s 4ms/step - loss: 0.2513 - auc: 0.9606 - Accuracy: 0.8859 - val_loss: 0.2547 - val_auc: 0.9625 - val_Accuracy: 0.8835\n",
            "Epoch 117/200\n",
            "752/752 [==============================] - 3s 4ms/step - loss: 0.2505 - auc: 0.9606 - Accuracy: 0.8860 - val_loss: 0.2449 - val_auc: 0.9632 - val_Accuracy: 0.8887\n",
            "Epoch 118/200\n",
            "752/752 [==============================] - 4s 5ms/step - loss: 0.2503 - auc: 0.9607 - Accuracy: 0.8854 - val_loss: 0.2441 - val_auc: 0.9635 - val_Accuracy: 0.8885\n",
            "Epoch 119/200\n",
            "752/752 [==============================] - 3s 5ms/step - loss: 0.2524 - auc: 0.9601 - Accuracy: 0.8845 - val_loss: 0.2462 - val_auc: 0.9625 - val_Accuracy: 0.8870\n",
            "Epoch 120/200\n",
            "752/752 [==============================] - 3s 4ms/step - loss: 0.2500 - auc: 0.9609 - Accuracy: 0.8849 - val_loss: 0.2732 - val_auc: 0.9563 - val_Accuracy: 0.8838\n",
            "Epoch 121/200\n",
            "752/752 [==============================] - 3s 4ms/step - loss: 0.2493 - auc: 0.9612 - Accuracy: 0.8863 - val_loss: 0.2380 - val_auc: 0.9647 - val_Accuracy: 0.8928\n",
            "Epoch 122/200\n",
            "752/752 [==============================] - 5s 6ms/step - loss: 0.2493 - auc: 0.9611 - Accuracy: 0.8857 - val_loss: 0.2424 - val_auc: 0.9637 - val_Accuracy: 0.8913\n",
            "Epoch 123/200\n",
            "752/752 [==============================] - 5s 7ms/step - loss: 0.2481 - auc: 0.9615 - Accuracy: 0.8867 - val_loss: 0.2415 - val_auc: 0.9639 - val_Accuracy: 0.8900\n",
            "Epoch 124/200\n",
            "752/752 [==============================] - 3s 4ms/step - loss: 0.2491 - auc: 0.9612 - Accuracy: 0.8860 - val_loss: 0.2538 - val_auc: 0.9620 - val_Accuracy: 0.8827\n",
            "Epoch 125/200\n",
            "752/752 [==============================] - 3s 3ms/step - loss: 0.2483 - auc: 0.9614 - Accuracy: 0.8861 - val_loss: 0.2470 - val_auc: 0.9620 - val_Accuracy: 0.8871\n",
            "Epoch 126/200\n",
            "752/752 [==============================] - 3s 4ms/step - loss: 0.2479 - auc: 0.9616 - Accuracy: 0.8863 - val_loss: 0.2408 - val_auc: 0.9642 - val_Accuracy: 0.8896\n",
            "Epoch 127/200\n",
            "752/752 [==============================] - 3s 4ms/step - loss: 0.2480 - auc: 0.9616 - Accuracy: 0.8870 - val_loss: 0.2530 - val_auc: 0.9623 - val_Accuracy: 0.8843\n",
            "Epoch 128/200\n",
            "752/752 [==============================] - 5s 6ms/step - loss: 0.2465 - auc: 0.9619 - Accuracy: 0.8865 - val_loss: 0.2572 - val_auc: 0.9602 - val_Accuracy: 0.8846\n",
            "Epoch 129/200\n",
            "752/752 [==============================] - 3s 4ms/step - loss: 0.2465 - auc: 0.9620 - Accuracy: 0.8872 - val_loss: 0.2794 - val_auc: 0.9553 - val_Accuracy: 0.8777\n",
            "Epoch 130/200\n",
            "752/752 [==============================] - 3s 4ms/step - loss: 0.2471 - auc: 0.9618 - Accuracy: 0.8869 - val_loss: 0.2396 - val_auc: 0.9649 - val_Accuracy: 0.8924\n",
            "Epoch 131/200\n",
            "752/752 [==============================] - 3s 4ms/step - loss: 0.2457 - auc: 0.9622 - Accuracy: 0.8880 - val_loss: 0.2881 - val_auc: 0.9539 - val_Accuracy: 0.8799\n",
            "Epoch 132/200\n",
            "752/752 [==============================] - 3s 4ms/step - loss: 0.2458 - auc: 0.9623 - Accuracy: 0.8887 - val_loss: 0.2655 - val_auc: 0.9602 - val_Accuracy: 0.8771\n",
            "Epoch 133/200\n",
            "752/752 [==============================] - 4s 5ms/step - loss: 0.2468 - auc: 0.9620 - Accuracy: 0.8881 - val_loss: 0.2479 - val_auc: 0.9642 - val_Accuracy: 0.8863\n",
            "Epoch 134/200\n",
            "752/752 [==============================] - 4s 5ms/step - loss: 0.2464 - auc: 0.9620 - Accuracy: 0.8883 - val_loss: 0.2333 - val_auc: 0.9665 - val_Accuracy: 0.8946\n",
            "Epoch 135/200\n",
            "752/752 [==============================] - 3s 4ms/step - loss: 0.2455 - auc: 0.9624 - Accuracy: 0.8890 - val_loss: 0.2618 - val_auc: 0.9589 - val_Accuracy: 0.8833\n",
            "Epoch 136/200\n",
            "752/752 [==============================] - 3s 4ms/step - loss: 0.2451 - auc: 0.9625 - Accuracy: 0.8887 - val_loss: 0.2698 - val_auc: 0.9588 - val_Accuracy: 0.8782\n",
            "Epoch 137/200\n",
            "752/752 [==============================] - 3s 4ms/step - loss: 0.2451 - auc: 0.9625 - Accuracy: 0.8894 - val_loss: 0.2464 - val_auc: 0.9629 - val_Accuracy: 0.8900\n",
            "Epoch 138/200\n",
            "752/752 [==============================] - 4s 5ms/step - loss: 0.2439 - auc: 0.9628 - Accuracy: 0.8883 - val_loss: 0.2640 - val_auc: 0.9577 - val_Accuracy: 0.8812\n",
            "Epoch 139/200\n",
            "752/752 [==============================] - 4s 5ms/step - loss: 0.2435 - auc: 0.9629 - Accuracy: 0.8886 - val_loss: 0.2475 - val_auc: 0.9643 - val_Accuracy: 0.8890\n",
            "Epoch 140/200\n",
            "752/752 [==============================] - 3s 4ms/step - loss: 0.2437 - auc: 0.9628 - Accuracy: 0.8888 - val_loss: 0.2362 - val_auc: 0.9662 - val_Accuracy: 0.8942\n",
            "Epoch 141/200\n",
            "752/752 [==============================] - 3s 4ms/step - loss: 0.2442 - auc: 0.9628 - Accuracy: 0.8892 - val_loss: 0.2382 - val_auc: 0.9647 - val_Accuracy: 0.8929\n",
            "Epoch 142/200\n",
            "752/752 [==============================] - 3s 4ms/step - loss: 0.2430 - auc: 0.9631 - Accuracy: 0.8898 - val_loss: 0.2380 - val_auc: 0.9646 - val_Accuracy: 0.8920\n",
            "Epoch 143/200\n",
            "752/752 [==============================] - 3s 4ms/step - loss: 0.2426 - auc: 0.9633 - Accuracy: 0.8890 - val_loss: 0.2330 - val_auc: 0.9662 - val_Accuracy: 0.8946\n",
            "Epoch 144/200\n",
            "752/752 [==============================] - 5s 7ms/step - loss: 0.2426 - auc: 0.9632 - Accuracy: 0.8897 - val_loss: 0.2455 - val_auc: 0.9638 - val_Accuracy: 0.8861\n",
            "Epoch 145/200\n",
            "752/752 [==============================] - 3s 4ms/step - loss: 0.2421 - auc: 0.9634 - Accuracy: 0.8891 - val_loss: 0.2283 - val_auc: 0.9674 - val_Accuracy: 0.8967\n",
            "Epoch 146/200\n",
            "752/752 [==============================] - 3s 4ms/step - loss: 0.2412 - auc: 0.9637 - Accuracy: 0.8891 - val_loss: 0.2818 - val_auc: 0.9585 - val_Accuracy: 0.8727\n",
            "Epoch 147/200\n",
            "752/752 [==============================] - 3s 4ms/step - loss: 0.2428 - auc: 0.9632 - Accuracy: 0.8886 - val_loss: 0.2338 - val_auc: 0.9658 - val_Accuracy: 0.8947\n",
            "Epoch 148/200\n",
            "752/752 [==============================] - 5s 6ms/step - loss: 0.2422 - auc: 0.9634 - Accuracy: 0.8896 - val_loss: 0.2409 - val_auc: 0.9658 - val_Accuracy: 0.8898\n",
            "Epoch 149/200\n",
            "752/752 [==============================] - 4s 5ms/step - loss: 0.2407 - auc: 0.9637 - Accuracy: 0.8906 - val_loss: 0.2459 - val_auc: 0.9626 - val_Accuracy: 0.8890\n",
            "Epoch 150/200\n",
            "752/752 [==============================] - 3s 4ms/step - loss: 0.2418 - auc: 0.9635 - Accuracy: 0.8895 - val_loss: 0.2379 - val_auc: 0.9648 - val_Accuracy: 0.8939\n",
            "Epoch 151/200\n",
            "752/752 [==============================] - 3s 4ms/step - loss: 0.2407 - auc: 0.9637 - Accuracy: 0.8897 - val_loss: 0.2334 - val_auc: 0.9660 - val_Accuracy: 0.8946\n",
            "Epoch 152/200\n",
            "752/752 [==============================] - 3s 4ms/step - loss: 0.2416 - auc: 0.9635 - Accuracy: 0.8896 - val_loss: 0.2341 - val_auc: 0.9666 - val_Accuracy: 0.8959\n",
            "Epoch 153/200\n",
            "752/752 [==============================] - 4s 5ms/step - loss: 0.2406 - auc: 0.9639 - Accuracy: 0.8911 - val_loss: 0.2364 - val_auc: 0.9650 - val_Accuracy: 0.8916\n",
            "Epoch 154/200\n",
            "752/752 [==============================] - 4s 5ms/step - loss: 0.2406 - auc: 0.9639 - Accuracy: 0.8911 - val_loss: 0.2289 - val_auc: 0.9679 - val_Accuracy: 0.8975\n",
            "Epoch 155/200\n",
            "752/752 [==============================] - 3s 4ms/step - loss: 0.2394 - auc: 0.9642 - Accuracy: 0.8902 - val_loss: 0.2884 - val_auc: 0.9550 - val_Accuracy: 0.8773\n",
            "Epoch 156/200\n",
            "752/752 [==============================] - 3s 4ms/step - loss: 0.2395 - auc: 0.9643 - Accuracy: 0.8922 - val_loss: 0.2451 - val_auc: 0.9651 - val_Accuracy: 0.8934\n",
            "Epoch 157/200\n",
            "752/752 [==============================] - 3s 4ms/step - loss: 0.2395 - auc: 0.9643 - Accuracy: 0.8921 - val_loss: 0.2364 - val_auc: 0.9666 - val_Accuracy: 0.8918\n",
            "Epoch 158/200\n",
            "752/752 [==============================] - 5s 6ms/step - loss: 0.2385 - auc: 0.9646 - Accuracy: 0.8913 - val_loss: 0.2654 - val_auc: 0.9598 - val_Accuracy: 0.8852\n",
            "Epoch 159/200\n",
            "752/752 [==============================] - 3s 4ms/step - loss: 0.2388 - auc: 0.9644 - Accuracy: 0.8913 - val_loss: 0.2312 - val_auc: 0.9666 - val_Accuracy: 0.8952\n",
            "Epoch 160/200\n",
            "752/752 [==============================] - 3s 4ms/step - loss: 0.2386 - auc: 0.9644 - Accuracy: 0.8913 - val_loss: 0.2582 - val_auc: 0.9619 - val_Accuracy: 0.8907\n",
            "Epoch 161/200\n",
            "752/752 [==============================] - 3s 4ms/step - loss: 0.2373 - auc: 0.9648 - Accuracy: 0.8913 - val_loss: 0.2573 - val_auc: 0.9661 - val_Accuracy: 0.8809\n",
            "Epoch 162/200\n",
            "752/752 [==============================] - 3s 4ms/step - loss: 0.2374 - auc: 0.9648 - Accuracy: 0.8926 - val_loss: 0.2385 - val_auc: 0.9649 - val_Accuracy: 0.8907\n",
            "Epoch 163/200\n",
            "752/752 [==============================] - 5s 6ms/step - loss: 0.2376 - auc: 0.9648 - Accuracy: 0.8917 - val_loss: 0.2371 - val_auc: 0.9661 - val_Accuracy: 0.8919\n",
            "Epoch 164/200\n",
            "752/752 [==============================] - 3s 5ms/step - loss: 0.2377 - auc: 0.9648 - Accuracy: 0.8908 - val_loss: 0.2302 - val_auc: 0.9670 - val_Accuracy: 0.8947\n",
            "Epoch 165/200\n",
            "752/752 [==============================] - 3s 4ms/step - loss: 0.2361 - auc: 0.9652 - Accuracy: 0.8929 - val_loss: 0.2267 - val_auc: 0.9679 - val_Accuracy: 0.8973\n",
            "Epoch 166/200\n",
            "752/752 [==============================] - 3s 4ms/step - loss: 0.2366 - auc: 0.9651 - Accuracy: 0.8926 - val_loss: 0.2242 - val_auc: 0.9688 - val_Accuracy: 0.8998\n",
            "Epoch 167/200\n",
            "752/752 [==============================] - 3s 4ms/step - loss: 0.2366 - auc: 0.9651 - Accuracy: 0.8923 - val_loss: 0.5328 - val_auc: 0.9153 - val_Accuracy: 0.8300\n",
            "Epoch 168/200\n",
            "752/752 [==============================] - 5s 6ms/step - loss: 0.2380 - auc: 0.9649 - Accuracy: 0.8925 - val_loss: 0.2306 - val_auc: 0.9675 - val_Accuracy: 0.8956\n",
            "Epoch 169/200\n",
            "752/752 [==============================] - 3s 4ms/step - loss: 0.2359 - auc: 0.9653 - Accuracy: 0.8932 - val_loss: 0.2486 - val_auc: 0.9631 - val_Accuracy: 0.8886\n",
            "Epoch 170/200\n",
            "752/752 [==============================] - 3s 4ms/step - loss: 0.2366 - auc: 0.9650 - Accuracy: 0.8918 - val_loss: 0.2747 - val_auc: 0.9584 - val_Accuracy: 0.8769\n",
            "Epoch 171/200\n",
            "752/752 [==============================] - 3s 4ms/step - loss: 0.2358 - auc: 0.9654 - Accuracy: 0.8938 - val_loss: 0.2412 - val_auc: 0.9654 - val_Accuracy: 0.8904\n",
            "Epoch 172/200\n",
            "752/752 [==============================] - 4s 6ms/step - loss: 0.2357 - auc: 0.9654 - Accuracy: 0.8931 - val_loss: 0.2373 - val_auc: 0.9658 - val_Accuracy: 0.8926\n",
            "Epoch 173/200\n",
            "752/752 [==============================] - 4s 5ms/step - loss: 0.2357 - auc: 0.9655 - Accuracy: 0.8935 - val_loss: 0.2330 - val_auc: 0.9664 - val_Accuracy: 0.8933\n",
            "Epoch 174/200\n",
            "752/752 [==============================] - 4s 5ms/step - loss: 0.2360 - auc: 0.9652 - Accuracy: 0.8931 - val_loss: 0.2612 - val_auc: 0.9604 - val_Accuracy: 0.8868\n",
            "Epoch 175/200\n",
            "752/752 [==============================] - 4s 5ms/step - loss: 0.2364 - auc: 0.9652 - Accuracy: 0.8924 - val_loss: 0.2577 - val_auc: 0.9650 - val_Accuracy: 0.8840\n",
            "Epoch 176/200\n",
            "752/752 [==============================] - 3s 4ms/step - loss: 0.2339 - auc: 0.9658 - Accuracy: 0.8947 - val_loss: 0.2332 - val_auc: 0.9665 - val_Accuracy: 0.8945\n",
            "Epoch 177/200\n",
            "752/752 [==============================] - 5s 7ms/step - loss: 0.2345 - auc: 0.9657 - Accuracy: 0.8937 - val_loss: 0.2430 - val_auc: 0.9654 - val_Accuracy: 0.8933\n",
            "Epoch 178/200\n",
            "752/752 [==============================] - 3s 4ms/step - loss: 0.2345 - auc: 0.9658 - Accuracy: 0.8934 - val_loss: 0.2364 - val_auc: 0.9668 - val_Accuracy: 0.8906\n",
            "Epoch 179/200\n",
            "752/752 [==============================] - 3s 4ms/step - loss: 0.2342 - auc: 0.9658 - Accuracy: 0.8927 - val_loss: 0.2297 - val_auc: 0.9697 - val_Accuracy: 0.8970\n",
            "Epoch 180/200\n",
            "752/752 [==============================] - 3s 4ms/step - loss: 0.2366 - auc: 0.9654 - Accuracy: 0.8941 - val_loss: 0.2347 - val_auc: 0.9664 - val_Accuracy: 0.8917\n",
            "Epoch 181/200\n",
            "752/752 [==============================] - 3s 4ms/step - loss: 0.2336 - auc: 0.9660 - Accuracy: 0.8935 - val_loss: 0.2238 - val_auc: 0.9694 - val_Accuracy: 0.8985\n",
            "Epoch 182/200\n",
            "752/752 [==============================] - 5s 7ms/step - loss: 0.2330 - auc: 0.9661 - Accuracy: 0.8935 - val_loss: 0.2713 - val_auc: 0.9599 - val_Accuracy: 0.8766\n",
            "Epoch 183/200\n",
            "752/752 [==============================] - 3s 4ms/step - loss: 0.2324 - auc: 0.9663 - Accuracy: 0.8947 - val_loss: 0.2566 - val_auc: 0.9608 - val_Accuracy: 0.8889\n",
            "Epoch 184/200\n",
            "752/752 [==============================] - 3s 4ms/step - loss: 0.2335 - auc: 0.9661 - Accuracy: 0.8939 - val_loss: 0.2840 - val_auc: 0.9599 - val_Accuracy: 0.8833\n",
            "Epoch 185/200\n",
            "752/752 [==============================] - 3s 4ms/step - loss: 0.2342 - auc: 0.9660 - Accuracy: 0.8943 - val_loss: 0.2291 - val_auc: 0.9672 - val_Accuracy: 0.8963\n",
            "Epoch 186/200\n",
            "752/752 [==============================] - 4s 6ms/step - loss: 0.2309 - auc: 0.9667 - Accuracy: 0.8944 - val_loss: 0.2160 - val_auc: 0.9713 - val_Accuracy: 0.9037\n",
            "Epoch 187/200\n",
            "752/752 [==============================] - 5s 7ms/step - loss: 0.2325 - auc: 0.9663 - Accuracy: 0.8945 - val_loss: 0.2317 - val_auc: 0.9676 - val_Accuracy: 0.8958\n",
            "Epoch 188/200\n",
            "752/752 [==============================] - 3s 4ms/step - loss: 0.2336 - auc: 0.9660 - Accuracy: 0.8937 - val_loss: 0.2208 - val_auc: 0.9699 - val_Accuracy: 0.9011\n",
            "Epoch 189/200\n",
            "752/752 [==============================] - 3s 4ms/step - loss: 0.2323 - auc: 0.9664 - Accuracy: 0.8951 - val_loss: 0.3027 - val_auc: 0.9550 - val_Accuracy: 0.8744\n",
            "Epoch 190/200\n",
            "752/752 [==============================] - 3s 4ms/step - loss: 0.2308 - auc: 0.9668 - Accuracy: 0.8961 - val_loss: 0.2549 - val_auc: 0.9620 - val_Accuracy: 0.8822\n",
            "Epoch 191/200\n",
            "752/752 [==============================] - 5s 7ms/step - loss: 0.2318 - auc: 0.9665 - Accuracy: 0.8949 - val_loss: 0.2396 - val_auc: 0.9668 - val_Accuracy: 0.8890\n",
            "Epoch 192/200\n",
            "752/752 [==============================] - 3s 4ms/step - loss: 0.2314 - auc: 0.9667 - Accuracy: 0.8952 - val_loss: 0.2401 - val_auc: 0.9686 - val_Accuracy: 0.8906\n",
            "Epoch 193/200\n",
            "752/752 [==============================] - 3s 4ms/step - loss: 0.2314 - auc: 0.9666 - Accuracy: 0.8943 - val_loss: 0.2685 - val_auc: 0.9618 - val_Accuracy: 0.8853\n",
            "Epoch 194/200\n",
            "752/752 [==============================] - 3s 4ms/step - loss: 0.2326 - auc: 0.9663 - Accuracy: 0.8936 - val_loss: 0.2287 - val_auc: 0.9685 - val_Accuracy: 0.8957\n",
            "Epoch 195/200\n",
            "752/752 [==============================] - 3s 4ms/step - loss: 0.2299 - auc: 0.9671 - Accuracy: 0.8967 - val_loss: 0.2687 - val_auc: 0.9657 - val_Accuracy: 0.8936\n",
            "Epoch 196/200\n",
            "752/752 [==============================] - 4s 5ms/step - loss: 0.2320 - auc: 0.9667 - Accuracy: 0.8960 - val_loss: 0.2218 - val_auc: 0.9693 - val_Accuracy: 0.8991\n",
            "Epoch 197/200\n",
            "752/752 [==============================] - 3s 5ms/step - loss: 0.2315 - auc: 0.9666 - Accuracy: 0.8951 - val_loss: 0.2424 - val_auc: 0.9657 - val_Accuracy: 0.8906\n",
            "Epoch 198/200\n",
            "752/752 [==============================] - 3s 4ms/step - loss: 0.2305 - auc: 0.9670 - Accuracy: 0.8960 - val_loss: 0.3218 - val_auc: 0.9532 - val_Accuracy: 0.8661\n",
            "Epoch 199/200\n",
            "752/752 [==============================] - 3s 4ms/step - loss: 0.2350 - auc: 0.9659 - Accuracy: 0.8949 - val_loss: 0.2206 - val_auc: 0.9701 - val_Accuracy: 0.9018\n",
            "Epoch 200/200\n",
            "752/752 [==============================] - 3s 4ms/step - loss: 0.2295 - auc: 0.9672 - Accuracy: 0.8965 - val_loss: 0.2235 - val_auc: 0.9688 - val_Accuracy: 0.8994\n"
          ]
        }
      ]
    },
    {
      "cell_type": "code",
      "source": [
        "best_dense_model.add(RoundingActivationLayer())\n",
        "\n",
        "y_predic_best_dense_model = best_dense_model.predict(x_test_norm)\n",
        "\n",
        "metricas(y_predic_best_dense_model, Y_entrenamiento)"
      ],
      "metadata": {
        "id": "OOmSyjan4BPF",
        "colab": {
          "base_uri": "https://localhost:8080/",
          "height": 623
        },
        "outputId": "a011a8ed-d5c7-49e4-f77d-b1be0c647c63"
      },
      "execution_count": 105,
      "outputs": [
        {
          "output_type": "stream",
          "name": "stdout",
          "text": [
            "1503/1503 [==============================] - 3s 2ms/step\n",
            "              precision    recall  f1-score   support\n",
            "\n",
            "           0       0.90      0.89      0.90     23629\n",
            "           1       0.89      0.91      0.90     24442\n",
            "\n",
            "    accuracy                           0.90     48071\n",
            "   macro avg       0.90      0.90      0.90     48071\n",
            "weighted avg       0.90      0.90      0.90     48071\n",
            "\n"
          ]
        },
        {
          "output_type": "display_data",
          "data": {
            "text/plain": [
              "<Figure size 640x480 with 2 Axes>"
            ],
            "image/png": "[encoded data removed]"
          },
          "metadata": {}
        }
      ]
    },
    {
      "cell_type": "code",
      "source": [
        "f1 = f1_score(Y_entrenamiento, y_predic_best_dense_model)\n",
        "\n",
        "precision = precision_score(Y_entrenamiento, y_predic_best_dense_model)\n",
        "\n",
        "recall = recall_score(Y_entrenamiento, y_predic_best_dense_model)\n",
        "\n",
        "accuracy = accuracy_score(Y_entrenamiento, y_predic_best_dense_model)\n",
        "\n",
        "print(\"Métrica F1:\", f1)\n",
        "print(\"Precisión:\", precision)\n",
        "print(\"Recall:\", recall)\n",
        "print(\"Exactitud (Accuracy):\", accuracy)"
      ],
      "metadata": {
        "colab": {
          "base_uri": "https://localhost:8080/"
        },
        "id": "5DD2ftM07cdn",
        "outputId": "187dec1a-e01b-4af5-9892-952bfeb9d4bc"
      },
      "execution_count": 106,
      "outputs": [
        {
          "output_type": "stream",
          "name": "stdout",
          "text": [
            "Métrica F1: 0.9018772196854389\n",
            "Precisión: 0.8947771111021624\n",
            "Recall: 0.9090909090909091\n",
            "Exactitud (Accuracy): 0.8994196084957666\n"
          ]
        }
      ]
    },
    {
      "cell_type": "markdown",
      "source": [
        "### Kaggle"
      ],
      "metadata": {
        "id": "_2Ey64mU4ObT"
      }
    },
    {
      "cell_type": "code",
      "source": [
        "from sklearn.preprocessing import StandardScaler\n",
        "\n",
        "# Create a StandardScaler instance\n",
        "sscaler = StandardScaler()\n",
        "\n",
        "ds_test_procesado = ds_testing_sinId.copy()\n",
        "\n",
        "# Select only the numeric columns for scaling\n",
        "numeric_columns = ds_testing_sinId.select_dtypes(include=['number'])\n",
        "\n",
        "# Fit the StandardScaler to the numeric data\n",
        "sscaler.fit(numeric_columns)\n",
        "\n",
        "# Transform the numeric columns\n",
        "ds_test_transformed = sscaler.transform(numeric_columns)\n",
        "\n",
        "# Replace the original numeric columns with the scaled values\n",
        "ds_test_procesado[numeric_columns.columns] = ds_test_transformed"
      ],
      "metadata": {
        "id": "l7PXvlqV4NSR"
      },
      "execution_count": 107,
      "outputs": []
    },
    {
      "cell_type": "code",
      "source": [
        "ds_test_procesado = ds_test_procesado.reindex(columns= x_train.columns, fill_value=0)"
      ],
      "metadata": {
        "id": "vQnlgDjy4SBW"
      },
      "execution_count": 108,
      "outputs": []
    },
    {
      "cell_type": "code",
      "source": [
        "y_predic_test = best_dense_model.predict(ds_test_procesado)\n",
        "y_test_prediccion = np.where(y_predic_test > 0.481435, 1, 0)"
      ],
      "metadata": {
        "id": "3ZplF4z4LRIM",
        "colab": {
          "base_uri": "https://localhost:8080/"
        },
        "outputId": "c56713c3-2523-4dbb-eb6b-0bd9895cc10c"
      },
      "execution_count": 109,
      "outputs": [
        {
          "output_type": "stream",
          "name": "stdout",
          "text": [
            "830/830 [==============================] - 2s 2ms/step\n"
          ]
        }
      ]
    },
    {
      "cell_type": "code",
      "source": [
        "arreglo_unidimensional = [elemento for sublista in y_test_prediccion for elemento in sublista]"
      ],
      "metadata": {
        "id": "e5kvpfxxLZlR"
      },
      "execution_count": 110,
      "outputs": []
    },
    {
      "cell_type": "code",
      "source": [
        "df_submission = pd.DataFrame(\n",
        "    {\"id\": ds_hotels_test[\"id\"], \"is_canceled\": arreglo_unidimensional}\n",
        ")"
      ],
      "metadata": {
        "id": "PLclFv5CLcLp"
      },
      "execution_count": 111,
      "outputs": []
    },
    {
      "cell_type": "code",
      "source": [
        "nombre_archivo = \"./modelos/rn_4.pickle\"\n",
        "pickle.dump(best_dense_model, open(nombre_archivo, \"wb\"))"
      ],
      "metadata": {
        "id": "m81LOAle-OOu"
      },
      "execution_count": 112,
      "outputs": []
    },
    {
      "cell_type": "code",
      "source": [
        "nombre_submit = \"rn4.csv\"\n",
        "df_submission.to_csv(nombre_submit, index=False)"
      ],
      "metadata": {
        "id": "BBN6H8n_Le67"
      },
      "execution_count": 113,
      "outputs": []
    }
  ],
  "metadata": {
    "colab": {
      "provenance": []
    },
    "kernelspec": {
      "display_name": "Python 3",
      "name": "python3"
    },
    "language_info": {
      "name": "python"
    }
  },
  "nbformat": 4,
  "nbformat_minor": 0
}