{
  "cells": [
    {
      "cell_type": "markdown",
      "metadata": {
        "colab_type": "text",
        "id": "view-in-github"
      },
      "source": [
        "<a href=\"https://colab.research.google.com/github/tomasvainstein/7506R-2C2023-GRUPO05/blob/main/TP1/CHP3/7506R_TP1_GRUPO05_CHP3_ENTREGA.ipynb\" target=\"_parent\"><img src=\"https://colab.research.google.com/assets/colab-badge.svg\" alt=\"Open In Colab\"/></a>"
      ]
    },
    {
      "cell_type": "markdown",
      "metadata": {
        "id": "IcjsY5GFaxvG"
      },
      "source": [
        "# Trabajo Práctico 1: Reservas de Hotel - CHP3\n",
        "## Grupo 05 - Medialunas 🥐\n",
        "\n",
        "### Integrantes:\n",
        "| Integrante                              | Número de Padrón |\n",
        "|----------------------------------------|------------------|\n",
        "| Iara Elizabeth Jolodovsky      | 109385           |\n",
        "| Tomas Vainstein Aranguren      | 109043           |\n",
        "| Martin Abramovich              | 108762           |"
      ]
    },
    {
      "cell_type": "markdown",
      "metadata": {
        "id": "bSr4YmRnZVrv"
      },
      "source": [
        "## Librerias"
      ]
    },
    {
      "cell_type": "code",
      "execution_count": 1,
      "metadata": {
        "colab": {
          "base_uri": "https://localhost:8080/"
        },
        "id": "lj8PxsmhZYfK",
        "outputId": "d2358bc4-4ead-4b09-c7a4-8374ef794629"
      },
      "outputs": [
        {
          "name": "stdout",
          "output_type": "stream",
          "text": [
            "Defaulting to user installation because normal site-packages is not writeable\n",
            "Requirement already satisfied: dtreeviz in /home/iara/.local/lib/python3.11/site-packages (2.2.2)\n",
            "Requirement already satisfied: graphviz>=0.9 in /home/iara/.local/lib/python3.11/site-packages (from dtreeviz) (0.20.1)\n",
            "Requirement already satisfied: pandas in /usr/lib64/python3.11/site-packages (from dtreeviz) (1.5.3)\n",
            "Requirement already satisfied: numpy in /usr/lib64/python3.11/site-packages (from dtreeviz) (1.24.4)\n",
            "Requirement already satisfied: scikit-learn in /usr/lib64/python3.11/site-packages (from dtreeviz) (1.1.2)\n",
            "Requirement already satisfied: matplotlib in /usr/lib64/python3.11/site-packages (from dtreeviz) (3.7.3)\n",
            "Requirement already satisfied: colour in /home/iara/.local/lib/python3.11/site-packages (from dtreeviz) (0.1.5)\n",
            "Requirement already satisfied: pytest in /home/iara/.local/lib/python3.11/site-packages (from dtreeviz) (7.4.2)\n",
            "Requirement already satisfied: contourpy>=1.0.1 in /usr/lib64/python3.11/site-packages (from matplotlib->dtreeviz) (1.0.7)\n",
            "Requirement already satisfied: cycler>=0.10 in /usr/lib/python3.11/site-packages (from matplotlib->dtreeviz) (0.11.0)\n",
            "Requirement already satisfied: fonttools>=4.22.0 in /usr/lib64/python3.11/site-packages (from matplotlib->dtreeviz) (4.39.3)\n",
            "Requirement already satisfied: kiwisolver>=1.0.1 in /usr/lib64/python3.11/site-packages (from matplotlib->dtreeviz) (1.4.5)\n",
            "Requirement already satisfied: packaging>=20.0 in /usr/lib/python3.11/site-packages (from matplotlib->dtreeviz) (23.0)\n",
            "Requirement already satisfied: pillow>=6.2.0 in /usr/lib64/python3.11/site-packages (from matplotlib->dtreeviz) (9.4.0)\n",
            "Requirement already satisfied: pyparsing>=2.3.1 in /usr/lib/python3.11/site-packages (from matplotlib->dtreeviz) (3.0.9)\n",
            "Requirement already satisfied: python-dateutil>=2.7 in /usr/lib/python3.11/site-packages (from matplotlib->dtreeviz) (2.8.2)\n",
            "Requirement already satisfied: pytz>=2020.1 in /usr/lib/python3.11/site-packages (from pandas->dtreeviz) (2023.3.post1)\n",
            "Requirement already satisfied: iniconfig in /home/iara/.local/lib/python3.11/site-packages (from pytest->dtreeviz) (2.0.0)\n",
            "Requirement already satisfied: pluggy<2.0,>=0.12 in /home/iara/.local/lib/python3.11/site-packages (from pytest->dtreeviz) (1.3.0)\n",
            "Requirement already satisfied: scipy>=1.3.2 in /usr/lib64/python3.11/site-packages (from scikit-learn->dtreeviz) (1.10.1)\n",
            "Requirement already satisfied: joblib>=1.0.0 in /usr/lib/python3.11/site-packages (from scikit-learn->dtreeviz) (1.2.0)\n",
            "Requirement already satisfied: threadpoolctl>=2.0.0 in /usr/lib/python3.11/site-packages (from scikit-learn->dtreeviz) (3.1.0)\n",
            "Requirement already satisfied: cloudpickle>=1.6 in /usr/lib/python3.11/site-packages (from joblib>=1.0.0->scikit-learn->dtreeviz) (2.2.1)\n",
            "Requirement already satisfied: six>=1.5 in /usr/lib/python3.11/site-packages (from python-dateutil>=2.7->matplotlib->dtreeviz) (1.16.0)\n",
            "Note: you may need to restart the kernel to use updated packages.\n"
          ]
        }
      ],
      "source": [
        "%pip install 'dtreeviz'"
      ]
    },
    {
      "cell_type": "code",
      "execution_count": 2,
      "metadata": {
        "colab": {
          "base_uri": "https://localhost:8080/"
        },
        "id": "jY93Vy4LZixh",
        "outputId": "02779ec8-dd78-474b-df34-abd206bc9b83"
      },
      "outputs": [],
      "source": [
        "import pandas as pd\n",
        "import pickle\n",
        "import numpy as np\n",
        "import calendar\n",
        "import sklearn as sk\n",
        "import scipy.stats as st\n",
        "from scipy import stats\n",
        "from scipy import linalg\n",
        "from sklearn.experimental import enable_iterative_imputer\n",
        "from sklearn.impute import IterativeImputer\n",
        "from sklearn.preprocessing import OrdinalEncoder\n",
        "from sklearn.preprocessing import OneHotEncoder, StandardScaler\n",
        "from sklearn.compose import ColumnTransformer\n",
        "from sklearn.linear_model import LinearRegression\n",
        "from sklearn.linear_model import LogisticRegression\n",
        "\n",
        "#Visualización\n",
        "import matplotlib.pyplot as plt\n",
        "import seaborn as sns\n",
        "import dtreeviz\n",
        "\n",
        "#modelos y métricas\n",
        "from sklearn import tree\n",
        "from sklearn.pipeline import Pipeline\n",
        "from sklearn.tree import DecisionTreeClassifier, plot_tree\n",
        "from sklearn.model_selection import train_test_split, StratifiedKFold, cross_val_score\n",
        "from sklearn.metrics import precision_score, recall_score, accuracy_score,f1_score, precision_recall_curve, roc_curve, make_scorer\n",
        "from sklearn.metrics import confusion_matrix, classification_report\n",
        "from sklearn.metrics import roc_auc_score\n",
        "from sklearn.neighbors import KNeighborsClassifier\n",
        "from sklearn.svm import SVC\n",
        "from sklearn.svm import LinearSVC\n",
        "\n",
        "##arboles\n",
        "from sklearn.ensemble import RandomForestClassifier\n",
        "from sklearn.model_selection import RandomizedSearchCV, StratifiedKFold, GridSearchCV\n",
        "\n",
        "#preprocesamiento\n",
        "from sklearn.preprocessing import MinMaxScaler\n",
        "from sklearn.preprocessing import StandardScaler\n",
        "from sklearn import preprocessing\n",
        "\n",
        "#configuración warnings\n",
        "import warnings\n",
        "warnings.simplefilter(action='ignore', category=FutureWarning)\n",
        "warnings.simplefilter(action='ignore', category=UserWarning)\n",
        "warnings.filterwarnings('always')"
      ]
    },
    {
      "cell_type": "markdown",
      "metadata": {
        "id": "ynZjN65TJ-tX"
      },
      "source": [
        "## Funciones"
      ]
    },
    {
      "cell_type": "code",
      "execution_count": 3,
      "metadata": {
        "colab": {
          "base_uri": "https://localhost:8080/"
        },
        "id": "p3i9p5w6KAI6",
        "outputId": "f3802ee1-d0e2-41b2-ee3a-d299d9bf4d46"
      },
      "outputs": [],
      "source": [
        "def metricas(y_pred,y_test):\n",
        "\n",
        "  print(classification_report(y_test,y_pred))\n",
        "\n",
        "  cm = confusion_matrix(y_test,y_pred)\n",
        "  sns.heatmap(cm, cmap='Blues',annot=True,fmt='g')\n",
        "  plt.xlabel('Predicted')\n",
        "  plt.ylabel('True')"
      ]
    },
    {
      "cell_type": "markdown",
      "metadata": {
        "id": "oGcKpo4zZoB3"
      },
      "source": [
        "**Cargamos el dataset de hotels train ya procesado en el CHP1 y el dataset hotels_test el cual debemos preprocesar igual que el train**"
      ]
    },
    {
      "cell_type": "code",
      "execution_count": 4,
      "metadata": {
        "colab": {
          "base_uri": "https://localhost:8080/"
        },
        "id": "uNg3JtTwZzMb",
        "outputId": "45380285-bfc6-4459-c30d-e82983fb2da5"
      },
      "outputs": [],
      "source": [
        "ds_hotels_train = pd.read_csv('./df_final_chp1.csv')\n",
        "ds_training = ds_hotels_train.copy(deep=True)\n",
        "ds_training['arrival_date'] = pd.to_datetime(ds_training['arrival_date'])"
      ]
    },
    {
      "cell_type": "code",
      "execution_count": 5,
      "metadata": {
        "colab": {
          "base_uri": "https://localhost:8080/"
        },
        "id": "Blw4G-ILazu4",
        "outputId": "aa6672ca-20f2-4bc1-9822-205900705830"
      },
      "outputs": [
        {
          "data": {
            "text/plain": [
              "(26535, 31)"
            ]
          },
          "execution_count": 5,
          "metadata": {},
          "output_type": "execute_result"
        }
      ],
      "source": [
        "ds_hotels_test = pd.read_csv('./hotels_test.csv')\n",
        "ds_testing_conId = ds_hotels_test.copy(deep=True)\n",
        "ds_testing_conId.shape"
      ]
    },
    {
      "cell_type": "markdown",
      "metadata": {
        "id": "UMplNq4pfJfW"
      },
      "source": [
        "Concatenamos arrival_date_year, arrival_date_month y arrival_date_day_of_month y unificamos en una variable arrival_date"
      ]
    },
    {
      "cell_type": "code",
      "execution_count": 6,
      "metadata": {
        "colab": {
          "base_uri": "https://localhost:8080/"
        },
        "id": "ErTuAnKLfPcN",
        "outputId": "96126bcc-5a5b-4b3b-bf99-eb0a3cea3ba6"
      },
      "outputs": [],
      "source": [
        "ds_testing_conId['arrival_date'] = ds_testing_conId['arrival_date_year'].astype(str) + '-' + ds_testing_conId['arrival_date_month'] + '-' + ds_testing_conId['arrival_date_day_of_month'].astype(str)\n",
        "ds_testing_conId.drop(columns=['arrival_date_year', 'arrival_date_month', 'arrival_date_day_of_month'], inplace=True)\n",
        "ds_testing_conId['arrival_date'] = pd.to_datetime(ds_testing_conId['arrival_date'])"
      ]
    },
    {
      "cell_type": "markdown",
      "metadata": {
        "id": "T_O24J7TdCvD"
      },
      "source": [
        "Y pasamos child de float a int"
      ]
    },
    {
      "cell_type": "code",
      "execution_count": 7,
      "metadata": {
        "colab": {
          "base_uri": "https://localhost:8080/"
        },
        "id": "0r7y1ANudE5Q",
        "outputId": "5e9181e6-c600-4756-dfde-ffdf463ce202"
      },
      "outputs": [],
      "source": [
        "ds_testing_conId['children'] = ds_testing_conId['children'].astype(int)"
      ]
    },
    {
      "cell_type": "markdown",
      "metadata": {
        "id": "5Xn6W6kqdttf"
      },
      "source": [
        "Juntamos children y babies"
      ]
    },
    {
      "cell_type": "code",
      "execution_count": 8,
      "metadata": {
        "colab": {
          "base_uri": "https://localhost:8080/"
        },
        "id": "D8XrZP4TdvpU",
        "outputId": "05ba0ccb-12b2-45b9-89c7-2392524630ac"
      },
      "outputs": [],
      "source": [
        "ds_testing_conId['minors'] = ds_testing_conId['children'] + ds_testing_conId['babies']\n",
        "\n",
        "ds_testing_conId = ds_testing_conId.drop(columns=['children', 'babies'])"
      ]
    },
    {
      "cell_type": "code",
      "execution_count": 9,
      "metadata": {
        "colab": {
          "base_uri": "https://localhost:8080/",
          "height": 706
        },
        "id": "CT0As3VthFu5",
        "outputId": "2e1f4a6b-f9e4-4992-8317-e56535249016"
      },
      "outputs": [
        {
          "data": {
            "text/html": [
              "<div>\n",
              "<style scoped>\n",
              "    .dataframe tbody tr th:only-of-type {\n",
              "        vertical-align: middle;\n",
              "    }\n",
              "\n",
              "    .dataframe tbody tr th {\n",
              "        vertical-align: top;\n",
              "    }\n",
              "\n",
              "    .dataframe thead th {\n",
              "        text-align: right;\n",
              "    }\n",
              "</style>\n",
              "<table border=\"1\" class=\"dataframe\">\n",
              "  <thead>\n",
              "    <tr style=\"text-align: right;\">\n",
              "      <th></th>\n",
              "      <th>hotel</th>\n",
              "      <th>lead_time</th>\n",
              "      <th>arrival_date_week_number</th>\n",
              "      <th>stays_in_weekend_nights</th>\n",
              "      <th>stays_in_week_nights</th>\n",
              "      <th>adults</th>\n",
              "      <th>meal</th>\n",
              "      <th>country</th>\n",
              "      <th>market_segment</th>\n",
              "      <th>distribution_channel</th>\n",
              "      <th>...</th>\n",
              "      <th>company</th>\n",
              "      <th>days_in_waiting_list</th>\n",
              "      <th>customer_type</th>\n",
              "      <th>adr</th>\n",
              "      <th>required_car_parking_spaces</th>\n",
              "      <th>total_of_special_requests</th>\n",
              "      <th>reservation_status_date</th>\n",
              "      <th>id</th>\n",
              "      <th>arrival_date</th>\n",
              "      <th>minors</th>\n",
              "    </tr>\n",
              "  </thead>\n",
              "  <tbody>\n",
              "    <tr>\n",
              "      <th>0</th>\n",
              "      <td>City Hotel</td>\n",
              "      <td>277</td>\n",
              "      <td>46</td>\n",
              "      <td>1</td>\n",
              "      <td>2</td>\n",
              "      <td>2</td>\n",
              "      <td>BB</td>\n",
              "      <td>PRT</td>\n",
              "      <td>Groups</td>\n",
              "      <td>TA/TO</td>\n",
              "      <td>...</td>\n",
              "      <td>NaN</td>\n",
              "      <td>0</td>\n",
              "      <td>Transient</td>\n",
              "      <td>100.0</td>\n",
              "      <td>0</td>\n",
              "      <td>0</td>\n",
              "      <td>2016-04-04</td>\n",
              "      <td>e6d0d58a-ab96-44d3-b28f-85df1cc15f1e</td>\n",
              "      <td>2016-11-07</td>\n",
              "      <td>0</td>\n",
              "    </tr>\n",
              "    <tr>\n",
              "      <th>1</th>\n",
              "      <td>City Hotel</td>\n",
              "      <td>286</td>\n",
              "      <td>20</td>\n",
              "      <td>0</td>\n",
              "      <td>4</td>\n",
              "      <td>2</td>\n",
              "      <td>BB</td>\n",
              "      <td>PRT</td>\n",
              "      <td>Groups</td>\n",
              "      <td>TA/TO</td>\n",
              "      <td>...</td>\n",
              "      <td>NaN</td>\n",
              "      <td>176</td>\n",
              "      <td>Transient-Party</td>\n",
              "      <td>101.0</td>\n",
              "      <td>0</td>\n",
              "      <td>0</td>\n",
              "      <td>2016-01-22</td>\n",
              "      <td>aba9aac2-4495-4645-a60e-90328713c999</td>\n",
              "      <td>2016-05-11</td>\n",
              "      <td>0</td>\n",
              "    </tr>\n",
              "    <tr>\n",
              "      <th>2</th>\n",
              "      <td>City Hotel</td>\n",
              "      <td>0</td>\n",
              "      <td>35</td>\n",
              "      <td>0</td>\n",
              "      <td>1</td>\n",
              "      <td>3</td>\n",
              "      <td>BB</td>\n",
              "      <td>FRA</td>\n",
              "      <td>Online TA</td>\n",
              "      <td>TA/TO</td>\n",
              "      <td>...</td>\n",
              "      <td>NaN</td>\n",
              "      <td>0</td>\n",
              "      <td>Transient</td>\n",
              "      <td>225.0</td>\n",
              "      <td>0</td>\n",
              "      <td>2</td>\n",
              "      <td>2016-08-24</td>\n",
              "      <td>b345b5dc-c804-4d77-a39f-1f4e65d1f1ad</td>\n",
              "      <td>2016-08-23</td>\n",
              "      <td>0</td>\n",
              "    </tr>\n",
              "    <tr>\n",
              "      <th>3</th>\n",
              "      <td>Resort Hotel</td>\n",
              "      <td>196</td>\n",
              "      <td>44</td>\n",
              "      <td>2</td>\n",
              "      <td>5</td>\n",
              "      <td>2</td>\n",
              "      <td>BB</td>\n",
              "      <td>DEU</td>\n",
              "      <td>Online TA</td>\n",
              "      <td>TA/TO</td>\n",
              "      <td>...</td>\n",
              "      <td>NaN</td>\n",
              "      <td>0</td>\n",
              "      <td>Transient</td>\n",
              "      <td>96.0</td>\n",
              "      <td>0</td>\n",
              "      <td>0</td>\n",
              "      <td>2016-11-05</td>\n",
              "      <td>ce1b400e-afa1-4946-bdff-004b859eb61c</td>\n",
              "      <td>2016-10-29</td>\n",
              "      <td>2</td>\n",
              "    </tr>\n",
              "    <tr>\n",
              "      <th>4</th>\n",
              "      <td>Resort Hotel</td>\n",
              "      <td>232</td>\n",
              "      <td>48</td>\n",
              "      <td>2</td>\n",
              "      <td>1</td>\n",
              "      <td>2</td>\n",
              "      <td>BB</td>\n",
              "      <td>PRT</td>\n",
              "      <td>Groups</td>\n",
              "      <td>TA/TO</td>\n",
              "      <td>...</td>\n",
              "      <td>NaN</td>\n",
              "      <td>0</td>\n",
              "      <td>Transient</td>\n",
              "      <td>30.0</td>\n",
              "      <td>0</td>\n",
              "      <td>0</td>\n",
              "      <td>2016-10-18</td>\n",
              "      <td>c4fbec0d-8e2e-4db2-9d4f-a6ccb9f51214</td>\n",
              "      <td>2016-11-26</td>\n",
              "      <td>0</td>\n",
              "    </tr>\n",
              "  </tbody>\n",
              "</table>\n",
              "<p>5 rows × 28 columns</p>\n",
              "</div>"
            ],
            "text/plain": [
              "          hotel  lead_time  arrival_date_week_number  stays_in_weekend_nights  \\\n",
              "0    City Hotel        277                        46                        1   \n",
              "1    City Hotel        286                        20                        0   \n",
              "2    City Hotel          0                        35                        0   \n",
              "3  Resort Hotel        196                        44                        2   \n",
              "4  Resort Hotel        232                        48                        2   \n",
              "\n",
              "   stays_in_week_nights  adults meal country market_segment  \\\n",
              "0                     2       2   BB     PRT         Groups   \n",
              "1                     4       2   BB     PRT         Groups   \n",
              "2                     1       3   BB     FRA      Online TA   \n",
              "3                     5       2   BB     DEU      Online TA   \n",
              "4                     1       2   BB     PRT         Groups   \n",
              "\n",
              "  distribution_channel  ...  company  days_in_waiting_list    customer_type  \\\n",
              "0                TA/TO  ...      NaN                     0        Transient   \n",
              "1                TA/TO  ...      NaN                   176  Transient-Party   \n",
              "2                TA/TO  ...      NaN                     0        Transient   \n",
              "3                TA/TO  ...      NaN                     0        Transient   \n",
              "4                TA/TO  ...      NaN                     0        Transient   \n",
              "\n",
              "     adr required_car_parking_spaces  total_of_special_requests  \\\n",
              "0  100.0                           0                          0   \n",
              "1  101.0                           0                          0   \n",
              "2  225.0                           0                          2   \n",
              "3   96.0                           0                          0   \n",
              "4   30.0                           0                          0   \n",
              "\n",
              "  reservation_status_date                                    id  arrival_date  \\\n",
              "0              2016-04-04  e6d0d58a-ab96-44d3-b28f-85df1cc15f1e    2016-11-07   \n",
              "1              2016-01-22  aba9aac2-4495-4645-a60e-90328713c999    2016-05-11   \n",
              "2              2016-08-24  b345b5dc-c804-4d77-a39f-1f4e65d1f1ad    2016-08-23   \n",
              "3              2016-11-05  ce1b400e-afa1-4946-bdff-004b859eb61c    2016-10-29   \n",
              "4              2016-10-18  c4fbec0d-8e2e-4db2-9d4f-a6ccb9f51214    2016-11-26   \n",
              "\n",
              "   minors  \n",
              "0       0  \n",
              "1       0  \n",
              "2       0  \n",
              "3       2  \n",
              "4       0  \n",
              "\n",
              "[5 rows x 28 columns]"
            ]
          },
          "execution_count": 9,
          "metadata": {},
          "output_type": "execute_result"
        }
      ],
      "source": [
        "ds_testing_conId.head()"
      ]
    },
    {
      "cell_type": "code",
      "execution_count": 10,
      "metadata": {
        "colab": {
          "base_uri": "https://localhost:8080/"
        },
        "id": "BYli_18lF4s7",
        "outputId": "42abd3fd-946c-43a7-a647-8583fec567dd"
      },
      "outputs": [
        {
          "data": {
            "text/plain": [
              "(26535, 28)"
            ]
          },
          "execution_count": 10,
          "metadata": {},
          "output_type": "execute_result"
        }
      ],
      "source": [
        "ds_testing_conId.shape"
      ]
    },
    {
      "cell_type": "code",
      "execution_count": 11,
      "metadata": {
        "colab": {
          "base_uri": "https://localhost:8080/"
        },
        "id": "0kq0j_bbh49V",
        "outputId": "905ae5a3-cabd-43c6-e9f1-7381ac3f36c6"
      },
      "outputs": [
        {
          "data": {
            "text/plain": [
              "Unnamed: 0                                 int64\n",
              "hotel                                     object\n",
              "lead_time                                  int64\n",
              "arrival_date_week_number                   int64\n",
              "stays_in_weekend_nights                    int64\n",
              "stays_in_week_nights                       int64\n",
              "adults                                     int64\n",
              "meal                                      object\n",
              "country                                   object\n",
              "market_segment                            object\n",
              "distribution_channel                      object\n",
              "is_repeated_guest                          int64\n",
              "previous_cancellations                     int64\n",
              "previous_bookings_not_canceled             int64\n",
              "reserved_room_type                        object\n",
              "assigned_room_type                        object\n",
              "booking_changes                            int64\n",
              "deposit_type                              object\n",
              "agent                                    float64\n",
              "company                                  float64\n",
              "days_in_waiting_list                       int64\n",
              "customer_type                             object\n",
              "adr                                      float64\n",
              "required_car_parking_spaces                int64\n",
              "total_of_special_requests                  int64\n",
              "id                                        object\n",
              "is_canceled                                int64\n",
              "arrival_date                      datetime64[ns]\n",
              "minors                                     int64\n",
              "dtype: object"
            ]
          },
          "execution_count": 11,
          "metadata": {},
          "output_type": "execute_result"
        }
      ],
      "source": [
        "ds_training.dtypes"
      ]
    },
    {
      "cell_type": "markdown",
      "metadata": {
        "id": "5g_9K7nnu-Z0"
      },
      "source": [
        "Eliminamos reservation status date de testing ya que no existe en training"
      ]
    },
    {
      "cell_type": "code",
      "execution_count": 12,
      "metadata": {
        "colab": {
          "base_uri": "https://localhost:8080/"
        },
        "id": "JX-71gjOu-Z0",
        "outputId": "b11ed113-4bb2-4b68-8560-cb0c154049ba"
      },
      "outputs": [],
      "source": [
        "ds_testing_conId= ds_testing_conId.drop(columns=['reservation_status_date'])"
      ]
    },
    {
      "cell_type": "markdown",
      "metadata": {
        "id": "c_Agn3dfhq1D"
      },
      "source": [
        "### One Hot Encoding para variables categóricas"
      ]
    },
    {
      "cell_type": "markdown",
      "metadata": {
        "id": "1bL3HZcPkET6"
      },
      "source": [
        "Los NaN de agent y company tenemos que manejarlos. En este caso decidimos convertirlos a -1"
      ]
    },
    {
      "cell_type": "code",
      "execution_count": 13,
      "metadata": {
        "colab": {
          "base_uri": "https://localhost:8080/"
        },
        "id": "aqxMm_IGkOBM",
        "outputId": "47638d5d-011a-4f3a-9738-b9aae324abe0"
      },
      "outputs": [],
      "source": [
        "ds_training['agent'].fillna(-1, inplace=True)\n",
        "ds_training['company'].fillna(-1, inplace=True)\n",
        "ds_testing_conId['agent'].fillna(-1, inplace=True)\n",
        "ds_testing_conId['company'].fillna(-1, inplace=True)"
      ]
    },
    {
      "cell_type": "code",
      "execution_count": 14,
      "metadata": {
        "colab": {
          "base_uri": "https://localhost:8080/",
          "height": 290
        },
        "id": "2hKelkJRht_t",
        "outputId": "be144f23-87bd-4f0f-d9e9-ff07a6512a08"
      },
      "outputs": [
        {
          "data": {
            "text/html": [
              "<div>\n",
              "<style scoped>\n",
              "    .dataframe tbody tr th:only-of-type {\n",
              "        vertical-align: middle;\n",
              "    }\n",
              "\n",
              "    .dataframe tbody tr th {\n",
              "        vertical-align: top;\n",
              "    }\n",
              "\n",
              "    .dataframe thead th {\n",
              "        text-align: right;\n",
              "    }\n",
              "</style>\n",
              "<table border=\"1\" class=\"dataframe\">\n",
              "  <thead>\n",
              "    <tr style=\"text-align: right;\">\n",
              "      <th></th>\n",
              "      <th>Unnamed: 0</th>\n",
              "      <th>lead_time</th>\n",
              "      <th>arrival_date_week_number</th>\n",
              "      <th>stays_in_weekend_nights</th>\n",
              "      <th>stays_in_week_nights</th>\n",
              "      <th>adults</th>\n",
              "      <th>is_repeated_guest</th>\n",
              "      <th>previous_cancellations</th>\n",
              "      <th>previous_bookings_not_canceled</th>\n",
              "      <th>booking_changes</th>\n",
              "      <th>...</th>\n",
              "      <th>assigned_room_type_G</th>\n",
              "      <th>assigned_room_type_H</th>\n",
              "      <th>assigned_room_type_I</th>\n",
              "      <th>assigned_room_type_K</th>\n",
              "      <th>assigned_room_type_L</th>\n",
              "      <th>deposit_type_Non Refund</th>\n",
              "      <th>deposit_type_Refundable</th>\n",
              "      <th>customer_type_Group</th>\n",
              "      <th>customer_type_Transient</th>\n",
              "      <th>customer_type_Transient-Party</th>\n",
              "    </tr>\n",
              "  </thead>\n",
              "  <tbody>\n",
              "    <tr>\n",
              "      <th>0</th>\n",
              "      <td>0</td>\n",
              "      <td>49</td>\n",
              "      <td>37</td>\n",
              "      <td>1</td>\n",
              "      <td>2</td>\n",
              "      <td>1</td>\n",
              "      <td>0</td>\n",
              "      <td>0</td>\n",
              "      <td>0</td>\n",
              "      <td>0</td>\n",
              "      <td>...</td>\n",
              "      <td>0</td>\n",
              "      <td>0</td>\n",
              "      <td>0</td>\n",
              "      <td>0</td>\n",
              "      <td>0</td>\n",
              "      <td>0</td>\n",
              "      <td>0</td>\n",
              "      <td>0</td>\n",
              "      <td>1</td>\n",
              "      <td>0</td>\n",
              "    </tr>\n",
              "    <tr>\n",
              "      <th>1</th>\n",
              "      <td>1</td>\n",
              "      <td>4</td>\n",
              "      <td>44</td>\n",
              "      <td>0</td>\n",
              "      <td>1</td>\n",
              "      <td>2</td>\n",
              "      <td>0</td>\n",
              "      <td>0</td>\n",
              "      <td>0</td>\n",
              "      <td>0</td>\n",
              "      <td>...</td>\n",
              "      <td>0</td>\n",
              "      <td>0</td>\n",
              "      <td>0</td>\n",
              "      <td>0</td>\n",
              "      <td>0</td>\n",
              "      <td>0</td>\n",
              "      <td>0</td>\n",
              "      <td>0</td>\n",
              "      <td>1</td>\n",
              "      <td>0</td>\n",
              "    </tr>\n",
              "    <tr>\n",
              "      <th>2</th>\n",
              "      <td>2</td>\n",
              "      <td>25</td>\n",
              "      <td>42</td>\n",
              "      <td>0</td>\n",
              "      <td>1</td>\n",
              "      <td>2</td>\n",
              "      <td>0</td>\n",
              "      <td>0</td>\n",
              "      <td>0</td>\n",
              "      <td>0</td>\n",
              "      <td>...</td>\n",
              "      <td>0</td>\n",
              "      <td>0</td>\n",
              "      <td>0</td>\n",
              "      <td>0</td>\n",
              "      <td>0</td>\n",
              "      <td>0</td>\n",
              "      <td>0</td>\n",
              "      <td>0</td>\n",
              "      <td>1</td>\n",
              "      <td>0</td>\n",
              "    </tr>\n",
              "    <tr>\n",
              "      <th>3</th>\n",
              "      <td>3</td>\n",
              "      <td>26</td>\n",
              "      <td>51</td>\n",
              "      <td>2</td>\n",
              "      <td>5</td>\n",
              "      <td>2</td>\n",
              "      <td>0</td>\n",
              "      <td>0</td>\n",
              "      <td>0</td>\n",
              "      <td>0</td>\n",
              "      <td>...</td>\n",
              "      <td>0</td>\n",
              "      <td>0</td>\n",
              "      <td>0</td>\n",
              "      <td>0</td>\n",
              "      <td>0</td>\n",
              "      <td>1</td>\n",
              "      <td>0</td>\n",
              "      <td>0</td>\n",
              "      <td>1</td>\n",
              "      <td>0</td>\n",
              "    </tr>\n",
              "    <tr>\n",
              "      <th>4</th>\n",
              "      <td>4</td>\n",
              "      <td>104</td>\n",
              "      <td>12</td>\n",
              "      <td>2</td>\n",
              "      <td>5</td>\n",
              "      <td>2</td>\n",
              "      <td>0</td>\n",
              "      <td>0</td>\n",
              "      <td>0</td>\n",
              "      <td>0</td>\n",
              "      <td>...</td>\n",
              "      <td>0</td>\n",
              "      <td>0</td>\n",
              "      <td>0</td>\n",
              "      <td>0</td>\n",
              "      <td>0</td>\n",
              "      <td>0</td>\n",
              "      <td>0</td>\n",
              "      <td>0</td>\n",
              "      <td>0</td>\n",
              "      <td>1</td>\n",
              "    </tr>\n",
              "  </tbody>\n",
              "</table>\n",
              "<p>5 rows × 204 columns</p>\n",
              "</div>"
            ],
            "text/plain": [
              "   Unnamed: 0  lead_time  arrival_date_week_number  stays_in_weekend_nights  \\\n",
              "0           0         49                        37                        1   \n",
              "1           1          4                        44                        0   \n",
              "2           2         25                        42                        0   \n",
              "3           3         26                        51                        2   \n",
              "4           4        104                        12                        2   \n",
              "\n",
              "   stays_in_week_nights  adults  is_repeated_guest  previous_cancellations  \\\n",
              "0                     2       1                  0                       0   \n",
              "1                     1       2                  0                       0   \n",
              "2                     1       2                  0                       0   \n",
              "3                     5       2                  0                       0   \n",
              "4                     5       2                  0                       0   \n",
              "\n",
              "   previous_bookings_not_canceled  booking_changes  ...  assigned_room_type_G  \\\n",
              "0                               0                0  ...                     0   \n",
              "1                               0                0  ...                     0   \n",
              "2                               0                0  ...                     0   \n",
              "3                               0                0  ...                     0   \n",
              "4                               0                0  ...                     0   \n",
              "\n",
              "   assigned_room_type_H  assigned_room_type_I  assigned_room_type_K  \\\n",
              "0                     0                     0                     0   \n",
              "1                     0                     0                     0   \n",
              "2                     0                     0                     0   \n",
              "3                     0                     0                     0   \n",
              "4                     0                     0                     0   \n",
              "\n",
              "   assigned_room_type_L  deposit_type_Non Refund deposit_type_Refundable  \\\n",
              "0                     0                        0                       0   \n",
              "1                     0                        0                       0   \n",
              "2                     0                        0                       0   \n",
              "3                     0                        1                       0   \n",
              "4                     0                        0                       0   \n",
              "\n",
              "   customer_type_Group customer_type_Transient  customer_type_Transient-Party  \n",
              "0                    0                       1                              0  \n",
              "1                    0                       1                              0  \n",
              "2                    0                       1                              0  \n",
              "3                    0                       1                              0  \n",
              "4                    0                       0                              1  \n",
              "\n",
              "[5 rows x 204 columns]"
            ]
          },
          "execution_count": 14,
          "metadata": {},
          "output_type": "execute_result"
        }
      ],
      "source": [
        "ds_training = pd.get_dummies(ds_training, columns=[\"hotel\",\"meal\",\"country\", \"market_segment\", \"distribution_channel\", \"reserved_room_type\", \"assigned_room_type\", \"deposit_type\", \"customer_type\"], drop_first=True)\n",
        "ds_training.head()"
      ]
    },
    {
      "cell_type": "code",
      "execution_count": 15,
      "metadata": {
        "colab": {
          "base_uri": "https://localhost:8080/",
          "height": 290
        },
        "id": "QXU6xPPdjnJP",
        "outputId": "9a515f90-61fe-4c16-dd7f-3c7431bfff92"
      },
      "outputs": [
        {
          "data": {
            "text/html": [
              "<div>\n",
              "<style scoped>\n",
              "    .dataframe tbody tr th:only-of-type {\n",
              "        vertical-align: middle;\n",
              "    }\n",
              "\n",
              "    .dataframe tbody tr th {\n",
              "        vertical-align: top;\n",
              "    }\n",
              "\n",
              "    .dataframe thead th {\n",
              "        text-align: right;\n",
              "    }\n",
              "</style>\n",
              "<table border=\"1\" class=\"dataframe\">\n",
              "  <thead>\n",
              "    <tr style=\"text-align: right;\">\n",
              "      <th></th>\n",
              "      <th>lead_time</th>\n",
              "      <th>arrival_date_week_number</th>\n",
              "      <th>stays_in_weekend_nights</th>\n",
              "      <th>stays_in_week_nights</th>\n",
              "      <th>adults</th>\n",
              "      <th>is_repeated_guest</th>\n",
              "      <th>previous_cancellations</th>\n",
              "      <th>previous_bookings_not_canceled</th>\n",
              "      <th>booking_changes</th>\n",
              "      <th>agent</th>\n",
              "      <th>...</th>\n",
              "      <th>assigned_room_type_G</th>\n",
              "      <th>assigned_room_type_H</th>\n",
              "      <th>assigned_room_type_I</th>\n",
              "      <th>assigned_room_type_K</th>\n",
              "      <th>assigned_room_type_P</th>\n",
              "      <th>deposit_type_Non Refund</th>\n",
              "      <th>deposit_type_Refundable</th>\n",
              "      <th>customer_type_Group</th>\n",
              "      <th>customer_type_Transient</th>\n",
              "      <th>customer_type_Transient-Party</th>\n",
              "    </tr>\n",
              "  </thead>\n",
              "  <tbody>\n",
              "    <tr>\n",
              "      <th>0</th>\n",
              "      <td>277</td>\n",
              "      <td>46</td>\n",
              "      <td>1</td>\n",
              "      <td>2</td>\n",
              "      <td>2</td>\n",
              "      <td>0</td>\n",
              "      <td>0</td>\n",
              "      <td>0</td>\n",
              "      <td>0</td>\n",
              "      <td>-1.0</td>\n",
              "      <td>...</td>\n",
              "      <td>0</td>\n",
              "      <td>0</td>\n",
              "      <td>0</td>\n",
              "      <td>0</td>\n",
              "      <td>0</td>\n",
              "      <td>1</td>\n",
              "      <td>0</td>\n",
              "      <td>0</td>\n",
              "      <td>1</td>\n",
              "      <td>0</td>\n",
              "    </tr>\n",
              "    <tr>\n",
              "      <th>1</th>\n",
              "      <td>286</td>\n",
              "      <td>20</td>\n",
              "      <td>0</td>\n",
              "      <td>4</td>\n",
              "      <td>2</td>\n",
              "      <td>0</td>\n",
              "      <td>0</td>\n",
              "      <td>0</td>\n",
              "      <td>0</td>\n",
              "      <td>30.0</td>\n",
              "      <td>...</td>\n",
              "      <td>0</td>\n",
              "      <td>0</td>\n",
              "      <td>0</td>\n",
              "      <td>0</td>\n",
              "      <td>0</td>\n",
              "      <td>0</td>\n",
              "      <td>0</td>\n",
              "      <td>0</td>\n",
              "      <td>0</td>\n",
              "      <td>1</td>\n",
              "    </tr>\n",
              "    <tr>\n",
              "      <th>2</th>\n",
              "      <td>0</td>\n",
              "      <td>35</td>\n",
              "      <td>0</td>\n",
              "      <td>1</td>\n",
              "      <td>3</td>\n",
              "      <td>0</td>\n",
              "      <td>0</td>\n",
              "      <td>0</td>\n",
              "      <td>0</td>\n",
              "      <td>-1.0</td>\n",
              "      <td>...</td>\n",
              "      <td>0</td>\n",
              "      <td>0</td>\n",
              "      <td>0</td>\n",
              "      <td>0</td>\n",
              "      <td>0</td>\n",
              "      <td>0</td>\n",
              "      <td>0</td>\n",
              "      <td>0</td>\n",
              "      <td>1</td>\n",
              "      <td>0</td>\n",
              "    </tr>\n",
              "    <tr>\n",
              "      <th>3</th>\n",
              "      <td>196</td>\n",
              "      <td>44</td>\n",
              "      <td>2</td>\n",
              "      <td>5</td>\n",
              "      <td>2</td>\n",
              "      <td>0</td>\n",
              "      <td>0</td>\n",
              "      <td>0</td>\n",
              "      <td>0</td>\n",
              "      <td>240.0</td>\n",
              "      <td>...</td>\n",
              "      <td>1</td>\n",
              "      <td>0</td>\n",
              "      <td>0</td>\n",
              "      <td>0</td>\n",
              "      <td>0</td>\n",
              "      <td>0</td>\n",
              "      <td>0</td>\n",
              "      <td>0</td>\n",
              "      <td>1</td>\n",
              "      <td>0</td>\n",
              "    </tr>\n",
              "    <tr>\n",
              "      <th>4</th>\n",
              "      <td>232</td>\n",
              "      <td>48</td>\n",
              "      <td>2</td>\n",
              "      <td>1</td>\n",
              "      <td>2</td>\n",
              "      <td>0</td>\n",
              "      <td>0</td>\n",
              "      <td>0</td>\n",
              "      <td>0</td>\n",
              "      <td>11.0</td>\n",
              "      <td>...</td>\n",
              "      <td>0</td>\n",
              "      <td>0</td>\n",
              "      <td>0</td>\n",
              "      <td>0</td>\n",
              "      <td>0</td>\n",
              "      <td>1</td>\n",
              "      <td>0</td>\n",
              "      <td>0</td>\n",
              "      <td>1</td>\n",
              "      <td>0</td>\n",
              "    </tr>\n",
              "  </tbody>\n",
              "</table>\n",
              "<p>5 rows × 190 columns</p>\n",
              "</div>"
            ],
            "text/plain": [
              "   lead_time  arrival_date_week_number  stays_in_weekend_nights  \\\n",
              "0        277                        46                        1   \n",
              "1        286                        20                        0   \n",
              "2          0                        35                        0   \n",
              "3        196                        44                        2   \n",
              "4        232                        48                        2   \n",
              "\n",
              "   stays_in_week_nights  adults  is_repeated_guest  previous_cancellations  \\\n",
              "0                     2       2                  0                       0   \n",
              "1                     4       2                  0                       0   \n",
              "2                     1       3                  0                       0   \n",
              "3                     5       2                  0                       0   \n",
              "4                     1       2                  0                       0   \n",
              "\n",
              "   previous_bookings_not_canceled  booking_changes  agent  ...  \\\n",
              "0                               0                0   -1.0  ...   \n",
              "1                               0                0   30.0  ...   \n",
              "2                               0                0   -1.0  ...   \n",
              "3                               0                0  240.0  ...   \n",
              "4                               0                0   11.0  ...   \n",
              "\n",
              "   assigned_room_type_G  assigned_room_type_H  assigned_room_type_I  \\\n",
              "0                     0                     0                     0   \n",
              "1                     0                     0                     0   \n",
              "2                     0                     0                     0   \n",
              "3                     1                     0                     0   \n",
              "4                     0                     0                     0   \n",
              "\n",
              "   assigned_room_type_K  assigned_room_type_P deposit_type_Non Refund  \\\n",
              "0                     0                     0                       1   \n",
              "1                     0                     0                       0   \n",
              "2                     0                     0                       0   \n",
              "3                     0                     0                       0   \n",
              "4                     0                     0                       1   \n",
              "\n",
              "  deposit_type_Refundable  customer_type_Group  customer_type_Transient  \\\n",
              "0                       0                    0                        1   \n",
              "1                       0                    0                        0   \n",
              "2                       0                    0                        1   \n",
              "3                       0                    0                        1   \n",
              "4                       0                    0                        1   \n",
              "\n",
              "   customer_type_Transient-Party  \n",
              "0                              0  \n",
              "1                              1  \n",
              "2                              0  \n",
              "3                              0  \n",
              "4                              0  \n",
              "\n",
              "[5 rows x 190 columns]"
            ]
          },
          "execution_count": 15,
          "metadata": {},
          "output_type": "execute_result"
        }
      ],
      "source": [
        "ds_testing_conId = pd.get_dummies(ds_testing_conId, columns=[\"hotel\",\"meal\",\"country\", \"market_segment\", \"distribution_channel\", \"reserved_room_type\", \"assigned_room_type\", \"deposit_type\", \"customer_type\"], drop_first=True)\n",
        "ds_testing_conId.head()"
      ]
    },
    {
      "cell_type": "markdown",
      "metadata": {
        "id": "RX5LlpWB8sBP"
      },
      "source": [
        "Necesitamos que la fecha sea un int"
      ]
    },
    {
      "cell_type": "code",
      "execution_count": 16,
      "metadata": {
        "colab": {
          "base_uri": "https://localhost:8080/"
        },
        "id": "zQFJhxij8tst",
        "outputId": "23f58b16-2586-4ccc-b739-59eba1c3b02e"
      },
      "outputs": [],
      "source": [
        "ds_training['arrival_date_unix'] = (ds_training['arrival_date'] - pd.Timestamp('1970-01-01')) // pd.Timedelta(days=1)\n",
        "ds_training = ds_training.drop(columns=['arrival_date'], inplace=False)\n",
        "\n",
        "ds_testing_conId['arrival_date_unix'] = (ds_testing_conId['arrival_date'] - pd.Timestamp('1970-01-01')) // pd.Timedelta(days=1)\n",
        "ds_testing_conId = ds_testing_conId.drop(columns=['arrival_date'], inplace=False)"
      ]
    },
    {
      "cell_type": "code",
      "execution_count": 17,
      "metadata": {
        "colab": {
          "base_uri": "https://localhost:8080/"
        },
        "id": "sPlZO2t47j8s",
        "outputId": "832640e6-9df2-40c2-ed82-420d8161329f"
      },
      "outputs": [],
      "source": [
        "ds_testing_sinId = ds_testing_conId.drop(columns=['id'], inplace=False)"
      ]
    },
    {
      "cell_type": "code",
      "execution_count": 18,
      "metadata": {
        "colab": {
          "base_uri": "https://localhost:8080/"
        },
        "id": "iIVne43VRDGS",
        "outputId": "d405b499-30bf-438c-e5db-b2fba0c7c3fa"
      },
      "outputs": [
        {
          "name": "stdout",
          "output_type": "stream",
          "text": [
            "No hay columnas con valores NaN en ds_training.\n"
          ]
        }
      ],
      "source": [
        "nans_por_columna = ds_training.isna().sum()\n",
        "\n",
        "# Filtrar las columnas con valores NaN\n",
        "columnas_con_nans = nans_por_columna[nans_por_columna > 0]\n",
        "\n",
        "# Imprimir las columnas con NaN y la cantidad de NaN en cada una\n",
        "if not columnas_con_nans.empty:\n",
        "    print(\"Columnas con valores NaN y la cantidad de NaN en cada una:\")\n",
        "    print(columnas_con_nans)\n",
        "else:\n",
        "    print(\"No hay columnas con valores NaN en ds_training.\")"
      ]
    },
    {
      "cell_type": "markdown",
      "metadata": {
        "id": "QpK4a2bfgXEm"
      },
      "source": [
        "Dividimos el ds train para testear nuestros modelos"
      ]
    },
    {
      "cell_type": "code",
      "execution_count": 19,
      "metadata": {
        "colab": {
          "base_uri": "https://localhost:8080/"
        },
        "id": "sL4P6jPLgbux",
        "outputId": "cd0847d2-79d5-420b-c57a-e0e8ca229d42"
      },
      "outputs": [],
      "source": [
        "# Dividir los datos en entrenamiento y prueba\n",
        "ds_entrenamiento, ds_testeo = train_test_split(\n",
        "    ds_training,  # DataFrame original\n",
        "    test_size=0.2,  # Proporción de datos de prueba\n",
        "    random_state=10  # Semilla aleatoria para reproducibilidad\n",
        ")\n",
        "\n",
        "# Definir X e Y para ambos conjuntos\n",
        "X_entrenamiento = ds_entrenamiento.drop(['is_canceled'], axis=1)\n",
        "X_testeo = ds_testeo.drop(['is_canceled'], axis=1)\n",
        "Y_entrenamiento = ds_entrenamiento['is_canceled']\n",
        "Y_testeo = ds_testeo['is_canceled']\n",
        "\n",
        "# Eliminar la columna 'id' en ambos conjuntos\n",
        "X_entrenamiento = X_entrenamiento.drop(columns=['id'])\n",
        "X_testeo = X_testeo.drop(columns=['id'])"
      ]
    },
    {
      "cell_type": "markdown",
      "metadata": {
        "id": "DYF-ovm91LmN"
      },
      "source": [
        "## KNN Busqueda de Hiperparametros (NO VOLVER A EJECUTAR)"
      ]
    },
    {
      "cell_type": "code",
      "execution_count": null,
      "metadata": {
        "colab": {
          "base_uri": "https://localhost:8080/"
        },
        "id": "hmHtWW_rPz1S",
        "outputId": "3ae4e58a-8b1a-49c4-99a3-658f55a91e1a"
      },
      "outputs": [
        {
          "data": {
            "text/plain": [
              "array([0.59422517, 0.5613363 , 0.58694405, 0.58542565, 0.59212417,\n",
              "       0.56487277, 0.59813596, 0.58765158, 0.60602011, 0.58650728])"
            ]
          },
          "execution_count": 138,
          "metadata": {},
          "output_type": "execute_result"
        }
      ],
      "source": [
        "params_grid={ 'n_neighbors':range(1,30),\n",
        "              'weights':['distance','uniform'],\n",
        "              'algorithm':['ball_tree', 'kd_tree', 'brute'],\n",
        "              'metric':['euclidean','manhattan','chebyshev']\n",
        "             }\n",
        "\n",
        "#Clasificador KNN\n",
        "knn=KNeighborsClassifier()\n",
        "\n",
        "#Random Search con 10 Folds y 10 iteraciones\n",
        "rand = RandomizedSearchCV(knn, params_grid, cv=10, scoring='accuracy', n_iter=10, random_state=5)\n",
        "\n",
        "rand.fit(X_entrenamiento, Y_entrenamiento)\n",
        "rand.cv_results_['mean_test_score']"
      ]
    },
    {
      "cell_type": "code",
      "execution_count": null,
      "metadata": {
        "id": "9jObup1_ppL-",
        "outputId": "89adcafe-1a5c-4c45-8a14-57346d6693da"
      },
      "outputs": [
        {
          "name": "stdout",
          "output_type": "stream",
          "text": [
            "{'weights': 'distance', 'n_neighbors': 19, 'metric': 'manhattan', 'algorithm': 'brute'}\n",
            "0.6060201134853601\n"
          ]
        }
      ],
      "source": [
        "#Mejores hiperparametros\n",
        "print(rand.best_params_)\n",
        "#Mejor métrica\n",
        "print(rand.best_score_)"
      ]
    },
    {
      "cell_type": "code",
      "execution_count": null,
      "metadata": {
        "id": "ApGgK8dbpr86",
        "outputId": "16084bda-ad14-46b3-ec70-7227e48892e7"
      },
      "outputs": [
        {
          "data": {
            "text/plain": [
              "0.6060908637044433"
            ]
          },
          "execution_count": 140,
          "metadata": {},
          "output_type": "execute_result"
        }
      ],
      "source": [
        "#Mejor estimador\n",
        "best_knn=rand.best_estimator_\n",
        "\n",
        "#Predicción con mejor estimador\n",
        "y_pred=best_knn.predict(X_testeo)\n",
        "\n",
        "#Accuracy test\n",
        "accuracy_score(Y_testeo,y_pred)"
      ]
    },
    {
      "cell_type": "code",
      "execution_count": null,
      "metadata": {
        "id": "HMll4vugpz20",
        "outputId": "19155b2e-9dfc-42ff-8589-94e64f3913c8"
      },
      "outputs": [
        {
          "name": "stdout",
          "output_type": "stream",
          "text": [
            "              precision    recall  f1-score   support\n",
            "\n",
            "           0       0.61      0.59      0.60      5976\n",
            "           1       0.61      0.62      0.61      6042\n",
            "\n",
            "    accuracy                           0.61     12018\n",
            "   macro avg       0.61      0.61      0.61     12018\n",
            "weighted avg       0.61      0.61      0.61     12018\n",
            "\n"
          ]
        },
        {
          "data": {
            "text/plain": [
              "Text(50.722222222222214, 0.5, 'True')"
            ]
          },
          "execution_count": 141,
          "metadata": {},
          "output_type": "execute_result"
        },
        {
          "data": {
            "image/png": "[encoded data removed]",
            "text/plain": [
              "<Figure size 640x480 with 2 Axes>"
            ]
          },
          "metadata": {},
          "output_type": "display_data"
        }
      ],
      "source": [
        "from sklearn.metrics import confusion_matrix,classification_report\n",
        "\n",
        "#Reporte de Clasificación\n",
        "print(classification_report(Y_testeo,y_pred))\n",
        "\n",
        "#Matriz de Confusión\n",
        "cm = confusion_matrix(Y_testeo,y_pred)\n",
        "sns.heatmap(cm, cmap='Blues',annot=True,fmt='g')\n",
        "plt.xlabel('Predicted')\n",
        "plt.ylabel('True')"
      ]
    },
    {
      "cell_type": "markdown",
      "metadata": {
        "id": "GUOYil_dtoEV"
      },
      "source": [
        "### Kaggle"
      ]
    },
    {
      "cell_type": "code",
      "execution_count": null,
      "metadata": {
        "id": "zQG67Q1qtpnL"
      },
      "outputs": [],
      "source": [
        "ds_entrenamiento_kaggle = ds_training.copy(deep=True)\n",
        "X_entrenar_kaggle = ds_entrenamiento_kaggle.drop(columns=['id', \"is_canceled\"], axis=1)\n",
        "Y_entrenar_kaggle = ds_entrenamiento_kaggle[\"is_canceled\"]"
      ]
    },
    {
      "cell_type": "code",
      "execution_count": null,
      "metadata": {
        "id": "altf4b3AuYWq",
        "outputId": "dc60ddae-fb1e-45fc-b78d-e83d45cd1e34"
      },
      "outputs": [
        {
          "data": {
            "text/html": [
              "<style>#sk-container-id-4 {color: black;background-color: white;}#sk-container-id-4 pre{padding: 0;}#sk-container-id-4 div.sk-toggleable {background-color: white;}#sk-container-id-4 label.sk-toggleable__label {cursor: pointer;display: block;width: 100%;margin-bottom: 0;padding: 0.3em;box-sizing: border-box;text-align: center;}#sk-container-id-4 label.sk-toggleable__label-arrow:before {content: \"▸\";float: left;margin-right: 0.25em;color: #696969;}#sk-container-id-4 label.sk-toggleable__label-arrow:hover:before {color: black;}#sk-container-id-4 div.sk-estimator:hover label.sk-toggleable__label-arrow:before {color: black;}#sk-container-id-4 div.sk-toggleable__content {max-height: 0;max-width: 0;overflow: hidden;text-align: left;background-color: #f0f8ff;}#sk-container-id-4 div.sk-toggleable__content pre {margin: 0.2em;color: black;border-radius: 0.25em;background-color: #f0f8ff;}#sk-container-id-4 input.sk-toggleable__control:checked~div.sk-toggleable__content {max-height: 200px;max-width: 100%;overflow: auto;}#sk-container-id-4 input.sk-toggleable__control:checked~label.sk-toggleable__label-arrow:before {content: \"▾\";}#sk-container-id-4 div.sk-estimator input.sk-toggleable__control:checked~label.sk-toggleable__label {background-color: #d4ebff;}#sk-container-id-4 div.sk-label input.sk-toggleable__control:checked~label.sk-toggleable__label {background-color: #d4ebff;}#sk-container-id-4 input.sk-hidden--visually {border: 0;clip: rect(1px 1px 1px 1px);clip: rect(1px, 1px, 1px, 1px);height: 1px;margin: -1px;overflow: hidden;padding: 0;position: absolute;width: 1px;}#sk-container-id-4 div.sk-estimator {font-family: monospace;background-color: #f0f8ff;border: 1px dotted black;border-radius: 0.25em;box-sizing: border-box;margin-bottom: 0.5em;}#sk-container-id-4 div.sk-estimator:hover {background-color: #d4ebff;}#sk-container-id-4 div.sk-parallel-item::after {content: \"\";width: 100%;border-bottom: 1px solid gray;flex-grow: 1;}#sk-container-id-4 div.sk-label:hover label.sk-toggleable__label {background-color: #d4ebff;}#sk-container-id-4 div.sk-serial::before {content: \"\";position: absolute;border-left: 1px solid gray;box-sizing: border-box;top: 0;bottom: 0;left: 50%;z-index: 0;}#sk-container-id-4 div.sk-serial {display: flex;flex-direction: column;align-items: center;background-color: white;padding-right: 0.2em;padding-left: 0.2em;position: relative;}#sk-container-id-4 div.sk-item {position: relative;z-index: 1;}#sk-container-id-4 div.sk-parallel {display: flex;align-items: stretch;justify-content: center;background-color: white;position: relative;}#sk-container-id-4 div.sk-item::before, #sk-container-id-4 div.sk-parallel-item::before {content: \"\";position: absolute;border-left: 1px solid gray;box-sizing: border-box;top: 0;bottom: 0;left: 50%;z-index: -1;}#sk-container-id-4 div.sk-parallel-item {display: flex;flex-direction: column;z-index: 1;position: relative;background-color: white;}#sk-container-id-4 div.sk-parallel-item:first-child::after {align-self: flex-end;width: 50%;}#sk-container-id-4 div.sk-parallel-item:last-child::after {align-self: flex-start;width: 50%;}#sk-container-id-4 div.sk-parallel-item:only-child::after {width: 0;}#sk-container-id-4 div.sk-dashed-wrapped {border: 1px dashed gray;margin: 0 0.4em 0.5em 0.4em;box-sizing: border-box;padding-bottom: 0.4em;background-color: white;}#sk-container-id-4 div.sk-label label {font-family: monospace;font-weight: bold;display: inline-block;line-height: 1.2em;}#sk-container-id-4 div.sk-label-container {text-align: center;}#sk-container-id-4 div.sk-container {/* jupyter's `normalize.less` sets `[hidden] { display: none; }` but bootstrap.min.css set `[hidden] { display: none !important; }` so we also need the `!important` here to be able to override the default hidden behavior on the sphinx rendered scikit-learn.org. See: https://github.com/scikit-learn/scikit-learn/issues/21755 */display: inline-block !important;position: relative;}#sk-container-id-4 div.sk-text-repr-fallback {display: none;}</style><div id=\"sk-container-id-4\" class=\"sk-top-container\"><div class=\"sk-text-repr-fallback\"><pre>KNeighborsClassifier(algorithm=&#x27;brute&#x27;, metric=&#x27;manhattan&#x27;, n_neighbors=19,\n",
              "                     weights=&#x27;distance&#x27;)</pre><b>In a Jupyter environment, please rerun this cell to show the HTML representation or trust the notebook. <br />On GitHub, the HTML representation is unable to render, please try loading this page with nbviewer.org.</b></div><div class=\"sk-container\" hidden><div class=\"sk-item\"><div class=\"sk-estimator sk-toggleable\"><input class=\"sk-toggleable__control sk-hidden--visually\" id=\"sk-estimator-id-8\" type=\"checkbox\" checked><label for=\"sk-estimator-id-8\" class=\"sk-toggleable__label sk-toggleable__label-arrow\">KNeighborsClassifier</label><div class=\"sk-toggleable__content\"><pre>KNeighborsClassifier(algorithm=&#x27;brute&#x27;, metric=&#x27;manhattan&#x27;, n_neighbors=19,\n",
              "                     weights=&#x27;distance&#x27;)</pre></div></div></div></div></div>"
            ],
            "text/plain": [
              "KNeighborsClassifier(algorithm='brute', metric='manhattan', n_neighbors=19,\n",
              "                     weights='distance')"
            ]
          },
          "execution_count": 143,
          "metadata": {},
          "output_type": "execute_result"
        }
      ],
      "source": [
        "best_knn = KNeighborsClassifier(n_neighbors=best_knn.get_params()['n_neighbors'],\n",
        "                               weights=best_knn.get_params()['weights'],\n",
        "                               algorithm=best_knn.get_params()['algorithm'],\n",
        "                               metric=best_knn.get_params()['metric'])\n",
        "\n",
        "# Entrena el modelo con los datos de entrenamiento de Kaggle\n",
        "best_knn.fit(X_entrenar_kaggle, Y_entrenar_kaggle)"
      ]
    },
    {
      "cell_type": "code",
      "execution_count": null,
      "metadata": {
        "id": "tqFEOfWUufiy",
        "outputId": "7ec5ac73-f834-4fc5-8262-e367efa563e6"
      },
      "outputs": [
        {
          "name": "stderr",
          "output_type": "stream",
          "text": [
            "/tmp/ipykernel_29239/3994601148.py:2: ResourceWarning: unclosed file <_io.BufferedWriter name='./modelos/knn.pickle'>\n"
          ]
        }
      ],
      "source": [
        "nombre_archivo = \"./modelos/knn.pickle\"\n",
        "pickle.dump(best_knn, open(nombre_archivo, \"wb\"))"
      ]
    },
    {
      "cell_type": "code",
      "execution_count": null,
      "metadata": {
        "id": "0quBlNTBuq1p"
      },
      "outputs": [],
      "source": [
        "ds_testing_sinId = ds_testing_sinId.reindex(columns= X_entrenamiento.columns, fill_value = 0)"
      ]
    },
    {
      "cell_type": "code",
      "execution_count": null,
      "metadata": {
        "id": "qdY7hdVKu08E"
      },
      "outputs": [],
      "source": [
        "predicciones_kaggle = best_knn.predict(ds_testing_sinId)"
      ]
    },
    {
      "cell_type": "code",
      "execution_count": null,
      "metadata": {
        "id": "fa0LtbrFu-qu",
        "outputId": "7016c078-b416-47db-d44b-0d7a2d4c0747"
      },
      "outputs": [
        {
          "data": {
            "text/html": [
              "<div>\n",
              "<style scoped>\n",
              "    .dataframe tbody tr th:only-of-type {\n",
              "        vertical-align: middle;\n",
              "    }\n",
              "\n",
              "    .dataframe tbody tr th {\n",
              "        vertical-align: top;\n",
              "    }\n",
              "\n",
              "    .dataframe thead th {\n",
              "        text-align: right;\n",
              "    }\n",
              "</style>\n",
              "<table border=\"1\" class=\"dataframe\">\n",
              "  <thead>\n",
              "    <tr style=\"text-align: right;\">\n",
              "      <th></th>\n",
              "      <th>id</th>\n",
              "      <th>is_canceled</th>\n",
              "    </tr>\n",
              "  </thead>\n",
              "  <tbody>\n",
              "    <tr>\n",
              "      <th>0</th>\n",
              "      <td>e6d0d58a-ab96-44d3-b28f-85df1cc15f1e</td>\n",
              "      <td>1</td>\n",
              "    </tr>\n",
              "    <tr>\n",
              "      <th>1</th>\n",
              "      <td>aba9aac2-4495-4645-a60e-90328713c999</td>\n",
              "      <td>1</td>\n",
              "    </tr>\n",
              "    <tr>\n",
              "      <th>2</th>\n",
              "      <td>b345b5dc-c804-4d77-a39f-1f4e65d1f1ad</td>\n",
              "      <td>0</td>\n",
              "    </tr>\n",
              "    <tr>\n",
              "      <th>3</th>\n",
              "      <td>ce1b400e-afa1-4946-bdff-004b859eb61c</td>\n",
              "      <td>1</td>\n",
              "    </tr>\n",
              "    <tr>\n",
              "      <th>4</th>\n",
              "      <td>c4fbec0d-8e2e-4db2-9d4f-a6ccb9f51214</td>\n",
              "      <td>1</td>\n",
              "    </tr>\n",
              "  </tbody>\n",
              "</table>\n",
              "</div>"
            ],
            "text/plain": [
              "                                     id  is_canceled\n",
              "0  e6d0d58a-ab96-44d3-b28f-85df1cc15f1e            1\n",
              "1  aba9aac2-4495-4645-a60e-90328713c999            1\n",
              "2  b345b5dc-c804-4d77-a39f-1f4e65d1f1ad            0\n",
              "3  ce1b400e-afa1-4946-bdff-004b859eb61c            1\n",
              "4  c4fbec0d-8e2e-4db2-9d4f-a6ccb9f51214            1"
            ]
          },
          "execution_count": 147,
          "metadata": {},
          "output_type": "execute_result"
        }
      ],
      "source": [
        "ds_submit = pd.DataFrame({'id':ds_testing_conId['id'], 'is_canceled':predicciones_kaggle})\n",
        "ds_submit.head()"
      ]
    },
    {
      "cell_type": "code",
      "execution_count": null,
      "metadata": {
        "id": "27qylGzIvM06"
      },
      "outputs": [],
      "source": [
        "from pathlib import Path\n",
        "filepath = Path('submission/submit_knnV1.csv')\n",
        "ds_submit.to_csv(filepath, index=False)"
      ]
    },
    {
      "cell_type": "markdown",
      "metadata": {
        "id": "yXDkT64yEnis"
      },
      "source": [
        "## SVM sin PCA"
      ]
    },
    {
      "cell_type": "code",
      "execution_count": null,
      "metadata": {
        "id": "d6u6px_bHPb7"
      },
      "outputs": [],
      "source": [
        "#Imports\n",
        "from sklearn.preprocessing import StandardScaler\n",
        "from sklearn.decomposition import PCA\n",
        "from sklearn.pipeline import Pipeline\n",
        "import time"
      ]
    },
    {
      "cell_type": "code",
      "execution_count": null,
      "metadata": {
        "id": "1sJO4je1E7vy"
      },
      "outputs": [],
      "source": [
        "#Armo una version escalada con minmax (media=0 , var=1  )\n",
        "min_max_scaler = preprocessing.MinMaxScaler()\n",
        "X_entrenamiento_minmax = min_max_scaler.fit_transform(X_entrenamiento)\n",
        "X_testeo_minmax  = min_max_scaler.transform(X_testeo)\n",
        "\n",
        "#Armo una version estandarizada\n",
        "stand_scaler = preprocessing.StandardScaler()\n",
        "X_entrenamiento_norm = stand_scaler.fit_transform(X_entrenamiento)\n",
        "X_testeo_norm=stand_scaler.transform(X_testeo)"
      ]
    },
    {
      "cell_type": "code",
      "execution_count": null,
      "metadata": {
        "id": "KMCJOEwLJsCW"
      },
      "outputs": [],
      "source": [
        "#Construyo un modelo SVM\n",
        "svm = SVC()\n",
        "\n",
        "#Lo entreno con los datos sin escalar\n",
        "svm.fit(X_entrenamiento, Y_entrenamiento)\n",
        "\n",
        "#Hago la prediccion y calculo las métricas\n",
        "y_pred=svm.predict(X_testeo)\n",
        "metricas(y_pred,Y_testeo)"
      ]
    },
    {
      "cell_type": "code",
      "execution_count": null,
      "metadata": {
        "id": "IDjTwUl2KYEF"
      },
      "outputs": [],
      "source": [
        "#Construyo un modelo SVM\n",
        "svm_norm= SVC()\n",
        "\n",
        "#Lo entreno con los datos escalados con normalizacion\n",
        "svm_norm.fit(X_entrenamiento_norm, Y_entrenamiento)\n",
        "\n",
        "#Hago la prediccion y calculo las métricas\n",
        "y_pred_norm=svm_norm.predict(X_testeo_norm)\n",
        "metricas(y_pred_norm,Y_testeo)"
      ]
    },
    {
      "cell_type": "code",
      "execution_count": null,
      "metadata": {
        "id": "KzQq-mUSKkHh"
      },
      "outputs": [],
      "source": [
        "#Construyo un modelo SVM\n",
        "svm_minmax= SVC()\n",
        "\n",
        "#Lo entreno con los datos escalados con min max\n",
        "svm_minmax.fit(X_entrenamiento_minmax, Y_entrenamiento)\n",
        "\n",
        "#Hago la prediccion y calculo las métricas\n",
        "y_pred_minmax=svm_minmax.predict(X_testeo_minmax)\n",
        "metricas(y_pred_minmax,Y_testeo)"
      ]
    },
    {
      "cell_type": "markdown",
      "metadata": {
        "id": "kFRK3hmQKsV5"
      },
      "source": [
        "## SVM con PCA"
      ]
    },
    {
      "cell_type": "code",
      "execution_count": null,
      "metadata": {
        "colab": {
          "base_uri": "https://localhost:8080/",
          "height": 199
        },
        "id": "3lQ9u3g6HU10",
        "outputId": "120be119-8fae-4baa-e3b7-c5440713a959"
      },
      "outputs": [
        {
          "ename": "NameError",
          "evalue": "name 'PCA' is not defined",
          "output_type": "error",
          "traceback": [
            "\u001b[0;31m---------------------------------------------------------------------------\u001b[0m",
            "\u001b[0;31mNameError\u001b[0m                                 Traceback (most recent call last)",
            "\u001b[1;32m/home/iara/Descargas/CHP3/7506R_TP1_GRUPO05_CHP3_ENTREGA.ipynb Cell 52\u001b[0m line \u001b[0;36m4\n\u001b[1;32m      <a href='vscode-notebook-cell:/home/iara/Descargas/CHP3/7506R_TP1_GRUPO05_CHP3_ENTREGA.ipynb#Y100sZmlsZQ%3D%3D?line=0'>1</a>\u001b[0m sc \u001b[39m=\u001b[39m StandardScaler()\n\u001b[1;32m      <a href='vscode-notebook-cell:/home/iara/Descargas/CHP3/7506R_TP1_GRUPO05_CHP3_ENTREGA.ipynb#Y100sZmlsZQ%3D%3D?line=1'>2</a>\u001b[0m x_train_scaled \u001b[39m=\u001b[39m sc\u001b[39m.\u001b[39mfit_transform(X_entrenamiento)\n\u001b[0;32m----> <a href='vscode-notebook-cell:/home/iara/Descargas/CHP3/7506R_TP1_GRUPO05_CHP3_ENTREGA.ipynb#Y100sZmlsZQ%3D%3D?line=3'>4</a>\u001b[0m pca \u001b[39m=\u001b[39m PCA(n_components \u001b[39m=\u001b[39m \u001b[39mNone\u001b[39;00m)\n\u001b[1;32m      <a href='vscode-notebook-cell:/home/iara/Descargas/CHP3/7506R_TP1_GRUPO05_CHP3_ENTREGA.ipynb#Y100sZmlsZQ%3D%3D?line=4'>5</a>\u001b[0m pca\u001b[39m.\u001b[39mfit(x_train_scaled)\n",
            "\u001b[0;31mNameError\u001b[0m: name 'PCA' is not defined"
          ]
        }
      ],
      "source": [
        "sc = StandardScaler()\n",
        "x_train_scaled = sc.fit_transform(X_entrenamiento)\n",
        "\n",
        "pca = PCA(n_components = None)\n",
        "pca.fit(x_train_scaled)\n"
      ]
    },
    {
      "cell_type": "code",
      "execution_count": null,
      "metadata": {
        "colab": {
          "base_uri": "https://localhost:8080/"
        },
        "id": "Tk0BC2tWHkMg",
        "outputId": "6a9b1288-2dd7-4c63-ec1d-08bddca7d235"
      },
      "outputs": [
        {
          "name": "stderr",
          "output_type": "stream",
          "text": [
            "/usr/local/lib/python3.10/dist-packages/ipykernel/ipkernel.py:283: DeprecationWarning: `should_run_async` will not call `transform_cell` automatically in the future. Please pass the result to `transformed_cell` argument and any exception that happen during thetransform in `preprocessing_exc_tuple` in IPython 7.17 and above.\n"
          ]
        }
      ],
      "source": [
        "componentes = len(pca.explained_variance_ratio_)"
      ]
    },
    {
      "cell_type": "code",
      "execution_count": null,
      "metadata": {
        "colab": {
          "base_uri": "https://localhost:8080/",
          "height": 504
        },
        "id": "dzW9d1seK2yk",
        "outputId": "8d8c9b7e-9fda-4529-ec3d-c16d75fac97d"
      },
      "outputs": [
        {
          "name": "stderr",
          "output_type": "stream",
          "text": [
            "/usr/local/lib/python3.10/dist-packages/ipykernel/ipkernel.py:283: DeprecationWarning: `should_run_async` will not call `transform_cell` automatically in the future. Please pass the result to `transformed_cell` argument and any exception that happen during thetransform in `preprocessing_exc_tuple` in IPython 7.17 and above.\n"
          ]
        },
        {
          "data": {
            "text/plain": [
              "Text(0, 0.5, 'Varianza Explicada (%)')"
            ]
          },
          "execution_count": 24,
          "metadata": {},
          "output_type": "execute_result"
        },
        {
          "data": {
            "image/png": "[encoded data removed]",
            "text/plain": [
              "<Figure size 640x480 with 1 Axes>"
            ]
          },
          "metadata": {},
          "output_type": "display_data"
        }
      ],
      "source": [
        "#Graficamos la Varianza\n",
        "plt.plot(range(1,componentes+1), np.cumsum(pca.explained_variance_ratio_ * 100))\n",
        "plt.xlabel(\"Numero de componentes\")\n",
        "plt.ylabel(\"Varianza Explicada (%)\")"
      ]
    },
    {
      "cell_type": "code",
      "execution_count": null,
      "metadata": {
        "colab": {
          "base_uri": "https://localhost:8080/"
        },
        "id": "qInJI1yyLRxP",
        "outputId": "df80e231-39ba-4ee5-f831-1c4499bffc10"
      },
      "outputs": [
        {
          "name": "stderr",
          "output_type": "stream",
          "text": [
            "/usr/local/lib/python3.10/dist-packages/ipykernel/ipkernel.py:283: DeprecationWarning: `should_run_async` will not call `transform_cell` automatically in the future. Please pass the result to `transformed_cell` argument and any exception that happen during thetransform in `preprocessing_exc_tuple` in IPython 7.17 and above.\n"
          ]
        }
      ],
      "source": [
        "acumulated_variance_ratio = np.cumsum(pca.explained_variance_ratio_ * 100)\n",
        "indices_superadores = {}\n",
        "for porcentaje in [5,10,15,20,25,30,35,50,90]:\n",
        "    indices_superadores[porcentaje] = np.searchsorted(acumulated_variance_ratio, porcentaje) + 1"
      ]
    },
    {
      "cell_type": "code",
      "execution_count": null,
      "metadata": {
        "colab": {
          "base_uri": "https://localhost:8080/"
        },
        "id": "g7puIj9DLJty",
        "outputId": "61f468b2-72d9-44d7-8661-f3886859c1f4"
      },
      "outputs": [
        {
          "name": "stdout",
          "output_type": "stream",
          "text": [
            "Podemos ver en el grafico que:\n",
            "Se alcanza a cubrir el 5 % de la varianza con las primeras 3 variabes\n",
            "Se alcanza a cubrir el 10 % de la varianza con las primeras 8 variabes\n",
            "Se alcanza a cubrir el 15 % de la varianza con las primeras 13 variabes\n",
            "Se alcanza a cubrir el 20 % de la varianza con las primeras 21 variabes\n",
            "Se alcanza a cubrir el 25 % de la varianza con las primeras 30 variabes\n",
            "Se alcanza a cubrir el 30 % de la varianza con las primeras 40 variabes\n",
            "Se alcanza a cubrir el 35 % de la varianza con las primeras 50 variabes\n",
            "Se alcanza a cubrir el 50 % de la varianza con las primeras 79 variabes\n",
            "Se alcanza a cubrir el 90 % de la varianza con las primeras 158 variabes\n"
          ]
        },
        {
          "name": "stderr",
          "output_type": "stream",
          "text": [
            "/usr/local/lib/python3.10/dist-packages/ipykernel/ipkernel.py:283: DeprecationWarning: `should_run_async` will not call `transform_cell` automatically in the future. Please pass the result to `transformed_cell` argument and any exception that happen during thetransform in `preprocessing_exc_tuple` in IPython 7.17 and above.\n"
          ]
        }
      ],
      "source": [
        "print(\"Podemos ver en el grafico que:\")\n",
        "for porcentaje in indices_superadores:\n",
        "    indice_superador = indices_superadores[porcentaje]\n",
        "    print(\"Se alcanza a cubrir el\", porcentaje,\"% de la varianza con las primeras\",indice_superador, \"variabes\")"
      ]
    },
    {
      "cell_type": "code",
      "execution_count": null,
      "metadata": {
        "colab": {
          "base_uri": "https://localhost:8080/",
          "height": 643
        },
        "id": "Ei1AFJFAL5wO",
        "outputId": "247b81ac-728e-42d6-b796-ac4afece298d"
      },
      "outputs": [
        {
          "name": "stderr",
          "output_type": "stream",
          "text": [
            "/usr/local/lib/python3.10/dist-packages/ipykernel/ipkernel.py:283: DeprecationWarning: `should_run_async` will not call `transform_cell` automatically in the future. Please pass the result to `transformed_cell` argument and any exception that happen during thetransform in `preprocessing_exc_tuple` in IPython 7.17 and above.\n"
          ]
        },
        {
          "name": "stdout",
          "output_type": "stream",
          "text": [
            "              precision    recall  f1-score   support\n",
            "\n",
            "           0       0.76      0.79      0.77      5976\n",
            "           1       0.78      0.76      0.77      6042\n",
            "\n",
            "    accuracy                           0.77     12018\n",
            "   macro avg       0.77      0.77      0.77     12018\n",
            "weighted avg       0.77      0.77      0.77     12018\n",
            "\n"
          ]
        },
        {
          "data": {
            "image/png": "[encoded data removed]",
            "text/plain": [
              "<Figure size 640x480 with 2 Axes>"
            ]
          },
          "metadata": {},
          "output_type": "display_data"
        }
      ],
      "source": [
        "from sklearn.pipeline import Pipeline\n",
        "\n",
        "#Defino el tipo de escalado, la transformacion PCA y el modelo\n",
        "_sc = StandardScaler()\n",
        "_pca = PCA(n_components = 6)\n",
        "_model = SVC()\n",
        "\n",
        "#Creo un pipeline\n",
        "svm_model = Pipeline([\n",
        "    ('std_scaler', _sc),\n",
        "    ('pca', _pca),\n",
        "    ('svm', _model)\n",
        "])\n",
        "\n",
        "#Entreno sobre los datos que serán previamente escalados y transformados\n",
        "svm_model.fit(X_entrenamiento,Y_entrenamiento)\n",
        "\n",
        "#Hago la predicción y calculo las métricas\n",
        "y_pred_pca=svm_model.predict(X_testeo)\n",
        "metricas(y_pred_pca,Y_testeo)"
      ]
    },
    {
      "cell_type": "markdown",
      "metadata": {
        "id": "5qEqQ53zPCvs"
      },
      "source": [
        "Kaggle:"
      ]
    },
    {
      "cell_type": "code",
      "execution_count": null,
      "metadata": {
        "id": "o_EBFUSku-aG"
      },
      "outputs": [],
      "source": [
        "y_pred_svc_kaggle = svm_model.predict(ds_testing_sinId)"
      ]
    },
    {
      "cell_type": "code",
      "execution_count": null,
      "metadata": {
        "id": "d60FX6j3u-aG"
      },
      "outputs": [],
      "source": [
        "ds_submit = pd.DataFrame({'id':ds_testing_conId['id'], 'is_canceled':y_pred_svc_kaggle})\n",
        "ds_submit.head()"
      ]
    },
    {
      "cell_type": "code",
      "execution_count": null,
      "metadata": {
        "id": "smUvCS6tu-aH"
      },
      "outputs": [],
      "source": [
        "from pathlib import Path\n",
        "filepath = Path('submission/submit_svc_pcaV1.csv')\n",
        "ds_submit.to_csv(filepath, index=False)"
      ]
    },
    {
      "cell_type": "markdown",
      "metadata": {
        "id": "39uh4Ks2MQV7"
      },
      "source": [
        "### Probamos con distintos Kernels"
      ]
    },
    {
      "cell_type": "markdown",
      "metadata": {
        "id": "Rr6_EFPlMd7H"
      },
      "source": [
        "Lineal:"
      ]
    },
    {
      "cell_type": "code",
      "execution_count": null,
      "metadata": {
        "colab": {
          "base_uri": "https://localhost:8080/"
        },
        "id": "OOYYlHSHMT0P",
        "outputId": "3d72b06a-fb37-4c84-b55f-24b2793c870a"
      },
      "outputs": [
        {
          "name": "stderr",
          "output_type": "stream",
          "text": [
            "/usr/local/lib/python3.10/dist-packages/ipykernel/ipkernel.py:283: DeprecationWarning: `should_run_async` will not call `transform_cell` automatically in the future. Please pass the result to `transformed_cell` argument and any exception that happen during thetransform in `preprocessing_exc_tuple` in IPython 7.17 and above.\n"
          ]
        }
      ],
      "source": [
        "#Creo un clasificador con kernel lineal y lo entreno sobre los datos escalados min-max\n",
        "clf = SVC(kernel='linear', C=5)\n",
        "clf.fit(X_entrenamiento_minmax, Y_entrenamiento)\n",
        "\n",
        "#Hago la predicción y calculo las métricas\n",
        "y_pred_lin=clf.predict(X_testeo_minmax)\n",
        "metricas(y_pred_lin,Y_testeo)"
      ]
    },
    {
      "cell_type": "markdown",
      "metadata": {
        "id": "f1rSFwffMe18"
      },
      "source": [
        "Polinomico:"
      ]
    },
    {
      "cell_type": "code",
      "execution_count": null,
      "metadata": {
        "id": "tTj1TRt5MfqB"
      },
      "outputs": [],
      "source": [
        "#Creo un clasificador con kernel polinomico y lo entreno sobre los datos escalados min-max\n",
        "clf = SVC(kernel='poly', C=5, degree=10, gamma=10, coef0=10)\n",
        "clf.fit(X_entrenamento_minmax, Y_entrenamiento)\n",
        "\n",
        "#Hago la predicción y calculo las métricas\n",
        "y_pred_pol=clf.predict(X_testeo_minmax)\n",
        "metricas(y_pred_pol,Y_testeo)"
      ]
    },
    {
      "cell_type": "markdown",
      "metadata": {
        "id": "muTZw5J6Mltz"
      },
      "source": [
        "Radial:"
      ]
    },
    {
      "cell_type": "code",
      "execution_count": null,
      "metadata": {
        "id": "iPcCyO2jMmcx"
      },
      "outputs": [],
      "source": [
        "#Creo un clasificador con kernel radial y lo entreno sobre los datos escalados min-max\n",
        "clf = SVC(kernel='rbf', C=5, gamma=10)\n",
        "clf.fit(X_entrenamiento_minmax, Y_entrenamiento)\n",
        "\n",
        "#Hago la predicción y calculo las métricas\n",
        "y_pred_rad=clf.predict(X_testeo_minmax)\n",
        "metricas(y_pred_rad,Y_testeo)"
      ]
    },
    {
      "cell_type": "markdown",
      "metadata": {
        "id": "Wh1s11R9u-aI"
      },
      "source": [
        "## Random Forest"
      ]
    },
    {
      "cell_type": "code",
      "execution_count": 29,
      "metadata": {
        "id": "JyWVereUu-aI"
      },
      "outputs": [],
      "source": [
        "scorer = make_scorer(f1_score)"
      ]
    },
    {
      "cell_type": "code",
      "execution_count": 46,
      "metadata": {
        "id": "7Y00RfpAu-aI"
      },
      "outputs": [],
      "source": [
        "rf = RandomForestClassifier(random_state=1, n_jobs=-1)\n",
        "\n",
        "param = {\n",
        "    \"n_estimators\": [100, 200, 300],\n",
        "    \"criterion\": [\"gini\", \"entropy\"],\n",
        "    \"max_depth\": [None, 10, 20, 30],\n",
        "    \"min_samples_split\": [2, 5, 10],\n",
        "    \"min_samples_leaf\": [1, 2, 4],\n",
        "    \"max_features\": [\"auto\", \"sqrt\", \"log2\"],\n",
        "}\n",
        "\n",
        "rs = RandomizedSearchCV(estimator=rf, param_distributions=param, scoring=scorer, cv=5, n_iter=10, random_state=1)"
      ]
    },
    {
      "cell_type": "code",
      "execution_count": 47,
      "metadata": {
        "id": "5HsPnBHiu-aI",
        "outputId": "1e6a4ffd-d001-481c-c5ee-7fdda0e9dc96"
      },
      "outputs": [
        {
          "name": "stderr",
          "output_type": "stream",
          "text": [
            "/usr/lib64/python3.11/site-packages/sklearn/ensemble/_forest.py:427: FutureWarning: `max_features='auto'` has been deprecated in 1.1 and will be removed in 1.3. To keep the past behaviour, explicitly set `max_features='sqrt'` or remove this parameter as it is also the default value for RandomForestClassifiers and ExtraTreesClassifiers.\n",
            "/usr/lib64/python3.11/site-packages/sklearn/ensemble/_forest.py:427: FutureWarning: `max_features='auto'` has been deprecated in 1.1 and will be removed in 1.3. To keep the past behaviour, explicitly set `max_features='sqrt'` or remove this parameter as it is also the default value for RandomForestClassifiers and ExtraTreesClassifiers.\n",
            "/usr/lib64/python3.11/site-packages/sklearn/ensemble/_forest.py:427: FutureWarning: `max_features='auto'` has been deprecated in 1.1 and will be removed in 1.3. To keep the past behaviour, explicitly set `max_features='sqrt'` or remove this parameter as it is also the default value for RandomForestClassifiers and ExtraTreesClassifiers.\n",
            "/usr/lib64/python3.11/site-packages/sklearn/ensemble/_forest.py:427: FutureWarning: `max_features='auto'` has been deprecated in 1.1 and will be removed in 1.3. To keep the past behaviour, explicitly set `max_features='sqrt'` or remove this parameter as it is also the default value for RandomForestClassifiers and ExtraTreesClassifiers.\n",
            "/usr/lib64/python3.11/site-packages/sklearn/ensemble/_forest.py:427: FutureWarning: `max_features='auto'` has been deprecated in 1.1 and will be removed in 1.3. To keep the past behaviour, explicitly set `max_features='sqrt'` or remove this parameter as it is also the default value for RandomForestClassifiers and ExtraTreesClassifiers.\n"
          ]
        },
        {
          "data": {
            "text/html": [
              "<style>#sk-container-id-3 {color: black;background-color: white;}#sk-container-id-3 pre{padding: 0;}#sk-container-id-3 div.sk-toggleable {background-color: white;}#sk-container-id-3 label.sk-toggleable__label {cursor: pointer;display: block;width: 100%;margin-bottom: 0;padding: 0.3em;box-sizing: border-box;text-align: center;}#sk-container-id-3 label.sk-toggleable__label-arrow:before {content: \"▸\";float: left;margin-right: 0.25em;color: #696969;}#sk-container-id-3 label.sk-toggleable__label-arrow:hover:before {color: black;}#sk-container-id-3 div.sk-estimator:hover label.sk-toggleable__label-arrow:before {color: black;}#sk-container-id-3 div.sk-toggleable__content {max-height: 0;max-width: 0;overflow: hidden;text-align: left;background-color: #f0f8ff;}#sk-container-id-3 div.sk-toggleable__content pre {margin: 0.2em;color: black;border-radius: 0.25em;background-color: #f0f8ff;}#sk-container-id-3 input.sk-toggleable__control:checked~div.sk-toggleable__content {max-height: 200px;max-width: 100%;overflow: auto;}#sk-container-id-3 input.sk-toggleable__control:checked~label.sk-toggleable__label-arrow:before {content: \"▾\";}#sk-container-id-3 div.sk-estimator input.sk-toggleable__control:checked~label.sk-toggleable__label {background-color: #d4ebff;}#sk-container-id-3 div.sk-label input.sk-toggleable__control:checked~label.sk-toggleable__label {background-color: #d4ebff;}#sk-container-id-3 input.sk-hidden--visually {border: 0;clip: rect(1px 1px 1px 1px);clip: rect(1px, 1px, 1px, 1px);height: 1px;margin: -1px;overflow: hidden;padding: 0;position: absolute;width: 1px;}#sk-container-id-3 div.sk-estimator {font-family: monospace;background-color: #f0f8ff;border: 1px dotted black;border-radius: 0.25em;box-sizing: border-box;margin-bottom: 0.5em;}#sk-container-id-3 div.sk-estimator:hover {background-color: #d4ebff;}#sk-container-id-3 div.sk-parallel-item::after {content: \"\";width: 100%;border-bottom: 1px solid gray;flex-grow: 1;}#sk-container-id-3 div.sk-label:hover label.sk-toggleable__label {background-color: #d4ebff;}#sk-container-id-3 div.sk-serial::before {content: \"\";position: absolute;border-left: 1px solid gray;box-sizing: border-box;top: 0;bottom: 0;left: 50%;z-index: 0;}#sk-container-id-3 div.sk-serial {display: flex;flex-direction: column;align-items: center;background-color: white;padding-right: 0.2em;padding-left: 0.2em;position: relative;}#sk-container-id-3 div.sk-item {position: relative;z-index: 1;}#sk-container-id-3 div.sk-parallel {display: flex;align-items: stretch;justify-content: center;background-color: white;position: relative;}#sk-container-id-3 div.sk-item::before, #sk-container-id-3 div.sk-parallel-item::before {content: \"\";position: absolute;border-left: 1px solid gray;box-sizing: border-box;top: 0;bottom: 0;left: 50%;z-index: -1;}#sk-container-id-3 div.sk-parallel-item {display: flex;flex-direction: column;z-index: 1;position: relative;background-color: white;}#sk-container-id-3 div.sk-parallel-item:first-child::after {align-self: flex-end;width: 50%;}#sk-container-id-3 div.sk-parallel-item:last-child::after {align-self: flex-start;width: 50%;}#sk-container-id-3 div.sk-parallel-item:only-child::after {width: 0;}#sk-container-id-3 div.sk-dashed-wrapped {border: 1px dashed gray;margin: 0 0.4em 0.5em 0.4em;box-sizing: border-box;padding-bottom: 0.4em;background-color: white;}#sk-container-id-3 div.sk-label label {font-family: monospace;font-weight: bold;display: inline-block;line-height: 1.2em;}#sk-container-id-3 div.sk-label-container {text-align: center;}#sk-container-id-3 div.sk-container {/* jupyter's `normalize.less` sets `[hidden] { display: none; }` but bootstrap.min.css set `[hidden] { display: none !important; }` so we also need the `!important` here to be able to override the default hidden behavior on the sphinx rendered scikit-learn.org. See: https://github.com/scikit-learn/scikit-learn/issues/21755 */display: inline-block !important;position: relative;}#sk-container-id-3 div.sk-text-repr-fallback {display: none;}</style><div id=\"sk-container-id-3\" class=\"sk-top-container\"><div class=\"sk-text-repr-fallback\"><pre>RandomizedSearchCV(cv=5,\n",
              "                   estimator=RandomForestClassifier(n_jobs=-1, random_state=1),\n",
              "                   param_distributions={&#x27;criterion&#x27;: [&#x27;gini&#x27;, &#x27;entropy&#x27;],\n",
              "                                        &#x27;max_depth&#x27;: [None, 10, 20, 30],\n",
              "                                        &#x27;max_features&#x27;: [&#x27;auto&#x27;, &#x27;sqrt&#x27;,\n",
              "                                                         &#x27;log2&#x27;],\n",
              "                                        &#x27;min_samples_leaf&#x27;: [1, 2, 4],\n",
              "                                        &#x27;min_samples_split&#x27;: [2, 5, 10],\n",
              "                                        &#x27;n_estimators&#x27;: [100, 200, 300]},\n",
              "                   random_state=1, scoring=make_scorer(f1_score))</pre><b>In a Jupyter environment, please rerun this cell to show the HTML representation or trust the notebook. <br />On GitHub, the HTML representation is unable to render, please try loading this page with nbviewer.org.</b></div><div class=\"sk-container\" hidden><div class=\"sk-item sk-dashed-wrapped\"><div class=\"sk-label-container\"><div class=\"sk-label sk-toggleable\"><input class=\"sk-toggleable__control sk-hidden--visually\" id=\"sk-estimator-id-5\" type=\"checkbox\" ><label for=\"sk-estimator-id-5\" class=\"sk-toggleable__label sk-toggleable__label-arrow\">RandomizedSearchCV</label><div class=\"sk-toggleable__content\"><pre>RandomizedSearchCV(cv=5,\n",
              "                   estimator=RandomForestClassifier(n_jobs=-1, random_state=1),\n",
              "                   param_distributions={&#x27;criterion&#x27;: [&#x27;gini&#x27;, &#x27;entropy&#x27;],\n",
              "                                        &#x27;max_depth&#x27;: [None, 10, 20, 30],\n",
              "                                        &#x27;max_features&#x27;: [&#x27;auto&#x27;, &#x27;sqrt&#x27;,\n",
              "                                                         &#x27;log2&#x27;],\n",
              "                                        &#x27;min_samples_leaf&#x27;: [1, 2, 4],\n",
              "                                        &#x27;min_samples_split&#x27;: [2, 5, 10],\n",
              "                                        &#x27;n_estimators&#x27;: [100, 200, 300]},\n",
              "                   random_state=1, scoring=make_scorer(f1_score))</pre></div></div></div><div class=\"sk-parallel\"><div class=\"sk-parallel-item\"><div class=\"sk-item\"><div class=\"sk-label-container\"><div class=\"sk-label sk-toggleable\"><input class=\"sk-toggleable__control sk-hidden--visually\" id=\"sk-estimator-id-6\" type=\"checkbox\" ><label for=\"sk-estimator-id-6\" class=\"sk-toggleable__label sk-toggleable__label-arrow\">estimator: RandomForestClassifier</label><div class=\"sk-toggleable__content\"><pre>RandomForestClassifier(n_jobs=-1, random_state=1)</pre></div></div></div><div class=\"sk-serial\"><div class=\"sk-item\"><div class=\"sk-estimator sk-toggleable\"><input class=\"sk-toggleable__control sk-hidden--visually\" id=\"sk-estimator-id-7\" type=\"checkbox\" ><label for=\"sk-estimator-id-7\" class=\"sk-toggleable__label sk-toggleable__label-arrow\">RandomForestClassifier</label><div class=\"sk-toggleable__content\"><pre>RandomForestClassifier(n_jobs=-1, random_state=1)</pre></div></div></div></div></div></div></div></div></div></div>"
            ],
            "text/plain": [
              "RandomizedSearchCV(cv=5,\n",
              "                   estimator=RandomForestClassifier(n_jobs=-1, random_state=1),\n",
              "                   param_distributions={'criterion': ['gini', 'entropy'],\n",
              "                                        'max_depth': [None, 10, 20, 30],\n",
              "                                        'max_features': ['auto', 'sqrt',\n",
              "                                                         'log2'],\n",
              "                                        'min_samples_leaf': [1, 2, 4],\n",
              "                                        'min_samples_split': [2, 5, 10],\n",
              "                                        'n_estimators': [100, 200, 300]},\n",
              "                   random_state=1, scoring=make_scorer(f1_score))"
            ]
          },
          "execution_count": 47,
          "metadata": {},
          "output_type": "execute_result"
        }
      ],
      "source": [
        "rs.fit(X_entrenamiento, Y_entrenamiento)"
      ]
    },
    {
      "cell_type": "code",
      "execution_count": 32,
      "metadata": {
        "id": "9CgHB1ouu-aI",
        "outputId": "60d1126d-9116-4e3e-e81d-bdcdb1997c7a"
      },
      "outputs": [
        {
          "name": "stdout",
          "output_type": "stream",
          "text": [
            "RandomForestClassifier(criterion='entropy', max_features='log2',\n",
            "                       n_estimators=300, n_jobs=-1, random_state=1)\n"
          ]
        }
      ],
      "source": [
        "print(rs.best_estimator_)"
      ]
    },
    {
      "cell_type": "code",
      "execution_count": 33,
      "metadata": {
        "id": "OxL55iK8u-aI",
        "outputId": "9fd5f6f2-06a2-4953-f6c1-7bd191c2479e"
      },
      "outputs": [
        {
          "name": "stdout",
          "output_type": "stream",
          "text": [
            "Mejor Score:  0.8793790779190255\n"
          ]
        }
      ],
      "source": [
        "print(\"Mejor Score: \", rs.best_score_)"
      ]
    },
    {
      "cell_type": "code",
      "execution_count": 34,
      "metadata": {
        "id": "XipFBoZ3u-aI"
      },
      "outputs": [],
      "source": [
        "rf_best = rs.best_estimator_\n",
        "\n",
        "y_pred =rf_best.predict(X_testeo)"
      ]
    },
    {
      "cell_type": "code",
      "execution_count": 35,
      "metadata": {
        "id": "WrxyNaQvu-aJ",
        "outputId": "98f113db-7855-47a7-dbf7-75de31b902d0"
      },
      "outputs": [
        {
          "name": "stdout",
          "output_type": "stream",
          "text": [
            "Accuracy: 87.74%\n"
          ]
        }
      ],
      "source": [
        "accuracy = accuracy_score(Y_testeo, y_pred)\n",
        "print(\"Accuracy: %.2f%%\" % (accuracy * 100.0))"
      ]
    },
    {
      "cell_type": "code",
      "execution_count": 36,
      "metadata": {},
      "outputs": [
        {
          "name": "stdout",
          "output_type": "stream",
          "text": [
            "F1: 87.83%\n"
          ]
        }
      ],
      "source": [
        "f1 = f1_score(Y_testeo, y_pred)\n",
        "print(\"F1: %.2f%%\" % (f1 * 100.0))"
      ]
    },
    {
      "cell_type": "code",
      "execution_count": 37,
      "metadata": {
        "id": "08fNuyTQu-aJ",
        "outputId": "a21d67f3-2de7-40de-9595-dc02ad443ece"
      },
      "outputs": [
        {
          "name": "stdout",
          "output_type": "stream",
          "text": [
            "              precision    recall  f1-score   support\n",
            "\n",
            "           0       0.88      0.88      0.88      5976\n",
            "           1       0.88      0.88      0.88      6042\n",
            "\n",
            "    accuracy                           0.88     12018\n",
            "   macro avg       0.88      0.88      0.88     12018\n",
            "weighted avg       0.88      0.88      0.88     12018\n",
            "\n"
          ]
        },
        {
          "data": {
            "image/png": "[encoded data removed]",
            "text/plain": [
              "<Figure size 640x480 with 2 Axes>"
            ]
          },
          "metadata": {},
          "output_type": "display_data"
        }
      ],
      "source": [
        "metricas(y_pred,Y_testeo)"
      ]
    },
    {
      "cell_type": "code",
      "execution_count": 39,
      "metadata": {
        "id": "c20D0p6nu-aJ",
        "outputId": "3d153935-a388-4c5a-8677-04c3c4f8fae2"
      },
      "outputs": [
        {
          "name": "stderr",
          "output_type": "stream",
          "text": [
            "/tmp/ipykernel_45013/3382621166.py:3: ResourceWarning: unclosed file <_io.BufferedWriter name='./modelos/rf_full_best2.pickle'>\n"
          ]
        }
      ],
      "source": [
        "##Exportamos pickle\n",
        "nombre_archivo = \"./modelos/rf_full_best2.pickle\"\n",
        "pickle.dump(rf_best, open(nombre_archivo, \"wb\"))"
      ]
    },
    {
      "cell_type": "markdown",
      "metadata": {
        "id": "2NWBpvwZu-aJ"
      },
      "source": [
        "### Kaggle"
      ]
    },
    {
      "cell_type": "code",
      "execution_count": 40,
      "metadata": {
        "id": "jAB1S8iJu-aK"
      },
      "outputs": [],
      "source": [
        "ds_testing_sinId = ds_testing_sinId.reindex(columns=X_entrenamiento.columns, fill_value=0)"
      ]
    },
    {
      "cell_type": "code",
      "execution_count": 41,
      "metadata": {
        "id": "TE4bKddAu-aK",
        "outputId": "33774b30-9f7b-4891-c0f9-60db43c3102c"
      },
      "outputs": [],
      "source": [
        "y_pred_kaggle_rf = rf_best.predict(ds_testing_sinId)"
      ]
    },
    {
      "cell_type": "code",
      "execution_count": 42,
      "metadata": {
        "id": "LGCRzjnlu-aK",
        "outputId": "18e79ee2-c80d-454f-c826-655332139f11"
      },
      "outputs": [
        {
          "data": {
            "text/html": [
              "<div>\n",
              "<style scoped>\n",
              "    .dataframe tbody tr th:only-of-type {\n",
              "        vertical-align: middle;\n",
              "    }\n",
              "\n",
              "    .dataframe tbody tr th {\n",
              "        vertical-align: top;\n",
              "    }\n",
              "\n",
              "    .dataframe thead th {\n",
              "        text-align: right;\n",
              "    }\n",
              "</style>\n",
              "<table border=\"1\" class=\"dataframe\">\n",
              "  <thead>\n",
              "    <tr style=\"text-align: right;\">\n",
              "      <th></th>\n",
              "      <th>id</th>\n",
              "      <th>is_canceled</th>\n",
              "    </tr>\n",
              "  </thead>\n",
              "  <tbody>\n",
              "    <tr>\n",
              "      <th>0</th>\n",
              "      <td>e6d0d58a-ab96-44d3-b28f-85df1cc15f1e</td>\n",
              "      <td>1</td>\n",
              "    </tr>\n",
              "    <tr>\n",
              "      <th>1</th>\n",
              "      <td>aba9aac2-4495-4645-a60e-90328713c999</td>\n",
              "      <td>1</td>\n",
              "    </tr>\n",
              "    <tr>\n",
              "      <th>2</th>\n",
              "      <td>b345b5dc-c804-4d77-a39f-1f4e65d1f1ad</td>\n",
              "      <td>0</td>\n",
              "    </tr>\n",
              "    <tr>\n",
              "      <th>3</th>\n",
              "      <td>ce1b400e-afa1-4946-bdff-004b859eb61c</td>\n",
              "      <td>1</td>\n",
              "    </tr>\n",
              "    <tr>\n",
              "      <th>4</th>\n",
              "      <td>c4fbec0d-8e2e-4db2-9d4f-a6ccb9f51214</td>\n",
              "      <td>1</td>\n",
              "    </tr>\n",
              "  </tbody>\n",
              "</table>\n",
              "</div>"
            ],
            "text/plain": [
              "                                     id  is_canceled\n",
              "0  e6d0d58a-ab96-44d3-b28f-85df1cc15f1e            1\n",
              "1  aba9aac2-4495-4645-a60e-90328713c999            1\n",
              "2  b345b5dc-c804-4d77-a39f-1f4e65d1f1ad            0\n",
              "3  ce1b400e-afa1-4946-bdff-004b859eb61c            1\n",
              "4  c4fbec0d-8e2e-4db2-9d4f-a6ccb9f51214            1"
            ]
          },
          "execution_count": 42,
          "metadata": {},
          "output_type": "execute_result"
        }
      ],
      "source": [
        "ds_submit = pd.DataFrame({'id':ds_testing_conId['id'], 'is_canceled':y_pred_kaggle_rf})\n",
        "ds_submit.head()"
      ]
    },
    {
      "cell_type": "code",
      "execution_count": 43,
      "metadata": {
        "id": "ayF3R-bSu-aK"
      },
      "outputs": [],
      "source": [
        "from pathlib import Path\n",
        "filepath = Path('submission/submit_rfV2.csv')\n",
        "ds_submit.to_csv(filepath, index=False)"
      ]
    },
    {
      "cell_type": "markdown",
      "metadata": {
        "id": "aEc2s-eHvzDP"
      },
      "source": [
        "## XGBoost"
      ]
    },
    {
      "cell_type": "code",
      "execution_count": 21,
      "metadata": {
        "colab": {
          "base_uri": "https://localhost:8080/",
          "height": 372
        },
        "id": "OnO-dJd1wYfr",
        "outputId": "c15753e7-4da2-4006-800f-d4d18f1b1157"
      },
      "outputs": [
        {
          "data": {
            "text/html": [
              "<style>#sk-container-id-1 {color: black;background-color: white;}#sk-container-id-1 pre{padding: 0;}#sk-container-id-1 div.sk-toggleable {background-color: white;}#sk-container-id-1 label.sk-toggleable__label {cursor: pointer;display: block;width: 100%;margin-bottom: 0;padding: 0.3em;box-sizing: border-box;text-align: center;}#sk-container-id-1 label.sk-toggleable__label-arrow:before {content: \"▸\";float: left;margin-right: 0.25em;color: #696969;}#sk-container-id-1 label.sk-toggleable__label-arrow:hover:before {color: black;}#sk-container-id-1 div.sk-estimator:hover label.sk-toggleable__label-arrow:before {color: black;}#sk-container-id-1 div.sk-toggleable__content {max-height: 0;max-width: 0;overflow: hidden;text-align: left;background-color: #f0f8ff;}#sk-container-id-1 div.sk-toggleable__content pre {margin: 0.2em;color: black;border-radius: 0.25em;background-color: #f0f8ff;}#sk-container-id-1 input.sk-toggleable__control:checked~div.sk-toggleable__content {max-height: 200px;max-width: 100%;overflow: auto;}#sk-container-id-1 input.sk-toggleable__control:checked~label.sk-toggleable__label-arrow:before {content: \"▾\";}#sk-container-id-1 div.sk-estimator input.sk-toggleable__control:checked~label.sk-toggleable__label {background-color: #d4ebff;}#sk-container-id-1 div.sk-label input.sk-toggleable__control:checked~label.sk-toggleable__label {background-color: #d4ebff;}#sk-container-id-1 input.sk-hidden--visually {border: 0;clip: rect(1px 1px 1px 1px);clip: rect(1px, 1px, 1px, 1px);height: 1px;margin: -1px;overflow: hidden;padding: 0;position: absolute;width: 1px;}#sk-container-id-1 div.sk-estimator {font-family: monospace;background-color: #f0f8ff;border: 1px dotted black;border-radius: 0.25em;box-sizing: border-box;margin-bottom: 0.5em;}#sk-container-id-1 div.sk-estimator:hover {background-color: #d4ebff;}#sk-container-id-1 div.sk-parallel-item::after {content: \"\";width: 100%;border-bottom: 1px solid gray;flex-grow: 1;}#sk-container-id-1 div.sk-label:hover label.sk-toggleable__label {background-color: #d4ebff;}#sk-container-id-1 div.sk-serial::before {content: \"\";position: absolute;border-left: 1px solid gray;box-sizing: border-box;top: 0;bottom: 0;left: 50%;z-index: 0;}#sk-container-id-1 div.sk-serial {display: flex;flex-direction: column;align-items: center;background-color: white;padding-right: 0.2em;padding-left: 0.2em;position: relative;}#sk-container-id-1 div.sk-item {position: relative;z-index: 1;}#sk-container-id-1 div.sk-parallel {display: flex;align-items: stretch;justify-content: center;background-color: white;position: relative;}#sk-container-id-1 div.sk-item::before, #sk-container-id-1 div.sk-parallel-item::before {content: \"\";position: absolute;border-left: 1px solid gray;box-sizing: border-box;top: 0;bottom: 0;left: 50%;z-index: -1;}#sk-container-id-1 div.sk-parallel-item {display: flex;flex-direction: column;z-index: 1;position: relative;background-color: white;}#sk-container-id-1 div.sk-parallel-item:first-child::after {align-self: flex-end;width: 50%;}#sk-container-id-1 div.sk-parallel-item:last-child::after {align-self: flex-start;width: 50%;}#sk-container-id-1 div.sk-parallel-item:only-child::after {width: 0;}#sk-container-id-1 div.sk-dashed-wrapped {border: 1px dashed gray;margin: 0 0.4em 0.5em 0.4em;box-sizing: border-box;padding-bottom: 0.4em;background-color: white;}#sk-container-id-1 div.sk-label label {font-family: monospace;font-weight: bold;display: inline-block;line-height: 1.2em;}#sk-container-id-1 div.sk-label-container {text-align: center;}#sk-container-id-1 div.sk-container {/* jupyter's `normalize.less` sets `[hidden] { display: none; }` but bootstrap.min.css set `[hidden] { display: none !important; }` so we also need the `!important` here to be able to override the default hidden behavior on the sphinx rendered scikit-learn.org. See: https://github.com/scikit-learn/scikit-learn/issues/21755 */display: inline-block !important;position: relative;}#sk-container-id-1 div.sk-text-repr-fallback {display: none;}</style><div id=\"sk-container-id-1\" class=\"sk-top-container\"><div class=\"sk-text-repr-fallback\"><pre>XGBClassifier(base_score=None, booster=None, callbacks=None,\n",
              "              colsample_bylevel=None, colsample_bynode=None,\n",
              "              colsample_bytree=None, device=None, early_stopping_rounds=None,\n",
              "              enable_categorical=False, eval_metric=None, feature_types=None,\n",
              "              gamma=None, grow_policy=None, importance_type=None,\n",
              "              interaction_constraints=None, learning_rate=None, max_bin=None,\n",
              "              max_cat_threshold=None, max_cat_to_onehot=None,\n",
              "              max_delta_step=None, max_depth=None, max_leaves=None,\n",
              "              min_child_weight=None, missing=nan, monotone_constraints=None,\n",
              "              multi_strategy=None, n_estimators=100, n_jobs=None,\n",
              "              num_parallel_tree=None, random_state=0, ...)</pre><b>In a Jupyter environment, please rerun this cell to show the HTML representation or trust the notebook. <br />On GitHub, the HTML representation is unable to render, please try loading this page with nbviewer.org.</b></div><div class=\"sk-container\" hidden><div class=\"sk-item\"><div class=\"sk-estimator sk-toggleable\"><input class=\"sk-toggleable__control sk-hidden--visually\" id=\"sk-estimator-id-1\" type=\"checkbox\" checked><label for=\"sk-estimator-id-1\" class=\"sk-toggleable__label sk-toggleable__label-arrow\">XGBClassifier</label><div class=\"sk-toggleable__content\"><pre>XGBClassifier(base_score=None, booster=None, callbacks=None,\n",
              "              colsample_bylevel=None, colsample_bynode=None,\n",
              "              colsample_bytree=None, device=None, early_stopping_rounds=None,\n",
              "              enable_categorical=False, eval_metric=None, feature_types=None,\n",
              "              gamma=None, grow_policy=None, importance_type=None,\n",
              "              interaction_constraints=None, learning_rate=None, max_bin=None,\n",
              "              max_cat_threshold=None, max_cat_to_onehot=None,\n",
              "              max_delta_step=None, max_depth=None, max_leaves=None,\n",
              "              min_child_weight=None, missing=nan, monotone_constraints=None,\n",
              "              multi_strategy=None, n_estimators=100, n_jobs=None,\n",
              "              num_parallel_tree=None, random_state=0, ...)</pre></div></div></div></div></div>"
            ],
            "text/plain": [
              "XGBClassifier(base_score=None, booster=None, callbacks=None,\n",
              "              colsample_bylevel=None, colsample_bynode=None,\n",
              "              colsample_bytree=None, device=None, early_stopping_rounds=None,\n",
              "              enable_categorical=False, eval_metric=None, feature_types=None,\n",
              "              gamma=None, grow_policy=None, importance_type=None,\n",
              "              interaction_constraints=None, learning_rate=None, max_bin=None,\n",
              "              max_cat_threshold=None, max_cat_to_onehot=None,\n",
              "              max_delta_step=None, max_depth=None, max_leaves=None,\n",
              "              min_child_weight=None, missing=nan, monotone_constraints=None,\n",
              "              multi_strategy=None, n_estimators=100, n_jobs=None,\n",
              "              num_parallel_tree=None, random_state=0, ...)"
            ]
          },
          "execution_count": 21,
          "metadata": {},
          "output_type": "execute_result"
        }
      ],
      "source": [
        "#Creo el modelo y lo entreno\n",
        "\n",
        "import xgboost as xgb\n",
        "\n",
        "xgb_model = xgb.XGBClassifier(random_state=0, n_estimators=100)\n",
        "xgb_model.fit(X_entrenamiento, Y_entrenamiento)"
      ]
    },
    {
      "cell_type": "code",
      "execution_count": 22,
      "metadata": {
        "colab": {
          "base_uri": "https://localhost:8080/",
          "height": 660
        },
        "id": "UVnLDcrnxCbR",
        "outputId": "855ff683-2a5d-405e-b8c1-5da61f3f8f3c"
      },
      "outputs": [
        {
          "name": "stdout",
          "output_type": "stream",
          "text": [
            "AUC: 0.9489499845348514\n",
            "              precision    recall  f1-score   support\n",
            "\n",
            "           0       0.88      0.85      0.86      5976\n",
            "           1       0.86      0.88      0.87      6042\n",
            "\n",
            "    accuracy                           0.87     12018\n",
            "   macro avg       0.87      0.87      0.87     12018\n",
            "weighted avg       0.87      0.87      0.87     12018\n",
            "\n"
          ]
        },
        {
          "data": {
            "image/png": "[encoded data removed]",
            "text/plain": [
              "<Figure size 640x480 with 2 Axes>"
            ]
          },
          "metadata": {},
          "output_type": "display_data"
        }
      ],
      "source": [
        "#Evaluo en el set de test\n",
        "y_pred_proba= xgb_model.predict_proba(X_testeo)[:, 1]\n",
        "print('AUC:',roc_auc_score(Y_testeo, y_pred_proba))\n",
        "\n",
        "#Matriz de Confusion\n",
        "y_pred=xgb_model.predict(X_testeo)\n",
        "\n",
        "cm = confusion_matrix(Y_testeo,y_pred)\n",
        "sns.heatmap(cm, cmap='Blues',annot=True,fmt='g')\n",
        "plt.xlabel('Predicted')\n",
        "plt.ylabel('True')\n",
        "\n",
        "#Reporte\n",
        "print(classification_report(Y_testeo,y_pred))"
      ]
    },
    {
      "cell_type": "code",
      "execution_count": 23,
      "metadata": {
        "colab": {
          "base_uri": "https://localhost:8080/",
          "height": 337
        },
        "id": "IMJyBUuayJep",
        "outputId": "b5116ac7-5e00-4aec-94da-b58dfc372acc"
      },
      "outputs": [
        {
          "data": {
            "text/html": [
              "<div>\n",
              "<style scoped>\n",
              "    .dataframe tbody tr th:only-of-type {\n",
              "        vertical-align: middle;\n",
              "    }\n",
              "\n",
              "    .dataframe tbody tr th {\n",
              "        vertical-align: top;\n",
              "    }\n",
              "\n",
              "    .dataframe thead th {\n",
              "        text-align: right;\n",
              "    }\n",
              "</style>\n",
              "<table border=\"1\" class=\"dataframe\">\n",
              "  <thead>\n",
              "    <tr style=\"text-align: right;\">\n",
              "      <th></th>\n",
              "      <th>train-auc-mean</th>\n",
              "      <th>train-auc-std</th>\n",
              "      <th>test-auc-mean</th>\n",
              "      <th>test-auc-std</th>\n",
              "    </tr>\n",
              "  </thead>\n",
              "  <tbody>\n",
              "    <tr>\n",
              "      <th>0</th>\n",
              "      <td>0.895245</td>\n",
              "      <td>0.000574</td>\n",
              "      <td>0.893588</td>\n",
              "      <td>0.001462</td>\n",
              "    </tr>\n",
              "    <tr>\n",
              "      <th>1</th>\n",
              "      <td>0.899305</td>\n",
              "      <td>0.001515</td>\n",
              "      <td>0.898014</td>\n",
              "      <td>0.001765</td>\n",
              "    </tr>\n",
              "    <tr>\n",
              "      <th>2</th>\n",
              "      <td>0.901217</td>\n",
              "      <td>0.000887</td>\n",
              "      <td>0.899547</td>\n",
              "      <td>0.000825</td>\n",
              "    </tr>\n",
              "    <tr>\n",
              "      <th>3</th>\n",
              "      <td>0.904345</td>\n",
              "      <td>0.001639</td>\n",
              "      <td>0.902607</td>\n",
              "      <td>0.002061</td>\n",
              "    </tr>\n",
              "    <tr>\n",
              "      <th>4</th>\n",
              "      <td>0.907011</td>\n",
              "      <td>0.002502</td>\n",
              "      <td>0.905126</td>\n",
              "      <td>0.003042</td>\n",
              "    </tr>\n",
              "    <tr>\n",
              "      <th>5</th>\n",
              "      <td>0.909467</td>\n",
              "      <td>0.001327</td>\n",
              "      <td>0.907788</td>\n",
              "      <td>0.001808</td>\n",
              "    </tr>\n",
              "    <tr>\n",
              "      <th>6</th>\n",
              "      <td>0.911507</td>\n",
              "      <td>0.001705</td>\n",
              "      <td>0.909744</td>\n",
              "      <td>0.001463</td>\n",
              "    </tr>\n",
              "    <tr>\n",
              "      <th>7</th>\n",
              "      <td>0.913817</td>\n",
              "      <td>0.000829</td>\n",
              "      <td>0.912088</td>\n",
              "      <td>0.001504</td>\n",
              "    </tr>\n",
              "  </tbody>\n",
              "</table>\n",
              "</div>"
            ],
            "text/plain": [
              "   train-auc-mean  train-auc-std  test-auc-mean  test-auc-std\n",
              "0        0.895245       0.000574       0.893588      0.001462\n",
              "1        0.899305       0.001515       0.898014      0.001765\n",
              "2        0.901217       0.000887       0.899547      0.000825\n",
              "3        0.904345       0.001639       0.902607      0.002061\n",
              "4        0.907011       0.002502       0.905126      0.003042\n",
              "5        0.909467       0.001327       0.907788      0.001808\n",
              "6        0.911507       0.001705       0.909744      0.001463\n",
              "7        0.913817       0.000829       0.912088      0.001504"
            ]
          },
          "execution_count": 23,
          "metadata": {},
          "output_type": "execute_result"
        }
      ],
      "source": [
        "#Datos de entrenamiento en formaro DMatrix\n",
        "data_dmatrix = xgb.DMatrix(data=X_entrenamiento, label=Y_entrenamiento)\n",
        "\n",
        "#Entreno CV para probar el learning rate\n",
        "results=xgb.cv(dtrain=data_dmatrix,nfold=5,params={'learning_rate':0.1},num_boost_round=8,metrics='auc')\n",
        "results"
      ]
    },
    {
      "cell_type": "code",
      "execution_count": 24,
      "metadata": {
        "colab": {
          "base_uri": "https://localhost:8080/",
          "height": 337
        },
        "id": "_VrbA5aTydk4",
        "outputId": "95ce8802-9be0-4fd8-add5-d6c86608d0e1"
      },
      "outputs": [
        {
          "data": {
            "text/html": [
              "<div>\n",
              "<style scoped>\n",
              "    .dataframe tbody tr th:only-of-type {\n",
              "        vertical-align: middle;\n",
              "    }\n",
              "\n",
              "    .dataframe tbody tr th {\n",
              "        vertical-align: top;\n",
              "    }\n",
              "\n",
              "    .dataframe thead th {\n",
              "        text-align: right;\n",
              "    }\n",
              "</style>\n",
              "<table border=\"1\" class=\"dataframe\">\n",
              "  <thead>\n",
              "    <tr style=\"text-align: right;\">\n",
              "      <th></th>\n",
              "      <th>train-auc-mean</th>\n",
              "      <th>train-auc-std</th>\n",
              "      <th>test-auc-mean</th>\n",
              "      <th>test-auc-std</th>\n",
              "    </tr>\n",
              "  </thead>\n",
              "  <tbody>\n",
              "    <tr>\n",
              "      <th>0</th>\n",
              "      <td>0.895245</td>\n",
              "      <td>0.000574</td>\n",
              "      <td>0.893588</td>\n",
              "      <td>0.001462</td>\n",
              "    </tr>\n",
              "    <tr>\n",
              "      <th>1</th>\n",
              "      <td>0.901247</td>\n",
              "      <td>0.001036</td>\n",
              "      <td>0.899953</td>\n",
              "      <td>0.001376</td>\n",
              "    </tr>\n",
              "    <tr>\n",
              "      <th>2</th>\n",
              "      <td>0.908063</td>\n",
              "      <td>0.001569</td>\n",
              "      <td>0.906553</td>\n",
              "      <td>0.001454</td>\n",
              "    </tr>\n",
              "    <tr>\n",
              "      <th>3</th>\n",
              "      <td>0.911540</td>\n",
              "      <td>0.001665</td>\n",
              "      <td>0.909752</td>\n",
              "      <td>0.002487</td>\n",
              "    </tr>\n",
              "    <tr>\n",
              "      <th>4</th>\n",
              "      <td>0.914103</td>\n",
              "      <td>0.001293</td>\n",
              "      <td>0.912407</td>\n",
              "      <td>0.001599</td>\n",
              "    </tr>\n",
              "    <tr>\n",
              "      <th>5</th>\n",
              "      <td>0.918285</td>\n",
              "      <td>0.001991</td>\n",
              "      <td>0.916305</td>\n",
              "      <td>0.001979</td>\n",
              "    </tr>\n",
              "    <tr>\n",
              "      <th>6</th>\n",
              "      <td>0.920275</td>\n",
              "      <td>0.001101</td>\n",
              "      <td>0.917917</td>\n",
              "      <td>0.001494</td>\n",
              "    </tr>\n",
              "    <tr>\n",
              "      <th>7</th>\n",
              "      <td>0.922968</td>\n",
              "      <td>0.001008</td>\n",
              "      <td>0.920454</td>\n",
              "      <td>0.001943</td>\n",
              "    </tr>\n",
              "  </tbody>\n",
              "</table>\n",
              "</div>"
            ],
            "text/plain": [
              "   train-auc-mean  train-auc-std  test-auc-mean  test-auc-std\n",
              "0        0.895245       0.000574       0.893588      0.001462\n",
              "1        0.901247       0.001036       0.899953      0.001376\n",
              "2        0.908063       0.001569       0.906553      0.001454\n",
              "3        0.911540       0.001665       0.909752      0.002487\n",
              "4        0.914103       0.001293       0.912407      0.001599\n",
              "5        0.918285       0.001991       0.916305      0.001979\n",
              "6        0.920275       0.001101       0.917917      0.001494\n",
              "7        0.922968       0.001008       0.920454      0.001943"
            ]
          },
          "execution_count": 24,
          "metadata": {},
          "output_type": "execute_result"
        }
      ],
      "source": [
        "#Entreno CV para probar el learning rate mas alto\n",
        "results=xgb.cv(dtrain=data_dmatrix,nfold=5,params={'learning_rate':0.2},num_boost_round=8,metrics='auc',seed=0)\n",
        "results"
      ]
    },
    {
      "cell_type": "markdown",
      "metadata": {
        "id": "uyy88kxByoVp"
      },
      "source": [
        "### Kaggle"
      ]
    },
    {
      "cell_type": "code",
      "execution_count": 25,
      "metadata": {},
      "outputs": [],
      "source": [
        "ds_testing_sinId = ds_testing_sinId.reindex(columns=X_entrenamiento.columns, fill_value=0)"
      ]
    },
    {
      "cell_type": "code",
      "execution_count": 26,
      "metadata": {},
      "outputs": [],
      "source": [
        "y_pred_xgb_kaggle = xgb_model.predict(ds_testing_sinId)"
      ]
    },
    {
      "cell_type": "code",
      "execution_count": 27,
      "metadata": {},
      "outputs": [
        {
          "data": {
            "text/html": [
              "<div>\n",
              "<style scoped>\n",
              "    .dataframe tbody tr th:only-of-type {\n",
              "        vertical-align: middle;\n",
              "    }\n",
              "\n",
              "    .dataframe tbody tr th {\n",
              "        vertical-align: top;\n",
              "    }\n",
              "\n",
              "    .dataframe thead th {\n",
              "        text-align: right;\n",
              "    }\n",
              "</style>\n",
              "<table border=\"1\" class=\"dataframe\">\n",
              "  <thead>\n",
              "    <tr style=\"text-align: right;\">\n",
              "      <th></th>\n",
              "      <th>id</th>\n",
              "      <th>is_canceled</th>\n",
              "    </tr>\n",
              "  </thead>\n",
              "  <tbody>\n",
              "    <tr>\n",
              "      <th>0</th>\n",
              "      <td>e6d0d58a-ab96-44d3-b28f-85df1cc15f1e</td>\n",
              "      <td>1</td>\n",
              "    </tr>\n",
              "    <tr>\n",
              "      <th>1</th>\n",
              "      <td>aba9aac2-4495-4645-a60e-90328713c999</td>\n",
              "      <td>1</td>\n",
              "    </tr>\n",
              "    <tr>\n",
              "      <th>2</th>\n",
              "      <td>b345b5dc-c804-4d77-a39f-1f4e65d1f1ad</td>\n",
              "      <td>0</td>\n",
              "    </tr>\n",
              "    <tr>\n",
              "      <th>3</th>\n",
              "      <td>ce1b400e-afa1-4946-bdff-004b859eb61c</td>\n",
              "      <td>1</td>\n",
              "    </tr>\n",
              "    <tr>\n",
              "      <th>4</th>\n",
              "      <td>c4fbec0d-8e2e-4db2-9d4f-a6ccb9f51214</td>\n",
              "      <td>1</td>\n",
              "    </tr>\n",
              "  </tbody>\n",
              "</table>\n",
              "</div>"
            ],
            "text/plain": [
              "                                     id  is_canceled\n",
              "0  e6d0d58a-ab96-44d3-b28f-85df1cc15f1e            1\n",
              "1  aba9aac2-4495-4645-a60e-90328713c999            1\n",
              "2  b345b5dc-c804-4d77-a39f-1f4e65d1f1ad            0\n",
              "3  ce1b400e-afa1-4946-bdff-004b859eb61c            1\n",
              "4  c4fbec0d-8e2e-4db2-9d4f-a6ccb9f51214            1"
            ]
          },
          "execution_count": 27,
          "metadata": {},
          "output_type": "execute_result"
        }
      ],
      "source": [
        "ds_submit = pd.DataFrame({'id':ds_testing_conId['id'], 'is_canceled':y_pred_xgb_kaggle})\n",
        "ds_submit.head()"
      ]
    },
    {
      "cell_type": "code",
      "execution_count": 28,
      "metadata": {},
      "outputs": [],
      "source": [
        "from pathlib import Path\n",
        "filepath = Path('submission/submit_xgbV1.csv')\n",
        "ds_submit.to_csv(filepath, index=False)"
      ]
    }
  ],
  "metadata": {
    "colab": {
      "include_colab_link": true,
      "provenance": []
    },
    "kernelspec": {
      "display_name": "Python 3",
      "name": "python3"
    },
    "language_info": {
      "codemirror_mode": {
        "name": "ipython",
        "version": 3
      },
      "file_extension": ".py",
      "mimetype": "text/x-python",
      "name": "python",
      "nbconvert_exporter": "python",
      "pygments_lexer": "ipython3",
      "version": "3.11.5"
    }
  },
  "nbformat": 4,
  "nbformat_minor": 0
}
